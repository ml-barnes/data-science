{
 "cells": [
  {
   "cell_type": "markdown",
   "metadata": {},
   "source": [
    "# Python Tutorial 2"
   ]
  },
  {
   "cell_type": "markdown",
   "metadata": {},
   "source": [
    "## Python Classes/Objects"
   ]
  },
  {
   "cell_type": "markdown",
   "metadata": {},
   "source": [
    "Python is an object oriented language. To define a class in Python you need to use the class statement. The name of the class immediately follows the keyword class."
   ]
  },
  {
   "cell_type": "code",
   "execution_count": 1,
   "metadata": {
    "collapsed": true
   },
   "outputs": [],
   "source": [
    "class Employee:\n",
    "    'Common base class for all employees'   #documentation string\n",
    "    empCount = 0\n",
    "\n",
    "    def __init__(self, name, salary):  #constructor\n",
    "        self.name = name\n",
    "        self.salary = salary\n",
    "        Employee.empCount += 1\n",
    "\n",
    "    def displayCount(self):          #method\n",
    "        print(\"Total Employee %d\" % Employee.empCount)\n",
    "\n",
    "    def displayEmployee(self):       #another method\n",
    "        print(\"Name: \", self.name,  \", Salary: \", self.salary)"
   ]
  },
  {
   "cell_type": "markdown",
   "metadata": {},
   "source": [
    "There are several points worth mention about the previous code snippet:\n",
    "\n",
    "- The class has a documentation string on the first line after the Class name, which can be accessed via `ClassName.__doc__`.\n",
    "\n",
    "- The variable `empCount` is a class variable whose value is shared among all instances of a class. The value of this variable can be accessed as `Employee.empCount` from inside the class or outside the class.\n",
    "\n",
    "- The first method `__init__` is a special method, which is called a class constructor. It is the initialization method that Python calls when you create a new instance of the class.\n",
    "\n",
    "- You declare other class methods like normal functions with the exception that the first argument to each method is `self`. When you call a method of a class instance, Python adds the `self` argument to the list for you. `self` represents the instance object automatically which is passed to the class instance's method when called, to identify the instance that called it. `self` is used to access other attributes or methods of the object from inside the method as for instance `self.name`. The `self` in Python is equivalent to the `self` pointer in C++ and the `this` reference in Java and C#."
   ]
  },
  {
   "cell_type": "markdown",
   "metadata": {},
   "source": [
    "### Creating Instance Objects"
   ]
  },
  {
   "cell_type": "markdown",
   "metadata": {},
   "source": [
    "To create instances of a class, you call the class using the class name and pass in whatever arguments its `__init__` method accepts."
   ]
  },
  {
   "cell_type": "code",
   "execution_count": 2,
   "metadata": {
    "collapsed": true
   },
   "outputs": [],
   "source": [
    "#This instantiates first object of Employee class\n",
    "emp1 = Employee(\"Peter\", 3000)\n",
    "#This instantiates second object of Employee class\n",
    "emp2 = Employee(\"John\", 4000)"
   ]
  },
  {
   "cell_type": "markdown",
   "metadata": {},
   "source": [
    "### Calling instance methods and Accessing Attributes "
   ]
  },
  {
   "cell_type": "code",
   "execution_count": 3,
   "metadata": {
    "scrolled": true
   },
   "outputs": [
    {
     "name": "stdout",
     "output_type": "stream",
     "text": [
      "Name:  Peter , Salary:  3000\n",
      "Name:  John , Salary:  4000\n",
      "Total number of Employee class instantiated: 2\n",
      "Peter 37\n",
      "False\n",
      "True\n"
     ]
    }
   ],
   "source": [
    "emp1.displayEmployee() #call instance method\n",
    "emp2.displayEmployee() #call same method in a different instance\n",
    "print(\"Total number of Employee class instantiated: %d\" % Employee.empCount) #display class variable\n",
    "emp1.age = 37  # Add an 'age' attribute.\n",
    "print(emp1.name, emp1.age) #call instance attribute\n",
    "del(emp1.age) # Delete 'age' attribute.\n",
    "print(hasattr(emp1, 'age'))    # Returns true if 'age' attribute exists\n",
    "print(hasattr(emp2, 'name'))    # Returns true if 'age' attribute exists"
   ]
  },
  {
   "cell_type": "markdown",
   "metadata": {},
   "source": [
    "### Built-In Class Attributes"
   ]
  },
  {
   "cell_type": "markdown",
   "metadata": {},
   "source": [
    "Every Python class keeps the following built-in attributes which can be accessed using dot operator like any other attribute"
   ]
  },
  {
   "cell_type": "code",
   "execution_count": 17,
   "metadata": {},
   "outputs": [
    {
     "name": "stdout",
     "output_type": "stream",
     "text": [
      "{'name': 'Peter', 'salary': 3000}\n",
      "Common base class for all employees\n",
      "Employee\n",
      "__main__\n"
     ]
    }
   ],
   "source": [
    "print(emp1.__dict__) # Dictionary containing the class's namespace\n",
    "print(emp1.__doc__) #Class documentation string or none, if undefined.\n",
    "print(emp1.__class__.__name__) #Class name.\n",
    "print(emp1.__module__) #Module (library) name in which the class is defined. This attribute is \"__main__\" in interactive mode."
   ]
  },
  {
   "cell_type": "markdown",
   "metadata": {},
   "source": [
    "### Class Inheritance"
   ]
  },
  {
   "cell_type": "markdown",
   "metadata": {},
   "source": [
    "Instead of starting from scratch, you can create a class by deriving it from a preexisting class by listing the parent class in parentheses after the new class name.\n",
    "\n",
    "The child class inherits the attributes of its parent class, and you can use those attributes as if they were defined in the child class. A child class can also override data members and methods from the parent.\n",
    "\n",
    "Derived classes are declared much like their parent class; however, a list of base classes to inherit from is given after the class name "
   ]
  },
  {
   "cell_type": "code",
   "execution_count": 2,
   "metadata": {},
   "outputs": [
    {
     "name": "stdout",
     "output_type": "stream",
     "text": [
      "Calling parent constructor\n",
      "Calling child constructor\n",
      "------------\n",
      "Calling child method\n",
      "Calling parent method\n",
      "Parent attribute : 200\n"
     ]
    }
   ],
   "source": [
    "class Parent:        # define parent class\n",
    "    parentAttr = 100\n",
    "    def __init__(self):\n",
    "        print(\"Calling parent constructor\")\n",
    "\n",
    "    def parentMethod(self):\n",
    "        print('Calling parent method')\n",
    "\n",
    "    def setAttr(self, attr):\n",
    "        Parent.parentAttr = attr\n",
    "\n",
    "    def getAttr(self):\n",
    "        print(\"Parent attribute :\", Parent.parentAttr)\n",
    "\n",
    "class Child(Parent): # define child class which inherits from Parent\n",
    "    def __init__(self):\n",
    "        super().__init__() #Calling parent class constructor\n",
    "        print(\"Calling child constructor\")\n",
    "\n",
    "    def childMethod(self):\n",
    "        print('Calling child method')\n",
    "\n",
    "c = Child()          # instance of child\n",
    "print(\"------------\")\n",
    "c.childMethod()      # child calls its method\n",
    "c.parentMethod()     # calls parent's method\n",
    "c.setAttr(200)       # again call parent's method\n",
    "c.getAttr()          # again call parent's method"
   ]
  },
  {
   "cell_type": "markdown",
   "metadata": {},
   "source": [
    "### Method and Operator Overloading"
   ]
  },
  {
   "cell_type": "markdown",
   "metadata": {},
   "source": [
    "You can always override your parent class methods. One reason for overriding parent's methods is because you may want special or different functionality in your subclass."
   ]
  },
  {
   "cell_type": "code",
   "execution_count": 3,
   "metadata": {},
   "outputs": [
    {
     "name": "stdout",
     "output_type": "stream",
     "text": [
      "Calling child method\n"
     ]
    }
   ],
   "source": [
    "class Parent:        # define parent class\n",
    "    def myMethod(self):\n",
    "        print('Calling parent method')\n",
    "\n",
    "class Child(Parent): # define child class\n",
    "    def myMethod(self): # override parent method\n",
    "        print('Calling child method')\n",
    "\n",
    "c = Child()          # instance of child\n",
    "c.myMethod()         # child calls overridden method"
   ]
  },
  {
   "cell_type": "markdown",
   "metadata": {},
   "source": [
    "A generic functionality that you can override your own classes is the built-in `__str__` method which is a printable string representation of the class as we will see in the next example. \n",
    "\n",
    "Operators can also be overridden. Suppose you have created a `Vector` class to represent two-dimensional vectors. You could define the `__add__` method in your class to perform vector addition and then the plus operator would behave as you have defined īt within the `__add__` method.\n",
    "\n",
    "![](./images/vectorAddition.png)"
   ]
  },
  {
   "cell_type": "code",
   "execution_count": 4,
   "metadata": {},
   "outputs": [
    {
     "name": "stdout",
     "output_type": "stream",
     "text": [
      "Vector (5, 7)\n"
     ]
    }
   ],
   "source": [
    "class Vector:\n",
    "    def __init__(self, x, y):\n",
    "        self.x = x\n",
    "        self.y = y\n",
    "\n",
    "    def __str__(self): #Print method overloading\n",
    "        return('Vector (%d, %d)' % (self.x, self.y))\n",
    "\n",
    "    def __add__(self,other): #plus operator overloading\n",
    "        return Vector(self.x + other.x, self.y + other.y)\n",
    "\n",
    "a = Vector(4,2)\n",
    "b = Vector(1,5)\n",
    "c=a+b # we use the plus operator which has been overloaded by the vector class implementation\n",
    "print(c) # the vector class also overloaded the print method"
   ]
  },
  {
   "cell_type": "markdown",
   "metadata": {},
   "source": [
    "### Data Hiding"
   ]
  },
  {
   "cell_type": "markdown",
   "metadata": {},
   "source": [
    "Sometimes you might want to hide the object’s attributes outside the class definition. For that, you can use double underscore `__` before the attribute name and that attribute will not be directly visible outside the class."
   ]
  },
  {
   "cell_type": "code",
   "execution_count": 5,
   "metadata": {},
   "outputs": [
    {
     "name": "stdout",
     "output_type": "stream",
     "text": [
      "1\n",
      "2\n",
      "Hey there!\n"
     ]
    },
    {
     "ename": "AttributeError",
     "evalue": "'JustCounter' object has no attribute '__secretCount'",
     "output_type": "error",
     "traceback": [
      "\u001b[1;31m---------------------------------------------------------------------------\u001b[0m",
      "\u001b[1;31mAttributeError\u001b[0m                            Traceback (most recent call last)",
      "\u001b[1;32m<ipython-input-5-418028c5bc37>\u001b[0m in \u001b[0;36m<module>\u001b[1;34m()\u001b[0m\n\u001b[0;32m     11\u001b[0m \u001b[0mcounter\u001b[0m\u001b[1;33m.\u001b[0m\u001b[0mcount\u001b[0m\u001b[1;33m(\u001b[0m\u001b[1;33m)\u001b[0m\u001b[1;33m\u001b[0m\u001b[0m\n\u001b[0;32m     12\u001b[0m \u001b[0mprint\u001b[0m\u001b[1;33m(\u001b[0m\u001b[0mcounter\u001b[0m\u001b[1;33m.\u001b[0m\u001b[0mpublicAttribute\u001b[0m\u001b[1;33m)\u001b[0m\u001b[1;33m\u001b[0m\u001b[0m\n\u001b[1;32m---> 13\u001b[1;33m \u001b[0mprint\u001b[0m\u001b[1;33m(\u001b[0m\u001b[0mcounter\u001b[0m\u001b[1;33m.\u001b[0m\u001b[0m__secretCount\u001b[0m\u001b[1;33m)\u001b[0m \u001b[1;31m# this will generate an error for trying to access a private attribute of the class JustCounter\u001b[0m\u001b[1;33m\u001b[0m\u001b[0m\n\u001b[0m",
      "\u001b[1;31mAttributeError\u001b[0m: 'JustCounter' object has no attribute '__secretCount'"
     ]
    }
   ],
   "source": [
    "class JustCounter:\n",
    "    __secretCount = 0 #Private attribute\n",
    "    publicAttribute = \"Hey there!\" #Public attribute\n",
    "\n",
    "    def count(self):\n",
    "        self.__secretCount += 1\n",
    "        print(self.__secretCount)\n",
    "\n",
    "counter = JustCounter()\n",
    "counter.count()\n",
    "counter.count()\n",
    "print(counter.publicAttribute)\n",
    "print(counter.__secretCount) # this will generate an error for trying to access a private attribute of the class JustCounter"
   ]
  },
  {
   "cell_type": "markdown",
   "metadata": {},
   "source": [
    "-------"
   ]
  },
  {
   "cell_type": "markdown",
   "metadata": {},
   "source": [
    "## Python Modules"
   ]
  },
  {
   "cell_type": "markdown",
   "metadata": {},
   "source": [
    "A Python module allows you to logically organize your Python code. Grouping related code into a module makes the code easier to understand and use. A module is a Python object with arbitrarily named attributes that you can bind and reference.\n",
    "\n",
    "Simply stated, a module is a file consisting of Python code. A module can define functions, classes and variables. A module can also include runnable code.\n",
    "\n",
    "The Python code for a module named `xxxx` normally resides in a file named `xxxx.py`. Here's an example of a super minimalistic and simple module, `support.py` (Usually modules contains several functions or classes)."
   ]
  },
  {
   "cell_type": "code",
   "execution_count": 6,
   "metadata": {
    "collapsed": true
   },
   "outputs": [],
   "source": [
    "def print_func( par ):\n",
    "    print(\"Hello : \", par)\n",
    "    return\n",
    "\n",
    "def yet_another_func( n ):\n",
    "    n_squared = n*n \n",
    "    print(\"%d times %d is equal to: %d\" % (n, n, n_squared))\n",
    "    return"
   ]
  },
  {
   "cell_type": "markdown",
   "metadata": {},
   "source": [
    "Place the previous code snippet into its own file named `support.py` in the same folder where this Python notebook is located. \n",
    "\n",
    "You can use any Python source file as a module by executing an `import` statement in some other Python source file. \n",
    "\n",
    "When the interpreter encounters an `import` statement, it imports the module if the module is present in the search path. A search path is a list of directories that the interpreter searches before importing a module. For example, to import the module `support.py`, you need to put the following import command at the top of the script and make sure `support.py` sits within your path. Notice how you then call the `print_func` function seating within the module `support`."
   ]
  },
  {
   "cell_type": "code",
   "execution_count": 32,
   "metadata": {},
   "outputs": [
    {
     "name": "stdout",
     "output_type": "stream",
     "text": [
      "Hello :  Sarah\n",
      "5 times 5 is equal to: 25\n"
     ]
    }
   ],
   "source": [
    "# Import module support\n",
    "import support  #I am assuming the file support.py sits in your path\n",
    "\n",
    "# Now you can call function defined in the support module as follows\n",
    "support.print_func(\"Sarah\")\n",
    "support.yet_another_func(5)"
   ]
  },
  {
   "cell_type": "markdown",
   "metadata": {},
   "source": [
    "## The from...import Statement"
   ]
  },
  {
   "cell_type": "markdown",
   "metadata": {},
   "source": [
    "For the next code snippet to work you need to restart the Python kernel of this notebook so we delete the previous import from the current namespace. Python's `from` statement lets you import specific attributes from a module into the current namespace. For example, to import just the function `yet_another_func` from the module `support` into the current namespace use the following statement:"
   ]
  },
  {
   "cell_type": "code",
   "execution_count": 1,
   "metadata": {},
   "outputs": [
    {
     "name": "stdout",
     "output_type": "stream",
     "text": [
      "4 times 4 is equal to: 16\n"
     ]
    },
    {
     "ename": "NameError",
     "evalue": "name 'print_func' is not defined",
     "output_type": "error",
     "traceback": [
      "\u001b[1;31m---------------------------------------------------------------------------\u001b[0m",
      "\u001b[1;31mNameError\u001b[0m                                 Traceback (most recent call last)",
      "\u001b[1;32m<ipython-input-1-cc97a5ec2a99>\u001b[0m in \u001b[0;36m<module>\u001b[1;34m()\u001b[0m\n\u001b[0;32m      2\u001b[0m \u001b[1;33m\u001b[0m\u001b[0m\n\u001b[0;32m      3\u001b[0m \u001b[0myet_another_func\u001b[0m\u001b[1;33m(\u001b[0m\u001b[1;36m4\u001b[0m\u001b[1;33m)\u001b[0m \u001b[1;31m# notice that you don't need to refer to the namespace of the module like in the previous code snippet\u001b[0m\u001b[1;33m\u001b[0m\u001b[0m\n\u001b[1;32m----> 4\u001b[1;33m \u001b[0mprint_func\u001b[0m\u001b[1;33m(\u001b[0m\u001b[1;34m\"Maria\"\u001b[0m\u001b[1;33m)\u001b[0m \u001b[1;31m#Notice this call will not work since we have not imported this function explicitly\u001b[0m\u001b[1;33m\u001b[0m\u001b[0m\n\u001b[0m",
      "\u001b[1;31mNameError\u001b[0m: name 'print_func' is not defined"
     ]
    }
   ],
   "source": [
    "from support import yet_another_func\n",
    "\n",
    "yet_another_func(4) # notice that you don't need to refer to the namespace of the module like in the previous code snippet\n",
    "print_func(\"Maria\") #Notice this call will not work since we have not imported this function explicitly"
   ]
  },
  {
   "cell_type": "markdown",
   "metadata": {},
   "source": [
    "It is also possible to import all names from a module into the current namespace. This provides an easy way to import all the items from a module into the current namespace. However, this functionality should be used sparingly to prevent name conflicts between module functions and your own functions."
   ]
  },
  {
   "cell_type": "code",
   "execution_count": 5,
   "metadata": {},
   "outputs": [
    {
     "name": "stdout",
     "output_type": "stream",
     "text": [
      "3 times 3 is equal to: 9\n",
      "Hello :  Maria\n"
     ]
    }
   ],
   "source": [
    "from support import *\n",
    "\n",
    "yet_another_func(3)\n",
    "#the following function call will work now since we have imported all the functions in module support into the current namespace\n",
    "print_func(\"Maria\") "
   ]
  },
  {
   "cell_type": "markdown",
   "metadata": {},
   "source": [
    "### Locating Modules"
   ]
  },
  {
   "cell_type": "markdown",
   "metadata": {},
   "source": [
    "When you import a module, the Python interpreter searches for the module in the following sequence:\n",
    "\n",
    "- The current directory.\n",
    "\n",
    "- If the module isn't found, the Python interpreter then searches each directory in the shell variable `PYTHONPATH`. The `PYTHONPATH` is an environment variable, consisting of a list of directories. The syntax of `PYTHONPATH` is the same as that of the shell variable `PATH`.\n",
    "\n",
    "- If all else fails, the Python interpreter checks the default path. \n",
    "\n",
    "The module search path is stored in the system module `sys` as the `sys.path` variable. The `sys.path` variable contains the current directory, the `PYTHONPATH`, and the installation-dependent default."
   ]
  },
  {
   "cell_type": "code",
   "execution_count": 7,
   "metadata": {},
   "outputs": [
    {
     "name": "stdout",
     "output_type": "stream",
     "text": [
      "['', 'C:\\\\Anaconda3\\\\python35.zip', 'C:\\\\Anaconda3\\\\DLLs', 'C:\\\\Anaconda3\\\\lib', 'C:\\\\Anaconda3', 'C:\\\\Anaconda3\\\\lib\\\\site-packages', 'C:\\\\Anaconda3\\\\lib\\\\site-packages\\\\Sphinx-1.4.1-py3.5.egg', 'C:\\\\Anaconda3\\\\lib\\\\site-packages\\\\win32', 'C:\\\\Anaconda3\\\\lib\\\\site-packages\\\\win32\\\\lib', 'C:\\\\Anaconda3\\\\lib\\\\site-packages\\\\Pythonwin', 'C:\\\\Anaconda3\\\\lib\\\\site-packages\\\\setuptools-23.0.0-py3.5.egg', 'C:\\\\Anaconda3\\\\lib\\\\site-packages\\\\IPython\\\\extensions', 'C:\\\\Users\\\\drozado\\\\.ipython']\n"
     ]
    }
   ],
   "source": [
    "import sys\n",
    "print(sys.path)"
   ]
  },
  {
   "cell_type": "markdown",
   "metadata": {},
   "source": [
    "### Namespaces and Scoping"
   ]
  },
  {
   "cell_type": "markdown",
   "metadata": {},
   "source": [
    "Variables are names (identifiers) that map to objects. A namespace is just a dictionary of variable names (keys) and their corresponding objects (values).\n",
    "\n",
    "A Python statement can access variables in a local namespace and in the global namespace. If a local and a global variable have the same name, the local variable shadows the global variable.\n",
    "\n",
    "Each function has its own local namespace. Class methods follow the same scoping rule as ordinary functions.\n",
    "\n",
    "Python makes educated guesses on whether variables are local or global. It assumes that any variable assigned a value in a function is local.\n",
    "\n",
    "Therefore, in order to assign a value to a global variable within a function, you must first use the `global` keyword.\n",
    "\n",
    "The statement `global VarName` tells Python that `VarName` is a global variable. The Python interpreter then stops searching the local namespace for the variable."
   ]
  },
  {
   "cell_type": "code",
   "execution_count": 7,
   "metadata": {},
   "outputs": [
    {
     "name": "stdout",
     "output_type": "stream",
     "text": [
      "2000\n",
      "2001\n"
     ]
    }
   ],
   "source": [
    "Money = 2000 #Global variable\n",
    "def AddMoney():\n",
    "    global Money #Without this statement, Python would throw an error in the next line\n",
    "    Money = Money + 1 #Accessing the global variable Money\n",
    "\n",
    "print(Money)\n",
    "AddMoney()\n",
    "print(Money)"
   ]
  },
  {
   "cell_type": "markdown",
   "metadata": {},
   "source": [
    "The `globals()` and `locals()` functions can be used to return the names in the global and local namespaces depending on the location from where they are called."
   ]
  },
  {
   "cell_type": "code",
   "execution_count": 12,
   "metadata": {},
   "outputs": [
    {
     "name": "stdout",
     "output_type": "stream",
     "text": [
      "{'text': 'Hello, Abi!', 'what': 'Abi'}\n"
     ]
    }
   ],
   "source": [
    "something = \"Hey\"\n",
    "def hello (what):\n",
    "    text = \"Hello, \" + what + \"!\"\n",
    "    print(locals()) #Print the local namespace\n",
    "        \n",
    "hello(\"Abi\")\n",
    "#print(globals()) #Print the global namespace"
   ]
  },
  {
   "cell_type": "markdown",
   "metadata": {},
   "source": [
    "### The dir( ) Function"
   ]
  },
  {
   "cell_type": "markdown",
   "metadata": {},
   "source": [
    "The `dir` built-in function returns a sorted list of strings containing the names defined by a module.\n",
    "\n",
    "The list contains the names of all the modules, variables and functions that are defined in a module."
   ]
  },
  {
   "cell_type": "code",
   "execution_count": 15,
   "metadata": {},
   "outputs": [
    {
     "name": "stdout",
     "output_type": "stream",
     "text": [
      "['__builtins__', '__cached__', '__doc__', '__file__', '__loader__', '__name__', '__package__', '__spec__', 'print_func', 'yet_another_func']\n"
     ]
    }
   ],
   "source": [
    "import support\n",
    "print(dir(support))\n",
    "#print(support.__file__) #the filename from which the module was loaded"
   ]
  },
  {
   "cell_type": "markdown",
   "metadata": {},
   "source": [
    "### Packages in Python"
   ]
  },
  {
   "cell_type": "markdown",
   "metadata": {},
   "source": [
    "A package is a hierarchical file directory structure that defines a single Python application environment that consists of modules and subpackages and sub-subpackages, and so on.\n",
    "\n",
    "Consider a directory name `myApp` containing 3 files: `model.py`, `gui.py` and `io.py`. Inside each file there is a function with the same name as the file plus the suffix `Func` (i.e. `modelFunc`, `guiFunc` and `ioFunc`). If we create an additional file in the `myApp` directory named `__init__.py` containing the following code:"
   ]
  },
  {
   "cell_type": "code",
   "execution_count": null,
   "metadata": {
    "collapsed": true
   },
   "outputs": [],
   "source": [
    "#Note that This code snippet will not work unless you create the described folder/file structure in your computer\n",
    "from model import modelFunc\n",
    "from gui import guiFunc\n",
    "from io import ioFunc"
   ]
  },
  {
   "cell_type": "markdown",
   "metadata": {},
   "source": [
    "Now you have all of these functions available when you import the myApp package"
   ]
  },
  {
   "cell_type": "code",
   "execution_count": 25,
   "metadata": {
    "collapsed": true
   },
   "outputs": [],
   "source": [
    "import myApp\n",
    "\n",
    "model.modelFunc()\n",
    "gui.guiFunc()\n",
    "io.ioFunc()"
   ]
  },
  {
   "cell_type": "markdown",
   "metadata": {},
   "source": [
    "---"
   ]
  },
  {
   "cell_type": "markdown",
   "metadata": {},
   "source": [
    "## Exceptions"
   ]
  },
  {
   "cell_type": "markdown",
   "metadata": {},
   "source": [
    "Python provides 2 ways to handle unexpected errors in your programs\n",
    "\n",
    "- Assertions\n",
    "\n",
    "- Exception handling"
   ]
  },
  {
   "cell_type": "markdown",
   "metadata": {},
   "source": [
    "### Assertions in Python"
   ]
  },
  {
   "cell_type": "markdown",
   "metadata": {},
   "source": [
    "An assertion is a sanity-check that you can turn on or turn off when you are done with your testing of the program.\n",
    "\n",
    "The easiest way to think of an assertion is to liken it to a raise-if statement (or to be more accurate, a raise-if-not statement). An expression is tested, and if the result comes up false, an exception is raised.\n",
    "\n",
    "Programmers often place assertions at the start of a function to check for valid input, and after a function call to check for valid output.\n",
    "\n",
    "When it encounters an `assert` statement, Python evaluates the accompanying expression, which is hopefully `true`. If the expression is `false`, Python raises an AssertionError exception."
   ]
  },
  {
   "cell_type": "code",
   "execution_count": 19,
   "metadata": {},
   "outputs": [
    {
     "name": "stdout",
     "output_type": "stream",
     "text": [
      "32.0\n"
     ]
    },
    {
     "ename": "AssertionError",
     "evalue": "Colder than absolute zero!",
     "output_type": "error",
     "traceback": [
      "\u001b[1;31m---------------------------------------------------------------------------\u001b[0m",
      "\u001b[1;31mAssertionError\u001b[0m                            Traceback (most recent call last)",
      "\u001b[1;32m<ipython-input-19-18b13ce19fb7>\u001b[0m in \u001b[0;36m<module>\u001b[1;34m()\u001b[0m\n\u001b[0;32m      4\u001b[0m \u001b[1;33m\u001b[0m\u001b[0m\n\u001b[0;32m      5\u001b[0m \u001b[0mprint\u001b[0m\u001b[1;33m(\u001b[0m\u001b[0mKelvinToFahrenheit\u001b[0m\u001b[1;33m(\u001b[0m\u001b[1;36m273\u001b[0m\u001b[1;33m)\u001b[0m\u001b[1;33m)\u001b[0m\u001b[1;33m\u001b[0m\u001b[0m\n\u001b[1;32m----> 6\u001b[1;33m \u001b[0mprint\u001b[0m\u001b[1;33m(\u001b[0m\u001b[0mKelvinToFahrenheit\u001b[0m\u001b[1;33m(\u001b[0m\u001b[1;33m-\u001b[0m\u001b[1;36m5\u001b[0m\u001b[1;33m)\u001b[0m\u001b[1;33m)\u001b[0m\u001b[1;33m\u001b[0m\u001b[0m\n\u001b[0m",
      "\u001b[1;32m<ipython-input-19-18b13ce19fb7>\u001b[0m in \u001b[0;36mKelvinToFahrenheit\u001b[1;34m(Temperature)\u001b[0m\n\u001b[0;32m      1\u001b[0m \u001b[1;32mdef\u001b[0m \u001b[0mKelvinToFahrenheit\u001b[0m\u001b[1;33m(\u001b[0m\u001b[0mTemperature\u001b[0m\u001b[1;33m)\u001b[0m\u001b[1;33m:\u001b[0m\u001b[1;33m\u001b[0m\u001b[0m\n\u001b[1;32m----> 2\u001b[1;33m    \u001b[1;32massert\u001b[0m\u001b[1;33m(\u001b[0m\u001b[0mTemperature\u001b[0m \u001b[1;33m>=\u001b[0m \u001b[1;36m0\u001b[0m\u001b[1;33m)\u001b[0m\u001b[1;33m,\u001b[0m \u001b[1;34m\"Colder than absolute zero!\"\u001b[0m\u001b[1;33m\u001b[0m\u001b[0m\n\u001b[0m\u001b[0;32m      3\u001b[0m    \u001b[1;32mreturn\u001b[0m \u001b[1;33m(\u001b[0m\u001b[1;33m(\u001b[0m\u001b[0mTemperature\u001b[0m\u001b[1;33m-\u001b[0m\u001b[1;36m273\u001b[0m\u001b[1;33m)\u001b[0m\u001b[1;33m*\u001b[0m\u001b[1;36m1.8\u001b[0m\u001b[1;33m)\u001b[0m\u001b[1;33m+\u001b[0m\u001b[1;36m32\u001b[0m\u001b[1;33m\u001b[0m\u001b[0m\n\u001b[0;32m      4\u001b[0m \u001b[1;33m\u001b[0m\u001b[0m\n\u001b[0;32m      5\u001b[0m \u001b[0mprint\u001b[0m\u001b[1;33m(\u001b[0m\u001b[0mKelvinToFahrenheit\u001b[0m\u001b[1;33m(\u001b[0m\u001b[1;36m273\u001b[0m\u001b[1;33m)\u001b[0m\u001b[1;33m)\u001b[0m\u001b[1;33m\u001b[0m\u001b[0m\n",
      "\u001b[1;31mAssertionError\u001b[0m: Colder than absolute zero!"
     ]
    }
   ],
   "source": [
    "def KelvinToFahrenheit(Temperature):\n",
    "    assert(Temperature >= 0), \"Colder than absolute zero!\"\n",
    "    return ((Temperature-273)*1.8)+32\n",
    "\n",
    "print(KelvinToFahrenheit(273))\n",
    "print(KelvinToFahrenheit(-5))"
   ]
  },
  {
   "cell_type": "markdown",
   "metadata": {},
   "source": [
    "### Exceptions"
   ]
  },
  {
   "cell_type": "markdown",
   "metadata": {},
   "source": [
    "An exception is an event, which occurs during the execution of a program that disrupts the normal flow of the program's instructions. In general, when a Python script encounters a situation that it cannot cope with, it raises an exception. An exception is a Python object that represents an error.\n",
    "\n",
    "When a Python script raises an exception, it must handle the exception immediately otherwise it terminates and quits."
   ]
  },
  {
   "cell_type": "markdown",
   "metadata": {},
   "source": [
    "#### Handling an exception"
   ]
  },
  {
   "cell_type": "markdown",
   "metadata": {},
   "source": [
    "If you have some suspicious code that may raise an exception, you can protect your program by placing the suspicious code in a `try:` block. After the `try:` block, include an `except:` statement, followed by a block of code which handles the problem."
   ]
  },
  {
   "cell_type": "code",
   "execution_count": 20,
   "metadata": {},
   "outputs": [
    {
     "name": "stdout",
     "output_type": "stream",
     "text": [
      "Error: can't find file or read data\n"
     ]
    }
   ],
   "source": [
    "try:\n",
    "    fh = open(\"testfile\", \"r\") #This file Does not exist in the current directory\n",
    "except IOError: #Catch an exception of type IOError\n",
    "    print(\"Error: can\\'t find file or read data\")\n",
    "else:\n",
    "    print(\"Read content in the file successfully\")\n",
    "    fh.close()"
   ]
  },
  {
   "cell_type": "markdown",
   "metadata": {},
   "source": [
    "You can also use the except statement with no exceptions defined. This kind of a try-except statement catches all the exceptions that occur. Using this kind of try-except statement is not considered a good programming practice though, because it catches all exceptions but does not make the programmer identify the root cause of the problem that may occur."
   ]
  },
  {
   "cell_type": "markdown",
   "metadata": {},
   "source": [
    "#### The try-finally Clause"
   ]
  },
  {
   "cell_type": "markdown",
   "metadata": {},
   "source": [
    "You can use a `finally:` block along with a `try:` block. The `finally:` block is a place to put any code that must execute, whether the `try: block` raised an exception or not."
   ]
  },
  {
   "cell_type": "code",
   "execution_count": 22,
   "metadata": {},
   "outputs": [
    {
     "name": "stdout",
     "output_type": "stream",
     "text": [
      "Error: can't find file or read data\n",
      "This statement will execute regardless of whether an exception was thrown or not\n"
     ]
    }
   ],
   "source": [
    "try:\n",
    "    fh = open(\"testfile\", \"r\") #This file does not exist in the current directory\n",
    "    fh.close()\n",
    "except IOError:\n",
    "    print(\"Error: can\\'t find file or read data\")\n",
    "finally:\n",
    "    print(\"This statement will execute regardless of whether an exception was thrown or not\")"
   ]
  },
  {
   "cell_type": "markdown",
   "metadata": {},
   "source": [
    "#### Argument of an Exception"
   ]
  },
  {
   "cell_type": "markdown",
   "metadata": {},
   "source": [
    "An exception can have an argument, which is a value that gives additional information about the problem. The contents of the argument vary by exception. You capture an exception's argument by supplying a variable in the `except` clause as follows "
   ]
  },
  {
   "cell_type": "code",
   "execution_count": 8,
   "metadata": {},
   "outputs": [
    {
     "name": "stdout",
     "output_type": "stream",
     "text": [
      "The argument does not contain numbers\n",
      " invalid literal for int() with base 10: 'xyz'\n"
     ]
    }
   ],
   "source": [
    "# Define a function here.\n",
    "def temp_convert(var):\n",
    "    try:\n",
    "        return int(var)\n",
    "    except ValueError as Argument:\n",
    "        print(\"The argument does not contain numbers\\n\", Argument)\n",
    "\n",
    "# Call above function here.\n",
    "temp_convert(\"xyz\");"
   ]
  },
  {
   "cell_type": "markdown",
   "metadata": {},
   "source": [
    "#### Raising an Exceptions"
   ]
  },
  {
   "cell_type": "markdown",
   "metadata": {},
   "source": [
    "You can raise exceptions using the `raise` statement. "
   ]
  },
  {
   "cell_type": "code",
   "execution_count": 31,
   "metadata": {},
   "outputs": [
    {
     "ename": "Exception",
     "evalue": "-1",
     "output_type": "error",
     "traceback": [
      "\u001b[1;31m---------------------------------------------------------------------------\u001b[0m",
      "\u001b[1;31mException\u001b[0m                                 Traceback (most recent call last)",
      "\u001b[1;32m<ipython-input-31-1a68cb0cda33>\u001b[0m in \u001b[0;36m<module>\u001b[1;34m()\u001b[0m\n\u001b[0;32m      3\u001b[0m       \u001b[1;32mraise\u001b[0m \u001b[0mException\u001b[0m\u001b[1;33m(\u001b[0m\u001b[0mlevel\u001b[0m\u001b[1;33m)\u001b[0m\u001b[1;33m\u001b[0m\u001b[0m\n\u001b[0;32m      4\u001b[0m       \u001b[0mprint\u001b[0m\u001b[1;33m(\u001b[0m\u001b[1;34m\"This statement will never be executed if the exception was raised\"\u001b[0m\u001b[1;33m)\u001b[0m\u001b[1;33m\u001b[0m\u001b[0m\n\u001b[1;32m----> 5\u001b[1;33m \u001b[0mfunctionName\u001b[0m\u001b[1;33m(\u001b[0m\u001b[1;33m-\u001b[0m\u001b[1;36m1\u001b[0m\u001b[1;33m)\u001b[0m\u001b[1;33m\u001b[0m\u001b[0m\n\u001b[0m",
      "\u001b[1;32m<ipython-input-31-1a68cb0cda33>\u001b[0m in \u001b[0;36mfunctionName\u001b[1;34m(level)\u001b[0m\n\u001b[0;32m      1\u001b[0m \u001b[1;32mdef\u001b[0m \u001b[0mfunctionName\u001b[0m\u001b[1;33m(\u001b[0m \u001b[0mlevel\u001b[0m \u001b[1;33m)\u001b[0m\u001b[1;33m:\u001b[0m\u001b[1;33m\u001b[0m\u001b[0m\n\u001b[0;32m      2\u001b[0m    \u001b[1;32mif\u001b[0m \u001b[0mlevel\u001b[0m \u001b[1;33m<\u001b[0m \u001b[1;36m1\u001b[0m\u001b[1;33m:\u001b[0m\u001b[1;33m\u001b[0m\u001b[0m\n\u001b[1;32m----> 3\u001b[1;33m       \u001b[1;32mraise\u001b[0m \u001b[0mException\u001b[0m\u001b[1;33m(\u001b[0m\u001b[0mlevel\u001b[0m\u001b[1;33m)\u001b[0m\u001b[1;33m\u001b[0m\u001b[0m\n\u001b[0m\u001b[0;32m      4\u001b[0m       \u001b[0mprint\u001b[0m\u001b[1;33m(\u001b[0m\u001b[1;34m\"This statement will never be executed if the exception was raised\"\u001b[0m\u001b[1;33m)\u001b[0m\u001b[1;33m\u001b[0m\u001b[0m\n\u001b[0;32m      5\u001b[0m \u001b[0mfunctionName\u001b[0m\u001b[1;33m(\u001b[0m\u001b[1;33m-\u001b[0m\u001b[1;36m1\u001b[0m\u001b[1;33m)\u001b[0m\u001b[1;33m\u001b[0m\u001b[0m\n",
      "\u001b[1;31mException\u001b[0m: -1"
     ]
    }
   ],
   "source": [
    "def functionName( level ):\n",
    "    if level < 1:\n",
    "        raise Exception(level)\n",
    "        print(\"This statement will never be executed if the exception was raised\")\n",
    "functionName(-1)"
   ]
  },
  {
   "cell_type": "markdown",
   "metadata": {},
   "source": [
    "---"
   ]
  },
  {
   "cell_type": "markdown",
   "metadata": {},
   "source": [
    "## File I/O"
   ]
  },
  {
   "cell_type": "markdown",
   "metadata": {},
   "source": [
    "Python provides basic functions and methods necessary to manipulate files. You can do most of the file manipulation using a file object. The file object provides a set of access methods to make our lives easier.\n",
    "\n",
    "To open a file you need to specify the access mode, i.e., read (r), write (w), append (a), etc.\n",
    "\n",
    "For the next code snippet create a file `foo.txt` in the folder containing the Python notebook you are presently working with."
   ]
  },
  {
   "cell_type": "code",
   "execution_count": 37,
   "metadata": {
    "collapsed": true
   },
   "outputs": [],
   "source": [
    "fo = open(\"foo.txt\", \"w\") # open the file for writing"
   ]
  },
  {
   "cell_type": "markdown",
   "metadata": {},
   "source": [
    "Once a file is opened and you have one file object, you can easily get information related to that file."
   ]
  },
  {
   "cell_type": "code",
   "execution_count": 38,
   "metadata": {},
   "outputs": [
    {
     "name": "stdout",
     "output_type": "stream",
     "text": [
      "Name of the file:  foo.txt\n",
      "Closed or not :  False\n",
      "Opening mode :  w\n"
     ]
    }
   ],
   "source": [
    "print(\"Name of the file: \", fo.name)\n",
    "print(\"Closed or not : \", fo.closed)\n",
    "print(\"Opening mode : \", fo.mode)"
   ]
  },
  {
   "cell_type": "markdown",
   "metadata": {},
   "source": [
    "#### The write() Method"
   ]
  },
  {
   "cell_type": "markdown",
   "metadata": {},
   "source": [
    "The write() method writes any string to an open file. It is important to note that Python strings can have binary data and not just text."
   ]
  },
  {
   "cell_type": "code",
   "execution_count": 39,
   "metadata": {
    "collapsed": true
   },
   "outputs": [],
   "source": [
    "fo.write( \"I am quickly learning Python!\\n\");"
   ]
  },
  {
   "cell_type": "markdown",
   "metadata": {},
   "source": [
    "#### The close() Method"
   ]
  },
  {
   "cell_type": "markdown",
   "metadata": {},
   "source": [
    "The close() method of a file object flushes any unwritten information and closes the file object, after which no more writing can be done."
   ]
  },
  {
   "cell_type": "code",
   "execution_count": 40,
   "metadata": {
    "collapsed": true
   },
   "outputs": [],
   "source": [
    "fo.close()"
   ]
  },
  {
   "cell_type": "markdown",
   "metadata": {},
   "source": [
    "#### The read() Method"
   ]
  },
  {
   "cell_type": "markdown",
   "metadata": {},
   "source": [
    "The read() method reads a string from an open file. It is important to note that Python strings can have binary data apart from text data. Let's take a peak at file `foo.txt`, which we created above."
   ]
  },
  {
   "cell_type": "code",
   "execution_count": 43,
   "metadata": {},
   "outputs": [
    {
     "name": "stdout",
     "output_type": "stream",
     "text": [
      "I am quick\n"
     ]
    }
   ],
   "source": [
    "fo = open(\"foo.txt\", \"r+\")\n",
    "str = fo.read(10); #Read the first  10 bytes in file foo.txt\n",
    "print(str)\n",
    "fo.close()"
   ]
  },
  {
   "cell_type": "code",
   "execution_count": 44,
   "metadata": {},
   "outputs": [
    {
     "name": "stdout",
     "output_type": "stream",
     "text": [
      "I am line number 1!\n",
      "\n",
      "I am line number 2!\n",
      "\n",
      "I am line number 3!\n",
      "\n",
      "['I am line number 1!\\n', 'I am line number 2!\\n', 'I am line number 3!\\n']\n"
     ]
    }
   ],
   "source": [
    "fo = open(\"textFile.txt\", \"w\")\n",
    "fo.write( \"I am line number 1!\\n\");\n",
    "fo.write( \"I am line number 2!\\n\");\n",
    "fo.write( \"I am line number 3!\\n\");\n",
    "fo.close()\n",
    "\n",
    "fo = open(\"textFile.txt\", \"r\")\n",
    "print(fo.readline())\n",
    "print(fo.readline())\n",
    "print(fo.readline())\n",
    "fo.close()\n",
    "\n",
    "fo = open(\"textFile.txt\", \"r\")\n",
    "print(fo.readlines())\n",
    "fo.close()"
   ]
  },
  {
   "cell_type": "markdown",
   "metadata": {},
   "source": [
    "### File Positions"
   ]
  },
  {
   "cell_type": "markdown",
   "metadata": {},
   "source": [
    "The `tell()` method tells you the current position within the file; in other words, the next read or write will occur at that many bytes from the beginning of the file.\n",
    "\n",
    "The `seek(offset[, from])` method changes the current file position. The offset argument indicates the number of bytes to be moved. The from argument specifies the reference position from where the bytes are to be moved.\n",
    "\n",
    "If `from` is set to 0, it means use the beginning of the file as the reference position and 1 means use the current position as the reference position and if it is set to 2 then the end of the file would be taken as the reference position."
   ]
  },
  {
   "cell_type": "code",
   "execution_count": 46,
   "metadata": {},
   "outputs": [
    {
     "name": "stdout",
     "output_type": "stream",
     "text": [
      "Read String is :  I am quick\n",
      "Current file position :  10\n",
      "Again read String is :  I am quick\n"
     ]
    }
   ],
   "source": [
    "# Open a file\n",
    "fo = open(\"foo.txt\", \"r+\")\n",
    "str = fo.read(10);\n",
    "print(\"Read String is : \", str)\n",
    "\n",
    "# Check current position\n",
    "position = fo.tell();\n",
    "print(\"Current file position : \", position)\n",
    "\n",
    "# Reposition pointer at the beginning once again\n",
    "position = fo.seek(0, 0);\n",
    "str = fo.read(10);\n",
    "print(\"Again read String is : \", str)\n",
    "# Close opend file\n",
    "fo.close()"
   ]
  },
  {
   "cell_type": "markdown",
   "metadata": {},
   "source": [
    "### Renaming and Deleting Files"
   ]
  },
  {
   "cell_type": "markdown",
   "metadata": {},
   "source": [
    "Python `os` module provides methods that help you perform file-processing operations, such as renaming and deleting files.\n",
    "\n",
    "The `rename()` method takes two arguments, the current filename and the new filename."
   ]
  },
  {
   "cell_type": "code",
   "execution_count": 47,
   "metadata": {
    "collapsed": true
   },
   "outputs": [],
   "source": [
    "import os\n",
    "os.rename( \"foo.txt\", \"oof.txt\" )"
   ]
  },
  {
   "cell_type": "markdown",
   "metadata": {},
   "source": [
    "You can use the remove() method to delete files by supplying the name of the file to be deleted as the argument."
   ]
  },
  {
   "cell_type": "code",
   "execution_count": 49,
   "metadata": {
    "collapsed": true
   },
   "outputs": [],
   "source": [
    "os.remove(\"oof.txt\")"
   ]
  },
  {
   "cell_type": "markdown",
   "metadata": {},
   "source": [
    "### Directories in Python"
   ]
  },
  {
   "cell_type": "markdown",
   "metadata": {},
   "source": [
    "All files are contained within various directories. The `os` module has several methods that help you create, remove, and change directories."
   ]
  },
  {
   "cell_type": "code",
   "execution_count": null,
   "metadata": {
    "collapsed": true
   },
   "outputs": [],
   "source": [
    "import os\n",
    "os.mkdir(\"newdir\") #Create a new directory in the current working directory\n",
    "os.chdir(\"newdir\") #Change to the just created directory\n",
    "print(os.getcwd()) #Display the current working directory\n",
    "os.chdir('..') #Moving up one directory\n",
    "print(os.getcwd()) #Display the current working directory"
   ]
  },
  {
   "cell_type": "markdown",
   "metadata": {},
   "source": [
    "Finally you can also remove the directory you just created"
   ]
  },
  {
   "cell_type": "code",
   "execution_count": 51,
   "metadata": {
    "collapsed": true
   },
   "outputs": [],
   "source": [
    "os.rmdir('newdir') #Remove the previously created directory"
   ]
  },
  {
   "cell_type": "markdown",
   "metadata": {},
   "source": [
    "---\n",
    "If you made it this far, congratulations! Move on to today's practical exercises. After that, you will be able to confidently say that you can program in Python."
   ]
  }
 ],
 "metadata": {
  "kernelspec": {
   "display_name": "Python 3",
   "language": "python",
   "name": "python3"
  },
  "language_info": {
   "codemirror_mode": {
    "name": "ipython",
    "version": 3
   },
   "file_extension": ".py",
   "mimetype": "text/x-python",
   "name": "python",
   "nbconvert_exporter": "python",
   "pygments_lexer": "ipython3",
   "version": "3.6.1"
  }
 },
 "nbformat": 4,
 "nbformat_minor": 1
}
