{
 "cells": [
  {
   "cell_type": "markdown",
   "metadata": {},
   "source": [
    "# Word2Vec\n",
    "\n",
    "Word2vec is a group of related models that are used to produce word embeddings. These models are shallow, two-layer neural networks that are trained to reconstruct linguistic contexts of words. Word2vec takes as its input a large corpus of text and produces a vector space, typically of several hundred dimensions, with each unique word in the corpus being assigned a corresponding vector in the space. Word vectors are positioned in the vector space such that words that share common contexts in the corpus are located in close proximity to one another in the space. Hence, each dimension in that vector space codifies semantic and syntactic information about the word.  \n",
    "\n",
    "![](./images/wv.png)\n",
    "\n",
    "You can use Word2Vect by installing the `gensim` library in Python."
   ]
  },
  {
   "cell_type": "code",
   "execution_count": null,
   "metadata": {
    "collapsed": true
   },
   "outputs": [],
   "source": [
    "!pip install gensim"
   ]
  },
  {
   "cell_type": "markdown",
   "metadata": {},
   "source": [
    "Let's begin"
   ]
  },
  {
   "cell_type": "markdown",
   "metadata": {},
   "source": [
    "### Load Corpus\n",
    "\n",
    "Let's load a bunch of textual data I scraped from the web domain of Princeton University (https://www.princeton.edu). You can check this input file `princeton.csv` yourself to see how the input data looks."
   ]
  },
  {
   "cell_type": "code",
   "execution_count": 1,
   "metadata": {},
   "outputs": [],
   "source": [
    "import gensim\n",
    "from gensim.models.word2vec import Word2Vec\n",
    "import os\n",
    "\n",
    "inputPath = os.path.normpath(r'.') \n",
    "fileName = 'princeton.csv'                             \n",
    "inputFilePath = os.path.join(inputPath, fileName)                "
   ]
  },
  {
   "cell_type": "markdown",
   "metadata": {},
   "source": [
    "## Preprocessing the corpus\n",
    "\n",
    "We need to preprocess the textual data in our Corpus. Preprocessing is about transforming all words to lowercase, Removing HTML tags, removing nonalphanumeric characters, removing punctuation and multiple white spaces and also removing, stop words that are very frequent  in the English language but which do not add a lot of value to a model (words such as: and, or, if, etc.).\n",
    "\n",
    "The function `preprocessing` below takes care of all of this and returns a list of sentences that will be the input for the word2vec algorithm."
   ]
  },
  {
   "cell_type": "code",
   "execution_count": 2,
   "metadata": {},
   "outputs": [
    {
     "name": "stdout",
     "output_type": "stream",
     "text": [
      "Number of words in corpus: 3614743\n",
      "Number of sentences in corpus: 178390\n"
     ]
    }
   ],
   "source": [
    "from gensim.parsing.preprocessing import * #provides a number of convenience preprocessing functions optimized for speed\n",
    "import csv\n",
    "\n",
    "def preprocessing(file):\n",
    "    \n",
    "    CUSTOM_FILTERS = [lambda x: x.lower(), #To lowercase\n",
    "                      lambda text: re.sub(r'https?:\\/\\/.*\\s', '', text, flags=re.MULTILINE), #To Strip away URLs\n",
    "                      strip_tags, #Remove tags from s using RE_TAGS.\n",
    "                      strip_non_alphanum,#Remove non-alphabetic characters from s using RE_NONALPHA.\n",
    "                      strip_punctuation, #Replace punctuation characters with spaces in s using RE_PUNCT.\n",
    "                      strip_numeric, #Remove digits from s using RE_NUMERIC.\n",
    "                      strip_multiple_whitespaces,#Remove repeating whitespace characters (spaces, tabs, line breaks) from s and turns tabs & line breaks into spaces using RE_WHITESPACE.\n",
    "                      remove_stopwords, # Set of 339 stopwords from Stone, Denis, Kwantes (2010).\n",
    "                      lambda x: strip_short(x, minsize=3), #Remove words with length lesser than minsize from s.\n",
    "                     ]\n",
    "\n",
    "    csv.field_size_limit(2147483647)\n",
    "    with open(file,'r', newline='',encoding=\"utf-8\") as inpFile:\n",
    "\n",
    "        csvObject = csv.reader(inpFile, delimiter=',',quotechar='\"')\n",
    "\n",
    "        wordThreshold=5 #Important: filter out sentences with less than wordThreshold words\n",
    "\n",
    "        sentences = []\n",
    "        for csvEntry in csvObject:\n",
    "            if len(csvEntry)>1:\n",
    "                lines = csvEntry[1].split('\\n') #csvEntry[0] is url csvEntry[1] is text Fetched from URL\n",
    "\n",
    "                for line in lines: #Different elements appear in their own line\n",
    "                    words = preprocess_string(line,CUSTOM_FILTERS)\n",
    "\n",
    "                    if len(words)>wordThreshold: #Important: filter out sentences with less than wordThreshold words\n",
    "                        sentences.append(words)\n",
    "    wordsInCorpus=0\n",
    "    for i, s in enumerate(sentences):\n",
    "        wordsInCorpus += len(s)\n",
    "    print(\"Number of words in corpus:\",wordsInCorpus)\n",
    "    print(\"Number of sentences in corpus:\",len(sentences))\n",
    "    return sentences\n",
    "\n",
    "sentences = preprocessing(inputFilePath)"
   ]
  },
  {
   "cell_type": "markdown",
   "metadata": {},
   "source": [
    "Let's check the first 5 sentences in our corpus. Notice that common Stop words have been removed, so the sentences read a bit weird."
   ]
  },
  {
   "cell_type": "code",
   "execution_count": 3,
   "metadata": {},
   "outputs": [
    {
     "name": "stdout",
     "output_type": "stream",
     "text": [
      "['health', 'professions', 'advising', 'shows', 'students', 'way', 'medicine']\n",
      "['health', 'professions', 'advising', 'helps', 'students', 'alumni', 'consider', 'medical', 'health', 'care', 'career']\n",
      "['united', 'states', 'sen', 'cory', 'booker', 'new', 'jersey', 'selected', 'deliver', 'keynote', 'address', 'university', 'class', 'day', 'ceremony', 'monday', 'june']\n",
      "['daylong', 'conference', 'princeton', 'defending', 'democracy', 'civilian', 'military', 'responses', 'weaponized', 'information', 'brought', 'leaders', 'military', 'government', 'academic', 'backgrounds', 'discuss', 'information', 'warfare', 'protect', 'corrosive', 'effects', 'democracy']\n"
     ]
    }
   ],
   "source": [
    "for s in sentences[0:4]:\n",
    "    print(s)"
   ]
  },
  {
   "cell_type": "markdown",
   "metadata": {},
   "source": [
    "## Word2Vec model\n",
    "\n",
    "We are ready to train our work2vec model. Here we instanciate our Word2Vect model with the CBOW architecture, using a window size of context words of size 15, using word vectors of 100 dimensions and only calculating word vectors for words that appear at least 5 times in the corpus of data.  We also use 4 computational threads to speed up the computation. Finally, the network iterates 5 times through the corpus (5 epochs)."
   ]
  },
  {
   "cell_type": "code",
   "execution_count": 5,
   "metadata": {},
   "outputs": [],
   "source": [
    "model = Word2Vec(sentences, # The sentences iterable can be simply a list of lists of tokens, but for larger corpora, consider an iterable that streams the sentences directly from disk/network\n",
    "                 sg=0, #Defines the training algorithm. If 1, skip-gram is employed; otherwise, CBOW is used\n",
    "                 size=100,#Dimensionality of the feature vectors\n",
    "                 window=15,# The maximum distance between the current and predicted word within a sentence\n",
    "                 min_count=5, #Ignores all words with total frequency lower than this\n",
    "                 workers=4, #Use these many worker threads to train the model (=faster training with multicore machines).\n",
    "                 iter = 5, # (int) – Number of iterations (epochs) over the corpus. //5\n",
    "                )"
   ]
  },
  {
   "cell_type": "markdown",
   "metadata": {},
   "source": [
    "The vocabulary of learned word vectors:"
   ]
  },
  {
   "cell_type": "code",
   "execution_count": 6,
   "metadata": {
    "scrolled": true
   },
   "outputs": [
    {
     "data": {
      "text/plain": [
       "{'health': <gensim.models.keyedvectors.Vocab at 0x1f635277e48>,\n",
       " 'professions': <gensim.models.keyedvectors.Vocab at 0x1f635297048>,\n",
       " 'advising': <gensim.models.keyedvectors.Vocab at 0x1f673c8f9b0>,\n",
       " 'shows': <gensim.models.keyedvectors.Vocab at 0x1f673c8ff98>,\n",
       " 'students': <gensim.models.keyedvectors.Vocab at 0x1f605315a90>,\n",
       " 'way': <gensim.models.keyedvectors.Vocab at 0x1f605315c88>,\n",
       " 'medicine': <gensim.models.keyedvectors.Vocab at 0x1f605315d30>,\n",
       " 'helps': <gensim.models.keyedvectors.Vocab at 0x1f605315d68>,\n",
       " 'alumni': <gensim.models.keyedvectors.Vocab at 0x1f605315da0>,\n",
       " 'consider': <gensim.models.keyedvectors.Vocab at 0x1f605315dd8>,\n",
       " 'medical': <gensim.models.keyedvectors.Vocab at 0x1f605315e10>,\n",
       " 'care': <gensim.models.keyedvectors.Vocab at 0x1f605315e48>,\n",
       " 'career': <gensim.models.keyedvectors.Vocab at 0x1f605315e80>,\n",
       " 'united': <gensim.models.keyedvectors.Vocab at 0x1f605315eb8>,\n",
       " 'states': <gensim.models.keyedvectors.Vocab at 0x1f605315ef0>,\n",
       " 'sen': <gensim.models.keyedvectors.Vocab at 0x1f605315f28>,\n",
       " 'cory': <gensim.models.keyedvectors.Vocab at 0x1f605315f60>,\n",
       " 'booker': <gensim.models.keyedvectors.Vocab at 0x1f605315f98>,\n",
       " 'new': <gensim.models.keyedvectors.Vocab at 0x1f605315fd0>,\n",
       " 'jersey': <gensim.models.keyedvectors.Vocab at 0x1f6053fa0f0>,\n",
       " 'selected': <gensim.models.keyedvectors.Vocab at 0x1f6053fa048>,\n",
       " 'deliver': <gensim.models.keyedvectors.Vocab at 0x1f6053fa0b8>,\n",
       " 'keynote': <gensim.models.keyedvectors.Vocab at 0x1f6053fa128>,\n",
       " 'address': <gensim.models.keyedvectors.Vocab at 0x1f6053fa160>,\n",
       " 'university': <gensim.models.keyedvectors.Vocab at 0x1f6053fa198>,\n",
       " 'class': <gensim.models.keyedvectors.Vocab at 0x1f6053fa1d0>,\n",
       " 'day': <gensim.models.keyedvectors.Vocab at 0x1f6053fa208>,\n",
       " 'ceremony': <gensim.models.keyedvectors.Vocab at 0x1f6053fa240>,\n",
       " 'monday': <gensim.models.keyedvectors.Vocab at 0x1f6053fa278>,\n",
       " 'june': <gensim.models.keyedvectors.Vocab at 0x1f6053fa2b0>,\n",
       " 'daylong': <gensim.models.keyedvectors.Vocab at 0x1f6053fa2e8>,\n",
       " 'conference': <gensim.models.keyedvectors.Vocab at 0x1f6053fa320>,\n",
       " 'princeton': <gensim.models.keyedvectors.Vocab at 0x1f6053fa358>,\n",
       " 'defending': <gensim.models.keyedvectors.Vocab at 0x1f6053fa390>,\n",
       " 'democracy': <gensim.models.keyedvectors.Vocab at 0x1f6053fa3c8>,\n",
       " 'civilian': <gensim.models.keyedvectors.Vocab at 0x1f6053fa400>,\n",
       " 'military': <gensim.models.keyedvectors.Vocab at 0x1f6053fa438>,\n",
       " 'responses': <gensim.models.keyedvectors.Vocab at 0x1f6053fa470>,\n",
       " 'weaponized': <gensim.models.keyedvectors.Vocab at 0x1f6053fa4a8>,\n",
       " 'information': <gensim.models.keyedvectors.Vocab at 0x1f6053fa4e0>,\n",
       " 'brought': <gensim.models.keyedvectors.Vocab at 0x1f6053fa518>,\n",
       " 'leaders': <gensim.models.keyedvectors.Vocab at 0x1f6053fa550>,\n",
       " 'government': <gensim.models.keyedvectors.Vocab at 0x1f6053fa588>,\n",
       " 'academic': <gensim.models.keyedvectors.Vocab at 0x1f6053fa5c0>,\n",
       " 'backgrounds': <gensim.models.keyedvectors.Vocab at 0x1f6053fa5f8>,\n",
       " 'discuss': <gensim.models.keyedvectors.Vocab at 0x1f6053fa630>,\n",
       " 'warfare': <gensim.models.keyedvectors.Vocab at 0x1f6053fa668>,\n",
       " 'protect': <gensim.models.keyedvectors.Vocab at 0x1f6053fa6a0>,\n",
       " 'corrosive': <gensim.models.keyedvectors.Vocab at 0x1f6053fa6d8>,\n",
       " 'effects': <gensim.models.keyedvectors.Vocab at 0x1f6053fa710>,\n",
       " 'senior': <gensim.models.keyedvectors.Vocab at 0x1f6053fa748>,\n",
       " 'hintson': <gensim.models.keyedvectors.Vocab at 0x1f6053fa780>,\n",
       " 'awarded': <gensim.models.keyedvectors.Vocab at 0x1f6053fa7b8>,\n",
       " 'gaither': <gensim.models.keyedvectors.Vocab at 0x1f6053fa7f0>,\n",
       " 'junior': <gensim.models.keyedvectors.Vocab at 0x1f6053fa828>,\n",
       " 'fellowship': <gensim.models.keyedvectors.Vocab at 0x1f6053fa860>,\n",
       " 'postgraduate': <gensim.models.keyedvectors.Vocab at 0x1f6053fa898>,\n",
       " 'work': <gensim.models.keyedvectors.Vocab at 0x1f6053fa8d0>,\n",
       " 'carnegie': <gensim.models.keyedvectors.Vocab at 0x1f6053fa908>,\n",
       " 'endowment': <gensim.models.keyedvectors.Vocab at 0x1f6053fa940>,\n",
       " 'international': <gensim.models.keyedvectors.Vocab at 0x1f6053fa978>,\n",
       " 'peace': <gensim.models.keyedvectors.Vocab at 0x1f6053fa9b0>,\n",
       " 'read': <gensim.models.keyedvectors.Vocab at 0x1f6053fa9e8>,\n",
       " 'swamp': <gensim.models.keyedvectors.Vocab at 0x1f6053faa20>,\n",
       " 'microbe': <gensim.models.keyedvectors.Vocab at 0x1f6053faa58>,\n",
       " 'pollution': <gensim.models.keyedvectors.Vocab at 0x1f6053faa90>,\n",
       " 'munching': <gensim.models.keyedvectors.Vocab at 0x1f6053faac8>,\n",
       " 'superpower': <gensim.models.keyedvectors.Vocab at 0x1f6053fab00>,\n",
       " 'memorial': <gensim.models.keyedvectors.Vocab at 0x1f6053fab38>,\n",
       " 'service': <gensim.models.keyedvectors.Vocab at 0x1f6053fab70>,\n",
       " 'planned': <gensim.models.keyedvectors.Vocab at 0x1f6053faba8>,\n",
       " 'economist': <gensim.models.keyedvectors.Vocab at 0x1f6053fabe0>,\n",
       " 'reinhardt': <gensim.models.keyedvectors.Vocab at 0x1f6053fac18>,\n",
       " 'julis': <gensim.models.keyedvectors.Vocab at 0x1f6053fac50>,\n",
       " 'romo': <gensim.models.keyedvectors.Vocab at 0x1f6053fac88>,\n",
       " 'rabinowitz': <gensim.models.keyedvectors.Vocab at 0x1f6053facc0>,\n",
       " 'simpson': <gensim.models.keyedvectors.Vocab at 0x1f6053facf8>,\n",
       " 'buildings': <gensim.models.keyedvectors.Vocab at 0x1f6053fad30>,\n",
       " 'win': <gensim.models.keyedvectors.Vocab at 0x1f6053fad68>,\n",
       " 'ontario': <gensim.models.keyedvectors.Vocab at 0x1f6053fada0>,\n",
       " 'association': <gensim.models.keyedvectors.Vocab at 0x1f6053fadd8>,\n",
       " 'architects': <gensim.models.keyedvectors.Vocab at 0x1f6053fae10>,\n",
       " 'award': <gensim.models.keyedvectors.Vocab at 0x1f6053fae48>,\n",
       " 'jacobus': <gensim.models.keyedvectors.Vocab at 0x1f6053fae80>,\n",
       " 'fellow': <gensim.models.keyedvectors.Vocab at 0x1f6053faeb8>,\n",
       " 'georgios': <gensim.models.keyedvectors.Vocab at 0x1f6053faef0>,\n",
       " 'moschidis': <gensim.models.keyedvectors.Vocab at 0x1f6053faf28>,\n",
       " 'brings': <gensim.models.keyedvectors.Vocab at 0x1f6053faf60>,\n",
       " 'insights': <gensim.models.keyedvectors.Vocab at 0x1f6053faf98>,\n",
       " 'theory': <gensim.models.keyedvectors.Vocab at 0x1f6053fafd0>,\n",
       " 'general': <gensim.models.keyedvectors.Vocab at 0x1f605416048>,\n",
       " 'relativity': <gensim.models.keyedvectors.Vocab at 0x1f605416080>,\n",
       " 'seniors': <gensim.models.keyedvectors.Vocab at 0x1f6054160b8>,\n",
       " 'labouisse': <gensim.models.keyedvectors.Vocab at 0x1f6054160f0>,\n",
       " 'prize': <gensim.models.keyedvectors.Vocab at 0x1f605416128>,\n",
       " 'civic': <gensim.models.keyedvectors.Vocab at 0x1f605416160>,\n",
       " 'engagement': <gensim.models.keyedvectors.Vocab at 0x1f605416198>,\n",
       " 'projects': <gensim.models.keyedvectors.Vocab at 0x1f6054161d0>,\n",
       " 'chantal': <gensim.models.keyedvectors.Vocab at 0x1f605416208>,\n",
       " 'berman': <gensim.models.keyedvectors.Vocab at 0x1f605416240>,\n",
       " 'doctoral': <gensim.models.keyedvectors.Vocab at 0x1f605416278>,\n",
       " 'student': <gensim.models.keyedvectors.Vocab at 0x1f6054162b0>,\n",
       " 'politics': <gensim.models.keyedvectors.Vocab at 0x1f6054162e8>,\n",
       " 'winners': <gensim.models.keyedvectors.Vocab at 0x1f605416320>,\n",
       " 'year': <gensim.models.keyedvectors.Vocab at 0x1f605416358>,\n",
       " 'porter': <gensim.models.keyedvectors.Vocab at 0x1f605416390>,\n",
       " 'ogden': <gensim.models.keyedvectors.Vocab at 0x1f6054163c8>,\n",
       " 'honor': <gensim.models.keyedvectors.Vocab at 0x1f605416400>,\n",
       " 'graduate': <gensim.models.keyedvectors.Vocab at 0x1f605416438>,\n",
       " 'lab': <gensim.models.keyedvectors.Vocab at 0x1f605416470>,\n",
       " 'engineering': <gensim.models.keyedvectors.Vocab at 0x1f6054164a8>,\n",
       " 'professor': <gensim.models.keyedvectors.Vocab at 0x1f6054164e0>,\n",
       " 'howard': <gensim.models.keyedvectors.Vocab at 0x1f605416518>,\n",
       " 'stone': <gensim.models.keyedvectors.Vocab at 0x1f605416550>,\n",
       " 'flow': <gensim.models.keyedvectors.Vocab at 0x1f605416588>,\n",
       " 'creativity': <gensim.models.keyedvectors.Vocab at 0x1f6054165c0>,\n",
       " 'related': <gensim.models.keyedvectors.Vocab at 0x1f6054165f8>,\n",
       " 'studying': <gensim.models.keyedvectors.Vocab at 0x1f605416630>,\n",
       " 'everyday': <gensim.models.keyedvectors.Vocab at 0x1f605416668>,\n",
       " 'objects': <gensim.models.keyedvectors.Vocab at 0x1f6054166a0>,\n",
       " 'leads': <gensim.models.keyedvectors.Vocab at 0x1f6054166d8>,\n",
       " 'findings': <gensim.models.keyedvectors.Vocab at 0x1f605416710>,\n",
       " 'potential': <gensim.models.keyedvectors.Vocab at 0x1f605416748>,\n",
       " 'benefit': <gensim.models.keyedvectors.Vocab at 0x1f605416780>,\n",
       " 'society': <gensim.models.keyedvectors.Vocab at 0x1f6054167b8>,\n",
       " 'council': <gensim.models.keyedvectors.Vocab at 0x1f6054167f0>,\n",
       " 'science': <gensim.models.keyedvectors.Vocab at 0x1f605416828>,\n",
       " 'technology': <gensim.models.keyedvectors.Vocab at 0x1f605416860>,\n",
       " 'cst': <gensim.models.keyedvectors.Vocab at 0x1f605416898>,\n",
       " 'pleased': <gensim.models.keyedvectors.Vocab at 0x1f6054168d0>,\n",
       " 'announce': <gensim.models.keyedvectors.Vocab at 0x1f605416908>,\n",
       " 'inaugural': <gensim.models.keyedvectors.Vocab at 0x1f605416940>,\n",
       " 'living': <gensim.models.keyedvectors.Vocab at 0x1f605416978>,\n",
       " 'intersection': <gensim.models.keyedvectors.Vocab at 0x1f6054169b0>,\n",
       " 'symposium': <gensim.models.keyedvectors.Vocab at 0x1f6054169e8>,\n",
       " 'held': <gensim.models.keyedvectors.Vocab at 0x1f605416a20>,\n",
       " 'april': <gensim.models.keyedvectors.Vocab at 0x1f605416a58>,\n",
       " 'program': <gensim.models.keyedvectors.Vocab at 0x1f605416a90>,\n",
       " 'visual': <gensim.models.keyedvectors.Vocab at 0x1f605416ac8>,\n",
       " 'arts': <gensim.models.keyedvectors.Vocab at 0x1f605416b00>,\n",
       " 'presents': <gensim.models.keyedvectors.Vocab at 0x1f605416b38>,\n",
       " 'exhibition': <gensim.models.keyedvectors.Vocab at 0x1f605416b70>,\n",
       " 'kathleen': <gensim.models.keyedvectors.Vocab at 0x1f605416ba8>,\n",
       " 'incorruptible': <gensim.models.keyedvectors.Vocab at 0x1f605416be0>,\n",
       " 'body': <gensim.models.keyedvectors.Vocab at 0x1f605416c18>,\n",
       " 'thesis': <gensim.models.keyedvectors.Vocab at 0x1f605416c50>,\n",
       " 'angélica': <gensim.models.keyedvectors.Vocab at 0x1f605416c88>,\n",
       " 'maría': <gensim.models.keyedvectors.Vocab at 0x1f605416cc0>,\n",
       " 'vielma': <gensim.models.keyedvectors.Vocab at 0x1f605416cf8>,\n",
       " 'following': <gensim.models.keyedvectors.Vocab at 0x1f605416d30>,\n",
       " 'recital': <gensim.models.keyedvectors.Vocab at 0x1f605416d68>,\n",
       " 'concerts': <gensim.models.keyedvectors.Vocab at 0x1f605416da0>,\n",
       " 'series': <gensim.models.keyedvectors.Vocab at 0x1f605416dd8>,\n",
       " 'evening': <gensim.models.keyedvectors.Vocab at 0x1f605416e10>,\n",
       " 'superstar': <gensim.models.keyedvectors.Vocab at 0x1f605416e48>,\n",
       " 'tenor': <gensim.models.keyedvectors.Vocab at 0x1f605416e80>,\n",
       " 'lawrence': <gensim.models.keyedvectors.Vocab at 0x1f605416eb8>,\n",
       " 'brownlee': <gensim.models.keyedvectors.Vocab at 0x1f605416ef0>,\n",
       " 'engages': <gensim.models.keyedvectors.Vocab at 0x1f605416f28>,\n",
       " 'music': <gensim.models.keyedvectors.Vocab at 0x1f605416f60>,\n",
       " 'lewis': <gensim.models.keyedvectors.Vocab at 0x1f605416f98>,\n",
       " 'library': <gensim.models.keyedvectors.Vocab at 0x1f605416fd0>,\n",
       " 'film': <gensim.models.keyedvectors.Vocab at 0x1f605419048>,\n",
       " 'allergies': <gensim.models.keyedvectors.Vocab at 0x1f605419080>,\n",
       " 'asthma': <gensim.models.keyedvectors.Vocab at 0x1f6054190b8>,\n",
       " 'microbes': <gensim.models.keyedvectors.Vocab at 0x1f6054190f0>,\n",
       " 'weapons': <gensim.models.keyedvectors.Vocab at 0x1f605419128>,\n",
       " 'semester': <gensim.models.keyedvectors.Vocab at 0x1f605419160>,\n",
       " 'mysteries': <gensim.models.keyedvectors.Vocab at 0x1f605419198>,\n",
       " 'microscopic': <gensim.models.keyedvectors.Vocab at 0x1f6054191d0>,\n",
       " 'world': <gensim.models.keyedvectors.Vocab at 0x1f605419208>,\n",
       " 'connect': <gensim.models.keyedvectors.Vocab at 0x1f605419240>,\n",
       " 'departmental': <gensim.models.keyedvectors.Vocab at 0x1f605419278>,\n",
       " 'based': <gensim.models.keyedvectors.Vocab at 0x1f6054192b0>,\n",
       " 'accounts': <gensim.models.keyedvectors.Vocab at 0x1f6054192e8>,\n",
       " 'latest': <gensim.models.keyedvectors.Vocab at 0x1f605419320>,\n",
       " 'campus': <gensim.models.keyedvectors.Vocab at 0x1f605419358>,\n",
       " 'approach': <gensim.models.keyedvectors.Vocab at 0x1f605419390>,\n",
       " 'learning': <gensim.models.keyedvectors.Vocab at 0x1f6054193c8>,\n",
       " 'combines': <gensim.models.keyedvectors.Vocab at 0x1f605419400>,\n",
       " 'best': <gensim.models.keyedvectors.Vocab at 0x1f605419438>,\n",
       " 'aspects': <gensim.models.keyedvectors.Vocab at 0x1f605419470>,\n",
       " 'great': <gensim.models.keyedvectors.Vocab at 0x1f6054194a8>,\n",
       " 'research': <gensim.models.keyedvectors.Vocab at 0x1f6054194e0>,\n",
       " 'outstanding': <gensim.models.keyedvectors.Vocab at 0x1f605419518>,\n",
       " 'liberal': <gensim.models.keyedvectors.Vocab at 0x1f605419550>,\n",
       " 'college': <gensim.models.keyedvectors.Vocab at 0x1f605419588>,\n",
       " 'employee': <gensim.models.keyedvectors.Vocab at 0x1f6054195c0>,\n",
       " 'opportunity': <gensim.models.keyedvectors.Vocab at 0x1f6054195f8>,\n",
       " 'impact': <gensim.models.keyedvectors.Vocab at 0x1f605419630>,\n",
       " 'supporting': <gensim.models.keyedvectors.Vocab at 0x1f605419668>,\n",
       " 'mission': <gensim.models.keyedvectors.Vocab at 0x1f6054196a0>,\n",
       " 'teaching': <gensim.models.keyedvectors.Vocab at 0x1f6054196d8>,\n",
       " 'mathematics': <gensim.models.keyedvectors.Vocab at 0x1f605419710>,\n",
       " 'cole': <gensim.models.keyedvectors.Vocab at 0x1f605419748>,\n",
       " 'bunzel': <gensim.models.keyedvectors.Vocab at 0x1f605419780>,\n",
       " 'matthew': <gensim.models.keyedvectors.Vocab at 0x1f6054197b8>,\n",
       " 'edwards': <gensim.models.keyedvectors.Vocab at 0x1f6054197f0>,\n",
       " 'fellowships': <gensim.models.keyedvectors.Vocab at 0x1f605419828>,\n",
       " 'support': <gensim.models.keyedvectors.Vocab at 0x1f605419860>,\n",
       " 'final': <gensim.models.keyedvectors.Vocab at 0x1f605419898>,\n",
       " 'study': <gensim.models.keyedvectors.Vocab at 0x1f6054198d0>,\n",
       " 'divisions': <gensim.models.keyedvectors.Vocab at 0x1f605419908>,\n",
       " 'humanities': <gensim.models.keyedvectors.Vocab at 0x1f605419940>,\n",
       " 'social': <gensim.models.keyedvectors.Vocab at 0x1f605419978>,\n",
       " 'sciences': <gensim.models.keyedvectors.Vocab at 0x1f6054199b0>,\n",
       " 'natural': <gensim.models.keyedvectors.Vocab at 0x1f6054199e8>,\n",
       " 'exhibited': <gensim.models.keyedvectors.Vocab at 0x1f605419a20>,\n",
       " 'highest': <gensim.models.keyedvectors.Vocab at 0x1f605419a58>,\n",
       " 'scholarly': <gensim.models.keyedvectors.Vocab at 0x1f605419a90>,\n",
       " 'excellence': <gensim.models.keyedvectors.Vocab at 0x1f605419ac8>,\n",
       " 'fellows': <gensim.models.keyedvectors.Vocab at 0x1f605419b00>,\n",
       " 'honored': <gensim.models.keyedvectors.Vocab at 0x1f605419b38>,\n",
       " 'ceremonies': <gensim.models.keyedvectors.Vocab at 0x1f605419b70>,\n",
       " 'saturday': <gensim.models.keyedvectors.Vocab at 0x1f605419ba8>,\n",
       " 'feb': <gensim.models.keyedvectors.Vocab at 0x1f605419be0>,\n",
       " 'came': <gensim.models.keyedvectors.Vocab at 0x1f605419c18>,\n",
       " 'earned': <gensim.models.keyedvectors.Vocab at 0x1f605419c50>,\n",
       " 'bachelor': <gensim.models.keyedvectors.Vocab at 0x1f605419c88>,\n",
       " 'national': <gensim.models.keyedvectors.Vocab at 0x1f605419cc0>,\n",
       " 'technical': <gensim.models.keyedvectors.Vocab at 0x1f605419cf8>,\n",
       " 'athens': <gensim.models.keyedvectors.Vocab at 0x1f605419d30>,\n",
       " 'greece': <gensim.models.keyedvectors.Vocab at 0x1f605419d68>,\n",
       " 'visiting': <gensim.models.keyedvectors.Vocab at 0x1f605419da0>,\n",
       " 'department': <gensim.models.keyedvectors.Vocab at 0x1f605419dd8>,\n",
       " 'pure': <gensim.models.keyedvectors.Vocab at 0x1f605419e10>,\n",
       " 'mathematical': <gensim.models.keyedvectors.Vocab at 0x1f605419e48>,\n",
       " 'statistics': <gensim.models.keyedvectors.Vocab at 0x1f605419e80>,\n",
       " 'cambridge': <gensim.models.keyedvectors.Vocab at 0x1f605419eb8>,\n",
       " 'dissertation': <gensim.models.keyedvectors.Vocab at 0x1f605419ef0>,\n",
       " 'discusses': <gensim.models.keyedvectors.Vocab at 0x1f605419f28>,\n",
       " 'video': <gensim.models.keyedvectors.Vocab at 0x1f605419f60>,\n",
       " 'resolved': <gensim.models.keyedvectors.Vocab at 0x1f605419f98>,\n",
       " 'known': <gensim.models.keyedvectors.Vocab at 0x1f605419fd0>,\n",
       " 'open': <gensim.models.keyedvectors.Vocab at 0x1f60541c048>,\n",
       " 'conjectures': <gensim.models.keyedvectors.Vocab at 0x1f60541c080>,\n",
       " 'classical': <gensim.models.keyedvectors.Vocab at 0x1f60541c0b8>,\n",
       " 'gravity': <gensim.models.keyedvectors.Vocab at 0x1f60541c0f0>,\n",
       " 'formulated': <gensim.models.keyedvectors.Vocab at 0x1f60541c128>,\n",
       " 'albert': <gensim.models.keyedvectors.Vocab at 0x1f60541c160>,\n",
       " 'einstein': <gensim.models.keyedvectors.Vocab at 0x1f60541c198>,\n",
       " 'stability': <gensim.models.keyedvectors.Vocab at 0x1f60541c1d0>,\n",
       " 'instability': <gensim.models.keyedvectors.Vocab at 0x1f60541c208>,\n",
       " 'results': <gensim.models.keyedvectors.Vocab at 0x1f60541c240>,\n",
       " 'provides': <gensim.models.keyedvectors.Vocab at 0x1f60541c278>,\n",
       " 'rigorous': <gensim.models.keyedvectors.Vocab at 0x1f60541c2b0>,\n",
       " 'proof': <gensim.models.keyedvectors.Vocab at 0x1f60541c2e8>,\n",
       " 'anti': <gensim.models.keyedvectors.Vocab at 0x1f60541c320>,\n",
       " 'sitter': <gensim.models.keyedvectors.Vocab at 0x1f60541c358>,\n",
       " 'ads': <gensim.models.keyedvectors.Vocab at 0x1f60541c390>,\n",
       " 'spacetime': <gensim.models.keyedvectors.Vocab at 0x1f60541c3c8>,\n",
       " 'presence': <gensim.models.keyedvectors.Vocab at 0x1f60541c400>,\n",
       " 'matter': <gensim.models.keyedvectors.Vocab at 0x1f60541c438>,\n",
       " 'absence': <gensim.models.keyedvectors.Vocab at 0x1f60541c470>,\n",
       " 'remains': <gensim.models.keyedvectors.Vocab at 0x1f60541c4a8>,\n",
       " 'challenging': <gensim.models.keyedvectors.Vocab at 0x1f60541c4e0>,\n",
       " 'problem': <gensim.models.keyedvectors.Vocab at 0x1f60541c518>,\n",
       " 'ideas': <gensim.models.keyedvectors.Vocab at 0x1f60541c550>,\n",
       " 'techniques': <gensim.models.keyedvectors.Vocab at 0x1f60541c588>,\n",
       " 'developed': <gensim.models.keyedvectors.Vocab at 0x1f60541c5c0>,\n",
       " 'render': <gensim.models.keyedvectors.Vocab at 0x1f60541c5f8>,\n",
       " 'conjecture': <gensim.models.keyedvectors.Vocab at 0x1f60541c630>,\n",
       " 'tractable': <gensim.models.keyedvectors.Vocab at 0x1f60541c668>,\n",
       " 'said': <gensim.models.keyedvectors.Vocab at 0x1f60541c6a0>,\n",
       " 'confident': <gensim.models.keyedvectors.Vocab at 0x1f60541c6d8>,\n",
       " 'forthcoming': <gensim.models.keyedvectors.Vocab at 0x1f60541c710>,\n",
       " 'years': <gensim.models.keyedvectors.Vocab at 0x1f60541c748>,\n",
       " 'able': <gensim.models.keyedvectors.Vocab at 0x1f60541c780>,\n",
       " 'significant': <gensim.models.keyedvectors.Vocab at 0x1f60541c7b8>,\n",
       " 'progress': <gensim.models.keyedvectors.Vocab at 0x1f60541c7f0>,\n",
       " 'establishing': <gensim.models.keyedvectors.Vocab at 0x1f60541c828>,\n",
       " 'stanley': <gensim.models.keyedvectors.Vocab at 0x1f60541c860>,\n",
       " 'seeger': <gensim.models.keyedvectors.Vocab at 0x1f60541c898>,\n",
       " 'center': <gensim.models.keyedvectors.Vocab at 0x1f60541c8d0>,\n",
       " 'hellenic': <gensim.models.keyedvectors.Vocab at 0x1f60541c908>,\n",
       " 'studies': <gensim.models.keyedvectors.Vocab at 0x1f60541c940>,\n",
       " 'received': <gensim.models.keyedvectors.Vocab at 0x1f60541c978>,\n",
       " 'adviser': <gensim.models.keyedvectors.Vocab at 0x1f60541c9b0>,\n",
       " 'mihalis': <gensim.models.keyedvectors.Vocab at 0x1f60541c9e8>,\n",
       " 'dafermos': <gensim.models.keyedvectors.Vocab at 0x1f60541ca20>,\n",
       " 'ingenious': <gensim.models.keyedvectors.Vocab at 0x1f60541ca58>,\n",
       " 'publication': <gensim.models.keyedvectors.Vocab at 0x1f60541ca90>,\n",
       " 'influential': <gensim.models.keyedvectors.Vocab at 0x1f60541cac8>,\n",
       " 'future': <gensim.models.keyedvectors.Vocab at 0x1f60541cb00>,\n",
       " 'developments': <gensim.models.keyedvectors.Vocab at 0x1f60541cb38>,\n",
       " 'result': <gensim.models.keyedvectors.Vocab at 0x1f60541cb70>,\n",
       " 'original': <gensim.models.keyedvectors.Vocab at 0x1f60541cba8>,\n",
       " 'development': <gensim.models.keyedvectors.Vocab at 0x1f60541cbe0>,\n",
       " 'seen': <gensim.models.keyedvectors.Vocab at 0x1f60541cc18>,\n",
       " 'recent': <gensim.models.keyedvectors.Vocab at 0x1f60541cc50>,\n",
       " 'added': <gensim.models.keyedvectors.Vocab at 0x1f60541cc88>,\n",
       " 'protest': <gensim.models.keyedvectors.Vocab at 0x1f60541ccc0>,\n",
       " 'tunisia': <gensim.models.keyedvectors.Vocab at 0x1f60541ccf8>,\n",
       " 'morocco': <gensim.models.keyedvectors.Vocab at 0x1f60541cd30>,\n",
       " 'explores': <gensim.models.keyedvectors.Vocab at 0x1f60541cd68>,\n",
       " 'ultrafast': <gensim.models.keyedvectors.Vocab at 0x1f60541cda0>,\n",
       " 'sources': <gensim.models.keyedvectors.Vocab at 0x1f60541cdd8>,\n",
       " 'radiation': <gensim.models.keyedvectors.Vocab at 0x1f60541ce10>,\n",
       " 'celebrates': <gensim.models.keyedvectors.Vocab at 0x1f60541ce48>,\n",
       " 'researchers': <gensim.models.keyedvectors.Vocab at 0x1f60541ce80>,\n",
       " 'receive': <gensim.models.keyedvectors.Vocab at 0x1f60541ceb8>,\n",
       " 'simons': <gensim.models.keyedvectors.Vocab at 0x1f60541cef0>,\n",
       " 'investigators': <gensim.models.keyedvectors.Vocab at 0x1f60541cf28>,\n",
       " 'peter': <gensim.models.keyedvectors.Vocab at 0x1f60541cf60>,\n",
       " 'jaffe': <gensim.models.keyedvectors.Vocab at 0x1f60541cf98>,\n",
       " 'researcher': <gensim.models.keyedvectors.Vocab at 0x1f60541cfd0>,\n",
       " 'shan': <gensim.models.keyedvectors.Vocab at 0x1f60541f048>,\n",
       " 'huang': <gensim.models.keyedvectors.Vocab at 0x1f60541f080>,\n",
       " 'discovered': <gensim.models.keyedvectors.Vocab at 0x1f60541f0b8>,\n",
       " 'bacterium': <gensim.models.keyedvectors.Vocab at 0x1f60541f0f0>,\n",
       " 'offers': <gensim.models.keyedvectors.Vocab at 0x1f60541f128>,\n",
       " 'efficient': <gensim.models.keyedvectors.Vocab at 0x1f60541f160>,\n",
       " 'treat': <gensim.models.keyedvectors.Vocab at 0x1f60541f198>,\n",
       " 'sewage': <gensim.models.keyedvectors.Vocab at 0x1f60541f1d0>,\n",
       " 'pollutants': <gensim.models.keyedvectors.Vocab at 0x1f60541f208>,\n",
       " 'treatment': <gensim.models.keyedvectors.Vocab at 0x1f60541f240>,\n",
       " 'unglamorous': <gensim.models.keyedvectors.Vocab at 0x1f60541f278>,\n",
       " 'job': <gensim.models.keyedvectors.Vocab at 0x1f60541f2b0>,\n",
       " 'bacteria': <gensim.models.keyedvectors.Vocab at 0x1f60541f2e8>,\n",
       " 'happy': <gensim.models.keyedvectors.Vocab at 0x1f60541f320>,\n",
       " 'plants': <gensim.models.keyedvectors.Vocab at 0x1f60541f358>,\n",
       " 'rely': <gensim.models.keyedvectors.Vocab at 0x1f60541f390>,\n",
       " 'remove': <gensim.models.keyedvectors.Vocab at 0x1f60541f3c8>,\n",
       " 'environmental': <gensim.models.keyedvectors.Vocab at 0x1f60541f400>,\n",
       " 'toxins': <gensim.models.keyedvectors.Vocab at 0x1f60541f438>,\n",
       " 'waste': <gensim.models.keyedvectors.Vocab at 0x1f60541f470>,\n",
       " 'processed': <gensim.models.keyedvectors.Vocab at 0x1f60541f4a8>,\n",
       " 'water': <gensim.models.keyedvectors.Vocab at 0x1f60541f4e0>,\n",
       " 'safely': <gensim.models.keyedvectors.Vocab at 0x1f60541f518>,\n",
       " 'discharged': <gensim.models.keyedvectors.Vocab at 0x1f60541f550>,\n",
       " 'oceans': <gensim.models.keyedvectors.Vocab at 0x1f60541f588>,\n",
       " 'rivers': <gensim.models.keyedvectors.Vocab at 0x1f60541f5c0>,\n",
       " 'offer': <gensim.models.keyedvectors.Vocab at 0x1f60541f5f8>,\n",
       " 'method': <gensim.models.keyedvectors.Vocab at 0x1f60541f630>,\n",
       " 'treating': <gensim.models.keyedvectors.Vocab at 0x1f60541f668>,\n",
       " 'fertilizer': <gensim.models.keyedvectors.Vocab at 0x1f60541f6a0>,\n",
       " 'runoff': <gensim.models.keyedvectors.Vocab at 0x1f60541f6d8>,\n",
       " 'forms': <gensim.models.keyedvectors.Vocab at 0x1f60541f710>,\n",
       " 'acidimicrobiaceae': <gensim.models.keyedvectors.Vocab at 0x1f60541f748>,\n",
       " 'capable': <gensim.models.keyedvectors.Vocab at 0x1f60541f780>,\n",
       " 'breaking': <gensim.models.keyedvectors.Vocab at 0x1f60541f7b8>,\n",
       " 'ammonium': <gensim.models.keyedvectors.Vocab at 0x1f60541f7f0>,\n",
       " 'pollutant': <gensim.models.keyedvectors.Vocab at 0x1f60541f828>,\n",
       " 'intriguing': <gensim.models.keyedvectors.Vocab at 0x1f60541f860>,\n",
       " 'perform': <gensim.models.keyedvectors.Vocab at 0x1f60541f898>,\n",
       " 'chemical': <gensim.models.keyedvectors.Vocab at 0x1f60541f8d0>,\n",
       " 'conversion': <gensim.models.keyedvectors.Vocab at 0x1f60541f908>,\n",
       " 'oxygen': <gensim.models.keyedvectors.Vocab at 0x1f60541f940>,\n",
       " 'ability': <gensim.models.keyedvectors.Vocab at 0x1f60541f978>,\n",
       " 'useful': <gensim.models.keyedvectors.Vocab at 0x1f60541f9b0>,\n",
       " 'providing': <gensim.models.keyedvectors.Vocab at 0x1f60541f9e8>,\n",
       " 'alternative': <gensim.models.keyedvectors.Vocab at 0x1f60541fa20>,\n",
       " 'methods': <gensim.models.keyedvectors.Vocab at 0x1f60541fa58>,\n",
       " 'costly': <gensim.models.keyedvectors.Vocab at 0x1f60541fa90>,\n",
       " 'dependent': <gensim.models.keyedvectors.Vocab at 0x1f60541fac8>,\n",
       " 'currently': <gensim.models.keyedvectors.Vocab at 0x1f60541fb00>,\n",
       " 'processes': <gensim.models.keyedvectors.Vocab at 0x1f60541fb38>,\n",
       " 'deal': <gensim.models.keyedvectors.Vocab at 0x1f60541fb70>,\n",
       " 'energy': <gensim.models.keyedvectors.Vocab at 0x1f60541fba8>,\n",
       " 'machinery': <gensim.models.keyedvectors.Vocab at 0x1f60541fbe0>,\n",
       " 'mixes': <gensim.models.keyedvectors.Vocab at 0x1f60541fc18>,\n",
       " 'air': <gensim.models.keyedvectors.Vocab at 0x1f60541fc50>,\n",
       " 'wastewater': <gensim.models.keyedvectors.Vocab at 0x1f60541fc88>,\n",
       " 'provide': <gensim.models.keyedvectors.Vocab at 0x1f60541fcc0>,\n",
       " 'william': <gensim.models.keyedvectors.Vocab at 0x1f60541fcf8>,\n",
       " 'knapp': <gensim.models.keyedvectors.Vocab at 0x1f60541fd30>,\n",
       " 'civil': <gensim.models.keyedvectors.Vocab at 0x1f60541fd68>,\n",
       " 'carries': <gensim.models.keyedvectors.Vocab at 0x1f60541fda0>,\n",
       " 'reaction': <gensim.models.keyedvectors.Vocab at 0x1f60541fdd8>,\n",
       " 'present': <gensim.models.keyedvectors.Vocab at 0x1f60541fe10>,\n",
       " 'poor': <gensim.models.keyedvectors.Vocab at 0x1f60541fe48>,\n",
       " 'areas': <gensim.models.keyedvectors.Vocab at 0x1f60541fe80>,\n",
       " 'underground': <gensim.models.keyedvectors.Vocab at 0x1f60541feb8>,\n",
       " 'aquifers': <gensim.models.keyedvectors.Vocab at 0x1f60541fef0>,\n",
       " 'identified': <gensim.models.keyedvectors.Vocab at 0x1f60541ff28>,\n",
       " 'wetland': <gensim.models.keyedvectors.Vocab at 0x1f60541ff60>,\n",
       " 'colleague': <gensim.models.keyedvectors.Vocab at 0x1f60541ff98>,\n",
       " 'associate': <gensim.models.keyedvectors.Vocab at 0x1f60541ffd0>,\n",
       " 'scholar': <gensim.models.keyedvectors.Vocab at 0x1f605422048>,\n",
       " 'reported': <gensim.models.keyedvectors.Vocab at 0x1f605422080>,\n",
       " 'discovery': <gensim.models.keyedvectors.Vocab at 0x1f6054220b8>,\n",
       " 'unique': <gensim.models.keyedvectors.Vocab at 0x1f6054220f0>,\n",
       " 'abilities': <gensim.models.keyedvectors.Vocab at 0x1f605422128>,\n",
       " 'journal': <gensim.models.keyedvectors.Vocab at 0x1f605422160>,\n",
       " 'plos': <gensim.models.keyedvectors.Vocab at 0x1f605422198>,\n",
       " 'sewer': <gensim.models.keyedvectors.Vocab at 0x1f6054221d0>,\n",
       " 'discharge': <gensim.models.keyedvectors.Vocab at 0x1f605422208>,\n",
       " 'use': <gensim.models.keyedvectors.Vocab at 0x1f605422240>,\n",
       " 'requires': <gensim.models.keyedvectors.Vocab at 0x1f605422278>,\n",
       " 'lots': <gensim.models.keyedvectors.Vocab at 0x1f6054222b0>,\n",
       " 'feed': <gensim.models.keyedvectors.Vocab at 0x1f6054222e8>,\n",
       " 'turns': <gensim.models.keyedvectors.Vocab at 0x1f605422320>,\n",
       " 'nitrite': <gensim.models.keyedvectors.Vocab at 0x1f605422358>,\n",
       " 'convert': <gensim.models.keyedvectors.Vocab at 0x1f605422390>,\n",
       " 'harmless': <gensim.models.keyedvectors.Vocab at 0x1f6054223c8>,\n",
       " 'nitrogen': <gensim.models.keyedvectors.Vocab at 0x1f605422400>,\n",
       " 'gas': <gensim.models.keyedvectors.Vocab at 0x1f605422438>,\n",
       " 'removing': <gensim.models.keyedvectors.Vocab at 0x1f605422470>,\n",
       " 'important': <gensim.models.keyedvectors.Vocab at 0x1f6054224a8>,\n",
       " 'prevent': <gensim.models.keyedvectors.Vocab at 0x1f6054224e0>,\n",
       " 'depletion': <gensim.models.keyedvectors.Vocab at 0x1f605422518>,\n",
       " 'streams': <gensim.models.keyedvectors.Vocab at 0x1f605422550>,\n",
       " 'eutrophication': <gensim.models.keyedvectors.Vocab at 0x1f605422588>,\n",
       " 'growth': <gensim.models.keyedvectors.Vocab at 0x1f6054225c0>,\n",
       " 'excessive': <gensim.models.keyedvectors.Vocab at 0x1f6054225f8>,\n",
       " 'algae': <gensim.models.keyedvectors.Vocab at 0x1f605422630>,\n",
       " 'triggered': <gensim.models.keyedvectors.Vocab at 0x1f605422668>,\n",
       " 'compounds': <gensim.models.keyedvectors.Vocab at 0x1f6054226a0>,\n",
       " 'agricultural': <gensim.models.keyedvectors.Vocab at 0x1f6054226d8>,\n",
       " 'process': <gensim.models.keyedvectors.Vocab at 0x1f605422710>,\n",
       " 'feammox': <gensim.models.keyedvectors.Vocab at 0x1f605422748>,\n",
       " 'occurs': <gensim.models.keyedvectors.Vocab at 0x1f605422780>,\n",
       " 'acidic': <gensim.models.keyedvectors.Vocab at 0x1f6054227b8>,\n",
       " 'iron': <gensim.models.keyedvectors.Vocab at 0x1f6054227f0>,\n",
       " 'rich': <gensim.models.keyedvectors.Vocab at 0x1f605422828>,\n",
       " 'environments': <gensim.models.keyedvectors.Vocab at 0x1f605422860>,\n",
       " 'soils': <gensim.models.keyedvectors.Vocab at 0x1f605422898>,\n",
       " 'place': <gensim.models.keyedvectors.Vocab at 0x1f6054228d0>,\n",
       " 'riparian': <gensim.models.keyedvectors.Vocab at 0x1f605422908>,\n",
       " 'tropical': <gensim.models.keyedvectors.Vocab at 0x1f605422940>,\n",
       " 'rainforest': <gensim.models.keyedvectors.Vocab at 0x1f605422978>,\n",
       " 'puerto': <gensim.models.keyedvectors.Vocab at 0x1f6054229b0>,\n",
       " 'rico': <gensim.models.keyedvectors.Vocab at 0x1f6054229e8>,\n",
       " 'south': <gensim.models.keyedvectors.Vocab at 0x1f605422a20>,\n",
       " 'carolina': <gensim.models.keyedvectors.Vocab at 0x1f605422a58>,\n",
       " 'forested': <gensim.models.keyedvectors.Vocab at 0x1f605422a90>,\n",
       " 'locations': <gensim.models.keyedvectors.Vocab at 0x1f605422ac8>,\n",
       " 'southern': <gensim.models.keyedvectors.Vocab at 0x1f605422b00>,\n",
       " 'china': <gensim.models.keyedvectors.Vocab at 0x1f605422b38>,\n",
       " 'clear': <gensim.models.keyedvectors.Vocab at 0x1f605422b70>,\n",
       " 'enabled': <gensim.models.keyedvectors.Vocab at 0x1f605422ba8>,\n",
       " 'hunch': <gensim.models.keyedvectors.Vocab at 0x1f605422be0>,\n",
       " 'single': <gensim.models.keyedvectors.Vocab at 0x1f605422c18>,\n",
       " 'root': <gensim.models.keyedvectors.Vocab at 0x1f605422c50>,\n",
       " 'samples': <gensim.models.keyedvectors.Vocab at 0x1f605422c88>,\n",
       " 'taken': <gensim.models.keyedvectors.Vocab at 0x1f605422cc0>,\n",
       " 'assunpink': <gensim.models.keyedvectors.Vocab at 0x1f605422cf8>,\n",
       " 'near': <gensim.models.keyedvectors.Vocab at 0x1f605422d30>,\n",
       " 'trenton': <gensim.models.keyedvectors.Vocab at 0x1f605422d68>,\n",
       " 'time': <gensim.models.keyedvectors.Vocab at 0x1f605422da0>,\n",
       " 'colleagues': <gensim.models.keyedvectors.Vocab at 0x1f605422dd8>,\n",
       " 'took': <gensim.models.keyedvectors.Vocab at 0x1f605422e10>,\n",
       " 'specific': <gensim.models.keyedvectors.Vocab at 0x1f605422e48>,\n",
       " 'species': <gensim.models.keyedvectors.Vocab at 0x1f605422e80>,\n",
       " 'dubbed': <gensim.models.keyedvectors.Vocab at 0x1f605422eb8>,\n",
       " 'suspected': <gensim.models.keyedvectors.Vocab at 0x1f605422ef0>,\n",
       " 'played': <gensim.models.keyedvectors.Vocab at 0x1f605422f28>,\n",
       " 'key': <gensim.models.keyedvectors.Vocab at 0x1f605422f60>,\n",
       " 'role': <gensim.models.keyedvectors.Vocab at 0x1f605422f98>,\n",
       " 'converting': <gensim.models.keyedvectors.Vocab at 0x1f605422fd0>,\n",
       " 'common': <gensim.models.keyedvectors.Vocab at 0x1f605426048>,\n",
       " 'handling': <gensim.models.keyedvectors.Vocab at 0x1f605426080>,\n",
       " 'isolating': <gensim.models.keyedvectors.Vocab at 0x1f6054260b8>,\n",
       " 'definitively': <gensim.models.keyedvectors.Vocab at 0x1f6054260f0>,\n",
       " 'confirming': <gensim.models.keyedvectors.Vocab at 0x1f605426128>,\n",
       " 'painstaking': <gensim.models.keyedvectors.Vocab at 0x1f605426160>,\n",
       " 'team': <gensim.models.keyedvectors.Vocab at 0x1f605426198>,\n",
       " 'mixed': <gensim.models.keyedvectors.Vocab at 0x1f6054261d0>,\n",
       " 'soil': <gensim.models.keyedvectors.Vocab at 0x1f605426208>,\n",
       " 'collected': <gensim.models.keyedvectors.Vocab at 0x1f605426240>,\n",
       " 'material': <gensim.models.keyedvectors.Vocab at 0x1f605426278>,\n",
       " 'containing': <gensim.models.keyedvectors.Vocab at 0x1f6054262b0>,\n",
       " 'oxide': <gensim.models.keyedvectors.Vocab at 0x1f6054262e8>,\n",
       " 'allowed': <gensim.models.keyedvectors.Vocab at 0x1f605426320>,\n",
       " 'mixture': <gensim.models.keyedvectors.Vocab at 0x1f605426358>,\n",
       " 'incubate': <gensim.models.keyedvectors.Vocab at 0x1f605426390>,\n",
       " 'vials': <gensim.models.keyedvectors.Vocab at 0x1f6054263c8>,\n",
       " 'nearly': <gensim.models.keyedvectors.Vocab at 0x1f605426400>,\n",
       " 'mixing': <gensim.models.keyedvectors.Vocab at 0x1f605426438>,\n",
       " 'metal': <gensim.models.keyedvectors.Vocab at 0x1f605426470>,\n",
       " 'medium': <gensim.models.keyedvectors.Vocab at 0x1f6054264a8>,\n",
       " 'free': <gensim.models.keyedvectors.Vocab at 0x1f6054264e0>,\n",
       " 'chamber': <gensim.models.keyedvectors.Vocab at 0x1f605426518>,\n",
       " 'sealed': <gensim.models.keyedvectors.Vocab at 0x1f605426550>,\n",
       " 'tight': <gensim.models.keyedvectors.Vocab at 0x1f605426588>,\n",
       " 'mimic': <gensim.models.keyedvectors.Vocab at 0x1f6054265c0>,\n",
       " 'anaerobic': <gensim.models.keyedvectors.Vocab at 0x1f6054265f8>,\n",
       " 'conditions': <gensim.models.keyedvectors.Vocab at 0x1f605426630>,\n",
       " 'originated': <gensim.models.keyedvectors.Vocab at 0x1f605426668>,\n",
       " 'weeks': <gensim.models.keyedvectors.Vocab at 0x1f6054266a0>,\n",
       " 'course': <gensim.models.keyedvectors.Vocab at 0x1f6054266d8>,\n",
       " 'scientists': <gensim.models.keyedvectors.Vocab at 0x1f605426710>,\n",
       " 'removed': <gensim.models.keyedvectors.Vocab at 0x1f605426748>,\n",
       " 'small': <gensim.models.keyedvectors.Vocab at 0x1f605426780>,\n",
       " 'sample': <gensim.models.keyedvectors.Vocab at 0x1f6054267b8>,\n",
       " 'degraded': <gensim.models.keyedvectors.Vocab at 0x1f6054267f0>,\n",
       " 'taking': <gensim.models.keyedvectors.Vocab at 0x1f605426828>,\n",
       " 'genetic': <gensim.models.keyedvectors.Vocab at 0x1f605426860>,\n",
       " 'sequencing': <gensim.models.keyedvectors.Vocab at 0x1f605426898>,\n",
       " 'identify': <gensim.models.keyedvectors.Vocab at 0x1f6054268d0>,\n",
       " 'bacterial': <gensim.models.keyedvectors.Vocab at 0x1f605426908>,\n",
       " 'carrying': <gensim.models.keyedvectors.Vocab at 0x1f605426940>,\n",
       " 'heavy': <gensim.models.keyedvectors.Vocab at 0x1f605426978>,\n",
       " 'lifting': <gensim.models.keyedvectors.Vocab at 0x1f6054269b0>,\n",
       " 'says': <gensim.models.keyedvectors.Vocab at 0x1f6054269e8>,\n",
       " 'confirmed': <gensim.models.keyedvectors.Vocab at 0x1f605426a20>,\n",
       " 'making': <gensim.models.keyedvectors.Vocab at 0x1f605426a58>,\n",
       " 'carry': <gensim.models.keyedvectors.Vocab at 0x1f605426a90>,\n",
       " 'exploring': <gensim.models.keyedvectors.Vocab at 0x1f605426ac8>,\n",
       " 'build': <gensim.models.keyedvectors.Vocab at 0x1f605426b00>,\n",
       " 'reactor': <gensim.models.keyedvectors.Vocab at 0x1f605426b38>,\n",
       " 'industrial': <gensim.models.keyedvectors.Vocab at 0x1f605426b70>,\n",
       " 'scales': <gensim.models.keyedvectors.Vocab at 0x1f605426ba8>,\n",
       " 'challenge': <gensim.models.keyedvectors.Vocab at 0x1f605426be0>,\n",
       " 'consume': <gensim.models.keyedvectors.Vocab at 0x1f605426c18>,\n",
       " 'replace': <gensim.models.keyedvectors.Vocab at 0x1f605426c50>,\n",
       " 'experimenting': <gensim.models.keyedvectors.Vocab at 0x1f605426c88>,\n",
       " 'applying': <gensim.models.keyedvectors.Vocab at 0x1f605426cc0>,\n",
       " 'electrical': <gensim.models.keyedvectors.Vocab at 0x1f605426cf8>,\n",
       " 'electrodes': <gensim.models.keyedvectors.Vocab at 0x1f605426d30>,\n",
       " 'inserted': <gensim.models.keyedvectors.Vocab at 0x1f605426d68>,\n",
       " 'liquid': <gensim.models.keyedvectors.Vocab at 0x1f605426da0>,\n",
       " 'device': <gensim.models.keyedvectors.Vocab at 0x1f605426dd8>,\n",
       " 'microbial': <gensim.models.keyedvectors.Vocab at 0x1f605426e10>,\n",
       " 'electrolysis': <gensim.models.keyedvectors.Vocab at 0x1f605426e48>,\n",
       " 'cell': <gensim.models.keyedvectors.Vocab at 0x1f605426e80>,\n",
       " 'working': <gensim.models.keyedvectors.Vocab at 0x1f605426eb8>,\n",
       " 'chinese': <gensim.models.keyedvectors.Vocab at 0x1f605426ef0>,\n",
       " 'ministry': <gensim.models.keyedvectors.Vocab at 0x1f605426f28>,\n",
       " 'develop': <gensim.models.keyedvectors.Vocab at 0x1f605426f60>,\n",
       " 'prototype': <gensim.models.keyedvectors.Vocab at 0x1f605426f98>,\n",
       " 'reduce': <gensim.models.keyedvectors.Vocab at 0x1f605426fd0>,\n",
       " 'metals': <gensim.models.keyedvectors.Vocab at 0x1f60542a048>,\n",
       " 'help': <gensim.models.keyedvectors.Vocab at 0x1f60542a080>,\n",
       " 'counter': <gensim.models.keyedvectors.Vocab at 0x1f60542a0b8>,\n",
       " 'nutrients': <gensim.models.keyedvectors.Vocab at 0x1f60542a0f0>,\n",
       " 'damage': <gensim.models.keyedvectors.Vocab at 0x1f60542a128>,\n",
       " 'lakes': <gensim.models.keyedvectors.Vocab at 0x1f60542a160>,\n",
       " 'coastlines': <gensim.models.keyedvectors.Vocab at 0x1f60542a198>,\n",
       " 'oxidizing': <gensim.models.keyedvectors.Vocab at 0x1f60542a1d0>,\n",
       " 'simultaneously': <gensim.models.keyedvectors.Vocab at 0x1f60542a208>,\n",
       " 'hard': <gensim.models.keyedvectors.Vocab at 0x1f60542a240>,\n",
       " 'polluted': <gensim.models.keyedvectors.Vocab at 0x1f60542a278>,\n",
       " 'sites': <gensim.models.keyedvectors.Vocab at 0x1f60542a2b0>,\n",
       " 'transfer': <gensim.models.keyedvectors.Vocab at 0x1f60542a2e8>,\n",
       " 'electrons': <gensim.models.keyedvectors.Vocab at 0x1f60542a320>,\n",
       " 'uranium': <gensim.models.keyedvectors.Vocab at 0x1f60542a358>,\n",
       " 'copper': <gensim.models.keyedvectors.Vocab at 0x1f60542a390>,\n",
       " 'case': <gensim.models.keyedvectors.Vocab at 0x1f60542a3c8>,\n",
       " 'transforming': <gensim.models.keyedvectors.Vocab at 0x1f60542a400>,\n",
       " 'form': <gensim.models.keyedvectors.Vocab at 0x1f60542a438>,\n",
       " 'soluble': <gensim.models.keyedvectors.Vocab at 0x1f60542a470>,\n",
       " 'require': <gensim.models.keyedvectors.Vocab at 0x1f60542a4a8>,\n",
       " 'survive': <gensim.models.keyedvectors.Vocab at 0x1f60542a4e0>,\n",
       " 'places': <gensim.models.keyedvectors.Vocab at 0x1f60542a518>,\n",
       " 'contaminated': <gensim.models.keyedvectors.Vocab at 0x1f60542a550>,\n",
       " 'groundwater': <gensim.models.keyedvectors.Vocab at 0x1f60542a588>,\n",
       " 'combine': <gensim.models.keyedvectors.Vocab at 0x1f60542a5c0>,\n",
       " 'versatility': <gensim.models.keyedvectors.Vocab at 0x1f60542a5f8>,\n",
       " 'tool': <gensim.models.keyedvectors.Vocab at 0x1f60542a630>,\n",
       " 'addressing': <gensim.models.keyedvectors.Vocab at 0x1f60542a668>,\n",
       " 'range': <gensim.models.keyedvectors.Vocab at 0x1f60542a6a0>,\n",
       " 'problems': <gensim.models.keyedvectors.Vocab at 0x1f60542a6d8>,\n",
       " 'project': <gensim.models.keyedvectors.Vocab at 0x1f60542a710>,\n",
       " 'provided': <gensim.models.keyedvectors.Vocab at 0x1f60542a748>,\n",
       " 'foundation': <gensim.models.keyedvectors.Vocab at 0x1f60542a780>,\n",
       " 'fund': <gensim.models.keyedvectors.Vocab at 0x1f60542a7b8>,\n",
       " 'unconventional': <gensim.models.keyedvectors.Vocab at 0x1f60542a7f0>,\n",
       " 'funding': <gensim.models.keyedvectors.Vocab at 0x1f60542a828>,\n",
       " 'meant': <gensim.models.keyedvectors.Vocab at 0x1f60542a860>,\n",
       " 'high': <gensim.models.keyedvectors.Vocab at 0x1f60542a898>,\n",
       " 'risk': <gensim.models.keyedvectors.Vocab at 0x1f60542a8d0>,\n",
       " 'possible': <gensim.models.keyedvectors.Vocab at 0x1f60542a908>,\n",
       " 'laboratory': <gensim.models.keyedvectors.Vocab at 0x1f60542a940>,\n",
       " 'pursue': <gensim.models.keyedvectors.Vocab at 0x1f60542a978>,\n",
       " 'exciting': <gensim.models.keyedvectors.Vocab at 0x1f60542a9b0>,\n",
       " 'directions': <gensim.models.keyedvectors.Vocab at 0x1f60542a9e8>,\n",
       " 'traditional': <gensim.models.keyedvectors.Vocab at 0x1f60542aa20>,\n",
       " 'mechanisms': <gensim.models.keyedvectors.Vocab at 0x1f60542aa58>,\n",
       " 'bug': <gensim.models.keyedvectors.Vocab at 0x1f60542aa90>,\n",
       " 'yield': <gensim.models.keyedvectors.Vocab at 0x1f60542aac8>,\n",
       " 'cleaner': <gensim.models.keyedvectors.Vocab at 0x1f60542ab00>,\n",
       " 'shostack': <gensim.models.keyedvectors.Vocab at 0x1f60542ab38>,\n",
       " 'gives': <gensim.models.keyedvectors.Vocab at 0x1f60542ab70>,\n",
       " 'million': <gensim.models.keyedvectors.Vocab at 0x1f60542aba8>,\n",
       " 'endow': <gensim.models.keyedvectors.Vocab at 0x1f60542abe0>,\n",
       " 'giving': <gensim.models.keyedvectors.Vocab at 0x1f60542ac18>,\n",
       " 'freedom': <gensim.models.keyedvectors.Vocab at 0x1f60542ac50>,\n",
       " 'tinkerers': <gensim.models.keyedvectors.Vocab at 0x1f60542ac88>,\n",
       " 'denitrification': <gensim.models.keyedvectors.Vocab at 0x1f60542acc0>,\n",
       " 'importance': <gensim.models.keyedvectors.Vocab at 0x1f60542acf8>,\n",
       " 'diluted': <gensim.models.keyedvectors.Vocab at 0x1f60542ad30>,\n",
       " 'led': <gensim.models.keyedvectors.Vocab at 0x1f60542ad68>,\n",
       " 'droughts': <gensim.models.keyedvectors.Vocab at 0x1f60542ada0>,\n",
       " 'downpours': <gensim.models.keyedvectors.Vocab at 0x1f60542add8>,\n",
       " 'climate': <gensim.models.keyedvectors.Vocab at 0x1f60542ae10>,\n",
       " 'change': <gensim.models.keyedvectors.Vocab at 0x1f60542ae48>,\n",
       " 'feeds': <gensim.models.keyedvectors.Vocab at 0x1f60542ae80>,\n",
       " 'chesapeake': <gensim.models.keyedvectors.Vocab at 0x1f60542aeb8>,\n",
       " 'bay': <gensim.models.keyedvectors.Vocab at 0x1f60542aef0>,\n",
       " 'algal': <gensim.models.keyedvectors.Vocab at 0x1f60542af28>,\n",
       " 'blooms': <gensim.models.keyedvectors.Vocab at 0x1f60542af60>,\n",
       " 'ward': <gensim.models.keyedvectors.Vocab at 0x1f60542af98>,\n",
       " 'unravels': <gensim.models.keyedvectors.Vocab at 0x1f60542afd0>,\n",
       " 'global': <gensim.models.keyedvectors.Vocab at 0x1f60542d048>,\n",
       " 'cycle': <gensim.models.keyedvectors.Vocab at 0x1f60542d080>,\n",
       " 'sense': <gensim.models.keyedvectors.Vocab at 0x1f60542d0b8>,\n",
       " 'touch': <gensim.models.keyedvectors.Vocab at 0x1f60542d0f0>,\n",
       " 'prolific': <gensim.models.keyedvectors.Vocab at 0x1f60542d128>,\n",
       " 'infect': <gensim.models.keyedvectors.Vocab at 0x1f60542d160>,\n",
       " 'explore': <gensim.models.keyedvectors.Vocab at 0x1f60542d198>,\n",
       " 'lake': <gensim.models.keyedvectors.Vocab at 0x1f60542d1d0>,\n",
       " 'nature': <gensim.models.keyedvectors.Vocab at 0x1f60542d208>,\n",
       " 'sake': <gensim.models.keyedvectors.Vocab at 0x1f60542d240>,\n",
       " 'taxing': <gensim.models.keyedvectors.Vocab at 0x1f60542d278>,\n",
       " 'times': <gensim.models.keyedvectors.Vocab at 0x1f60542d2b0>,\n",
       " 'need': <gensim.models.keyedvectors.Vocab at 0x1f60542d2e8>,\n",
       " 'know': <gensim.models.keyedvectors.Vocab at 0x1f60542d320>,\n",
       " 'tax': <gensim.models.keyedvectors.Vocab at 0x1f60542d358>,\n",
       " 'reform': <gensim.models.keyedvectors.Vocab at 0x1f60542d390>,\n",
       " 'gifts': <gensim.models.keyedvectors.Vocab at 0x1f60542d3c8>,\n",
       " 'undergraduate': <gensim.models.keyedvectors.Vocab at 0x1f60542d400>,\n",
       " 'parents': <gensim.models.keyedvectors.Vocab at 0x1f60542d438>,\n",
       " 'friends': <gensim.models.keyedvectors.Vocab at 0x1f60542d470>,\n",
       " 'vital': <gensim.models.keyedvectors.Vocab at 0x1f60542d4a8>,\n",
       " 'sustaining': <gensim.models.keyedvectors.Vocab at 0x1f60542d4e0>,\n",
       " 'historic': <gensim.models.keyedvectors.Vocab at 0x1f60542d518>,\n",
       " 'keeping': <gensim.models.keyedvectors.Vocab at 0x1f60542d550>,\n",
       " 'forefront': <gensim.models.keyedvectors.Vocab at 0x1f60542d588>,\n",
       " 'higher': <gensim.models.keyedvectors.Vocab at 0x1f60542d5c0>,\n",
       " 'education': <gensim.models.keyedvectors.Vocab at 0x1f60542d5f8>,\n",
       " 'established': <gensim.models.keyedvectors.Vocab at 0x1f60542d630>,\n",
       " 'edward': <gensim.models.keyedvectors.Vocab at 0x1f60542d668>,\n",
       " 'chi': <gensim.models.keyedvectors.Vocab at 0x1f60542d6a0>,\n",
       " 'lin': <gensim.models.keyedvectors.Vocab at 0x1f60542d6d8>,\n",
       " 'family': <gensim.models.keyedvectors.Vocab at 0x1f60542d710>,\n",
       " 'asian': <gensim.models.keyedvectors.Vocab at 0x1f60542d748>,\n",
       " 'american': <gensim.models.keyedvectors.Vocab at 0x1f60542d780>,\n",
       " 'nancy': <gensim.models.keyedvectors.Vocab at 0x1f60542d7b8>,\n",
       " 'explains': <gensim.models.keyedvectors.Vocab at 0x1f60542d7f0>,\n",
       " 'inspiration': <gensim.models.keyedvectors.Vocab at 0x1f60542d828>,\n",
       " 'setting': <gensim.models.keyedvectors.Vocab at 0x1f60542d860>,\n",
       " 'gerry': <gensim.models.keyedvectors.Vocab at 0x1f60542d898>,\n",
       " 'andlinger': <gensim.models.keyedvectors.Vocab at 0x1f60542d8d0>,\n",
       " 'wanted': <gensim.models.keyedvectors.Vocab at 0x1f60542d908>,\n",
       " 'raced': <gensim.models.keyedvectors.Vocab at 0x1f60542d940>,\n",
       " 'recover': <gensim.models.keyedvectors.Vocab at 0x1f60542d978>,\n",
       " 'war': <gensim.models.keyedvectors.Vocab at 0x1f60542d9b0>,\n",
       " 'austrian': <gensim.models.keyedvectors.Vocab at 0x1f60542d9e8>,\n",
       " 'teenager': <gensim.models.keyedvectors.Vocab at 0x1f60542da20>,\n",
       " 'named': <gensim.models.keyedvectors.Vocab at 0x1f60542da58>,\n",
       " 'gerhard': <gensim.models.keyedvectors.Vocab at 0x1f60542da90>,\n",
       " 'wrote': <gensim.models.keyedvectors.Vocab at 0x1f60542dac8>,\n",
       " 'essay': <gensim.models.keyedvectors.Vocab at 0x1f60542db00>,\n",
       " 'titled': <gensim.models.keyedvectors.Vocab at 0x1f60542db38>,\n",
       " 'want': <gensim.models.keyedvectors.Vocab at 0x1f60542db70>,\n",
       " 'response': <gensim.models.keyedvectors.Vocab at 0x1f60542dba8>,\n",
       " 'newspaper': <gensim.models.keyedvectors.Vocab at 0x1f60542dbe0>,\n",
       " 'contest': <gensim.models.keyedvectors.Vocab at 0x1f60542dc18>,\n",
       " 'seven': <gensim.models.keyedvectors.Vocab at 0x1f60542dc50>,\n",
       " 'decades': <gensim.models.keyedvectors.Vocab at 0x1f60542dc88>,\n",
       " 'won': <gensim.models.keyedvectors.Vocab at 0x1f60542dcc0>,\n",
       " 'ticket': <gensim.models.keyedvectors.Vocab at 0x1f60542dcf8>,\n",
       " 'ultimately': <gensim.models.keyedvectors.Vocab at 0x1f60542dd30>,\n",
       " 'set': <gensim.models.keyedvectors.Vocab at 0x1f60542dd68>,\n",
       " 'building': <gensim.models.keyedvectors.Vocab at 0x1f60542dda0>,\n",
       " 'story': <gensim.models.keyedvectors.Vocab at 0x1f60542ddd8>,\n",
       " 'short': <gensim.models.keyedvectors.Vocab at 0x1f60542de10>,\n",
       " 'capture': <gensim.models.keyedvectors.Vocab at 0x1f60542de48>,\n",
       " 'unforgettable': <gensim.models.keyedvectors.Vocab at 0x1f60542de80>,\n",
       " 'moments': <gensim.models.keyedvectors.Vocab at 0x1f60542deb8>,\n",
       " 'chadha': <gensim.models.keyedvectors.Vocab at 0x1f60542def0>,\n",
       " 'india': <gensim.models.keyedvectors.Vocab at 0x1f60542df28>,\n",
       " 'chemist': <gensim.models.keyedvectors.Vocab at 0x1f60542df60>,\n",
       " 'taylor': <gensim.models.keyedvectors.Vocab at 0x1f60542df98>,\n",
       " 'inventor': <gensim.models.keyedvectors.Vocab at 0x1f60542dfd0>,\n",
       " 'cancer': <gensim.models.keyedvectors.Vocab at 0x1f604bd1048>,\n",
       " 'drug': <gensim.models.keyedvectors.Vocab at 0x1f604bd1080>,\n",
       " 'dies': <gensim.models.keyedvectors.Vocab at 0x1f604bd10b8>,\n",
       " 'search': <gensim.models.keyedvectors.Vocab at 0x1f604bd10f0>,\n",
       " 'lecture': <gensim.models.keyedvectors.Vocab at 0x1f604bd1128>,\n",
       " 'archives': <gensim.models.keyedvectors.Vocab at 0x1f604bd1160>,\n",
       " 'recordings': <gensim.models.keyedvectors.Vocab at 0x1f604bd1198>,\n",
       " 'academics': <gensim.models.keyedvectors.Vocab at 0x1f604bd11d0>,\n",
       " 'welcome': <gensim.models.keyedvectors.Vocab at 0x1f604bd1208>,\n",
       " 'president': <gensim.models.keyedvectors.Vocab at 0x1f604bd1240>,\n",
       " 'christopher': <gensim.models.keyedvectors.Vocab at 0x1f604bd1278>,\n",
       " 'eisgruber': <gensim.models.keyedvectors.Vocab at 0x1f604bd12b0>,\n",
       " 'los': <gensim.models.keyedvectors.Vocab at 0x1f604bd12e8>,\n",
       " 'angeles': <gensim.models.keyedvectors.Vocab at 0x1f604bd1320>,\n",
       " 'learn': <gensim.models.keyedvectors.Vocab at 0x1f604bd1358>,\n",
       " 'experts': <gensim.models.keyedvectors.Vocab at 0x1f604bd1390>,\n",
       " 'corporate': <gensim.models.keyedvectors.Vocab at 0x1f604bd13c8>,\n",
       " 'action': <gensim.models.keyedvectors.Vocab at 0x1f604bd1400>,\n",
       " 'combat': <gensim.models.keyedvectors.Vocab at 0x1f604bd1438>,\n",
       " 'disinformation': <gensim.models.keyedvectors.Vocab at 0x1f604bd1470>,\n",
       " 'media': <gensim.models.keyedvectors.Vocab at 0x1f604bd14a8>,\n",
       " 'panel': <gensim.models.keyedvectors.Vocab at 0x1f604bd14e0>,\n",
       " 'felten': <gensim.models.keyedvectors.Vocab at 0x1f604bd1518>,\n",
       " 'left': <gensim.models.keyedvectors.Vocab at 0x1f604bd1550>,\n",
       " 'public': <gensim.models.keyedvectors.Vocab at 0x1f604bd1588>,\n",
       " 'affairs': <gensim.models.keyedvectors.Vocab at 0x1f604bd15c0>,\n",
       " 'director': <gensim.models.keyedvectors.Vocab at 0x1f604bd15f8>,\n",
       " 'policy': <gensim.models.keyedvectors.Vocab at 0x1f604bd1630>,\n",
       " 'spoke': <gensim.models.keyedvectors.Vocab at 0x1f604bd1668>,\n",
       " 'feedback': <gensim.models.keyedvectors.Vocab at 0x1f604bd16a0>,\n",
       " 'loops': <gensim.models.keyedvectors.Vocab at 0x1f604bd16d8>,\n",
       " 'created': <gensim.models.keyedvectors.Vocab at 0x1f604bd1710>,\n",
       " 'creates': <gensim.models.keyedvectors.Vocab at 0x1f604bd1748>,\n",
       " 'viral': <gensim.models.keyedvectors.Vocab at 0x1f604bd1780>,\n",
       " 'explosion': <gensim.models.keyedvectors.Vocab at 0x1f604bd17b8>,\n",
       " 'content': <gensim.models.keyedvectors.Vocab at 0x1f604bd17f0>,\n",
       " 'molly': <gensim.models.keyedvectors.Vocab at 0x1f604bd1828>,\n",
       " 'roberts': <gensim.models.keyedvectors.Vocab at 0x1f604bd1860>,\n",
       " 'assistant': <gensim.models.keyedvectors.Vocab at 0x1f604bd1898>,\n",
       " 'california': <gensim.models.keyedvectors.Vocab at 0x1f604bd18d0>,\n",
       " 'san': <gensim.models.keyedvectors.Vocab at 0x1f604bd1908>,\n",
       " 'diego': <gensim.models.keyedvectors.Vocab at 0x1f604bd1940>,\n",
       " 'zeynep': <gensim.models.keyedvectors.Vocab at 0x1f604bd1978>,\n",
       " 'tufekci': <gensim.models.keyedvectors.Vocab at 0x1f604bd19b0>,\n",
       " 'school': <gensim.models.keyedvectors.Vocab at 0x1f604bd19e8>,\n",
       " 'north': <gensim.models.keyedvectors.Vocab at 0x1f604bd1a20>,\n",
       " 'chapel': <gensim.models.keyedvectors.Vocab at 0x1f604bd1a58>,\n",
       " 'hill': <gensim.models.keyedvectors.Vocab at 0x1f604bd1a90>,\n",
       " 'moderator': <gensim.models.keyedvectors.Vocab at 0x1f604bd1ac8>,\n",
       " 'carol': <gensim.models.keyedvectors.Vocab at 0x1f604bd1b00>,\n",
       " 'giacomo': <gensim.models.keyedvectors.Vocab at 0x1f604bd1b38>,\n",
       " 'york': <gensim.models.keyedvectors.Vocab at 0x1f604bd1b70>,\n",
       " 'egan': <gensim.models.keyedvectors.Vocab at 0x1f604bd1ba8>,\n",
       " 'jimenez': <gensim.models.keyedvectors.Vocab at 0x1f604bd1be0>,\n",
       " 'woodrow': <gensim.models.keyedvectors.Vocab at 0x1f604bd1c18>,\n",
       " 'wilson': <gensim.models.keyedvectors.Vocab at 0x1f604bd1c50>,\n",
       " 'business': <gensim.models.keyedvectors.Vocab at 0x1f604bd1c88>,\n",
       " 'model': <gensim.models.keyedvectors.Vocab at 0x1f604bd1cc0>,\n",
       " 'allows': <gensim.models.keyedvectors.Vocab at 0x1f604bd1cf8>,\n",
       " 'foreign': <gensim.models.keyedvectors.Vocab at 0x1f604bd1d30>,\n",
       " 'adversaries': <gensim.models.keyedvectors.Vocab at 0x1f604bd1d68>,\n",
       " 'exploit': <gensim.models.keyedvectors.Vocab at 0x1f604bd1da0>,\n",
       " 'spreading': <gensim.models.keyedvectors.Vocab at 0x1f604bd1dd8>,\n",
       " 'amplifying': <gensim.models.keyedvectors.Vocab at 0x1f604bd1e10>,\n",
       " 'disagreements': <gensim.models.keyedvectors.Vocab at 0x1f604bd1e48>,\n",
       " 'turning': <gensim.models.keyedvectors.Vocab at 0x1f604bd1e80>,\n",
       " 'citizens': <gensim.models.keyedvectors.Vocab at 0x1f604bd1eb8>,\n",
       " 'speakers': <gensim.models.keyedvectors.Vocab at 0x1f604bd1ef0>,\n",
       " 'forum': <gensim.models.keyedvectors.Vocab at 0x1f604bd1f28>,\n",
       " 'cyberattacks': <gensim.models.keyedvectors.Vocab at 0x1f604bd1f60>,\n",
       " 'presidential': <gensim.models.keyedvectors.Vocab at 0x1f604bd1f98>,\n",
       " 'election': <gensim.models.keyedvectors.Vocab at 0x1f604bd1fd0>,\n",
       " 'abroad': <gensim.models.keyedvectors.Vocab at 0x1f604bd5048>,\n",
       " 'fundamentally': <gensim.models.keyedvectors.Vocab at 0x1f604bd5080>,\n",
       " 'internal': <gensim.models.keyedvectors.Vocab at 0x1f604bd50b8>,\n",
       " 'gen': <gensim.models.keyedvectors.Vocab at 0x1f604bd50f0>,\n",
       " 'michael': <gensim.models.keyedvectors.Vocab at 0x1f604bd5128>,\n",
       " 'hayden': <gensim.models.keyedvectors.Vocab at 0x1f604bd5160>,\n",
       " 'central': <gensim.models.keyedvectors.Vocab at 0x1f604bd5198>,\n",
       " 'intelligence': <gensim.models.keyedvectors.Vocab at 0x1f604bd51d0>,\n",
       " 'agency': <gensim.models.keyedvectors.Vocab at 0x1f604bd5208>,\n",
       " 'security': <gensim.models.keyedvectors.Vocab at 0x1f604bd5240>,\n",
       " 'russia': <gensim.models.keyedvectors.Vocab at 0x1f604bd5278>,\n",
       " 'limitless': <gensim.models.keyedvectors.Vocab at 0x1f604bd52b0>,\n",
       " 'platforms': <gensim.models.keyedvectors.Vocab at 0x1f604bd52e8>,\n",
       " 'trend': <gensim.models.keyedvectors.Vocab at 0x1f604bd5320>,\n",
       " 'culture': <gensim.models.keyedvectors.Vocab at 0x1f604bd5358>,\n",
       " 'emotion': <gensim.models.keyedvectors.Vocab at 0x1f604bd5390>,\n",
       " 'fact': <gensim.models.keyedvectors.Vocab at 0x1f604bd53c8>,\n",
       " 'hosted': <gensim.models.keyedvectors.Vocab at 0x1f604bd5400>,\n",
       " 'focused': <gensim.models.keyedvectors.Vocab at 0x1f604bd5438>,\n",
       " 'rethinking': <gensim.models.keyedvectors.Vocab at 0x1f604bd5470>,\n",
       " 'definition': <gensim.models.keyedvectors.Vocab at 0x1f604bd54a8>,\n",
       " 'scope': <gensim.models.keyedvectors.Vocab at 0x1f604bd54e0>,\n",
       " 'defense': <gensim.models.keyedvectors.Vocab at 0x1f604bd5518>,\n",
       " 'encompass': <gensim.models.keyedvectors.Vocab at 0x1f604bd5550>,\n",
       " 'fourth': <gensim.models.keyedvectors.Vocab at 0x1f604bd5588>,\n",
       " 'annual': <gensim.models.keyedvectors.Vocab at 0x1f604bd55c0>,\n",
       " 'veterans': <gensim.models.keyedvectors.Vocab at 0x1f604bd55f8>,\n",
       " 'summit': <gensim.models.keyedvectors.Vocab at 0x1f604bd5630>,\n",
       " 'previous': <gensim.models.keyedvectors.Vocab at 0x1f604bd5668>,\n",
       " 'yale': <gensim.models.keyedvectors.Vocab at 0x1f604bd56a0>,\n",
       " 'academy': <gensim.models.keyedvectors.Vocab at 0x1f604bd56d8>,\n",
       " 'panelists': <gensim.models.keyedvectors.Vocab at 0x1f604bd5710>,\n",
       " 'including': <gensim.models.keyedvectors.Vocab at 0x1f604bd5748>,\n",
       " 'event': <gensim.models.keyedvectors.Vocab at 0x1f604bd5780>,\n",
       " 'hosts': <gensim.models.keyedvectors.Vocab at 0x1f604bd57b8>,\n",
       " 'applied': <gensim.models.keyedvectors.Vocab at 0x1f604bd57f0>,\n",
       " 'vulnerable': <gensim.models.keyedvectors.Vocab at 0x1f604bd5828>,\n",
       " 'manipulation': <gensim.models.keyedvectors.Vocab at 0x1f604bd5860>,\n",
       " 'organized': <gensim.models.keyedvectors.Vocab at 0x1f604bd5898>,\n",
       " 'staff': <gensim.models.keyedvectors.Vocab at 0x1f604bd58d0>,\n",
       " 'live': <gensim.models.keyedvectors.Vocab at 0x1f604bd5908>,\n",
       " 'hashtag': <gensim.models.keyedvectors.Vocab at 0x1f604bd5940>,\n",
       " 'ranged': <gensim.models.keyedvectors.Vocab at 0x1f604bd5978>,\n",
       " 'wide': <gensim.models.keyedvectors.Vocab at 0x1f604bd59b0>,\n",
       " 'array': <gensim.models.keyedvectors.Vocab at 0x1f604bd59e8>,\n",
       " 'disciplines': <gensim.models.keyedvectors.Vocab at 0x1f604bd5a20>,\n",
       " 'legal': <gensim.models.keyedvectors.Vocab at 0x1f604bd5a58>,\n",
       " 'journalism': <gensim.models.keyedvectors.Vocab at 0x1f604bd5a90>,\n",
       " 'mara': <gensim.models.keyedvectors.Vocab at 0x1f604bd5ac8>,\n",
       " 'liasson': <gensim.models.keyedvectors.Vocab at 0x1f604bd5b00>,\n",
       " 'political': <gensim.models.keyedvectors.Vocab at 0x1f604bd5b38>,\n",
       " 'correspondent': <gensim.models.keyedvectors.Vocab at 0x1f604bd5b70>,\n",
       " 'radio': <gensim.models.keyedvectors.Vocab at 0x1f604bd5ba8>,\n",
       " 'moderated': <gensim.models.keyedvectors.Vocab at 0x1f604bd5be0>,\n",
       " 'called': <gensim.models.keyedvectors.Vocab at 0x1f604bd5c18>,\n",
       " 'exploration': <gensim.models.keyedvectors.Vocab at 0x1f604bd5c50>,\n",
       " 'dystopia': <gensim.models.keyedvectors.Vocab at 0x1f604bd5c88>,\n",
       " 'washington': <gensim.models.keyedvectors.Vocab at 0x1f604bd5cc0>,\n",
       " 'post': <gensim.models.keyedvectors.Vocab at 0x1f604bd5cf8>,\n",
       " 'columnist': <gensim.models.keyedvectors.Vocab at 0x1f604bd5d30>,\n",
       " 'david': <gensim.models.keyedvectors.Vocab at 0x1f604bd5d68>,\n",
       " 'ignatius': <gensim.models.keyedvectors.Vocab at 0x1f604bd5da0>,\n",
       " 'delivered': <gensim.models.keyedvectors.Vocab at 0x1f604bd5dd8>,\n",
       " 'opening': <gensim.models.keyedvectors.Vocab at 0x1f604bd5e10>,\n",
       " 'remarks': <gensim.models.keyedvectors.Vocab at 0x1f604bd5e48>,\n",
       " 'davos': <gensim.models.keyedvectors.Vocab at 0x1f604bd5e80>,\n",
       " 'news': <gensim.models.keyedvectors.Vocab at 0x1f604bd5eb8>,\n",
       " 'filters': <gensim.models.keyedvectors.Vocab at 0x1f604bd5ef0>,\n",
       " 'helped': <gensim.models.keyedvectors.Vocab at 0x1f604bd5f28>,\n",
       " 'americans': <gensim.models.keyedvectors.Vocab at 0x1f604bd5f60>,\n",
       " 'organize': <gensim.models.keyedvectors.Vocab at 0x1f604bd5f98>,\n",
       " 'reaffirm': <gensim.models.keyedvectors.Vocab at 0x1f604bd5fd0>,\n",
       " 'peoples': <gensim.models.keyedvectors.Vocab at 0x1f604bd8048>,\n",
       " 'view': <gensim.models.keyedvectors.Vocab at 0x1f604bd8080>,\n",
       " 'largely': <gensim.models.keyedvectors.Vocab at 0x1f604bd80b8>,\n",
       " 'campaign': <gensim.models.keyedvectors.Vocab at 0x1f604bd80f0>,\n",
       " 'activities': <gensim.models.keyedvectors.Vocab at 0x1f604bd8128>,\n",
       " 'traced': <gensim.models.keyedvectors.Vocab at 0x1f604bd8160>,\n",
       " 'facebook': <gensim.models.keyedvectors.Vocab at 0x1f604bd8198>,\n",
       " 'designed': <gensim.models.keyedvectors.Vocab at 0x1f604bd81d0>,\n",
       " 'reach': <gensim.models.keyedvectors.Vocab at 0x1f604bd8208>,\n",
       " 'voters': <gensim.models.keyedvectors.Vocab at 0x1f604bd8240>,\n",
       " 'michigan': <gensim.models.keyedvectors.Vocab at 0x1f604bd8278>,\n",
       " 'wisconsin': <gensim.models.keyedvectors.Vocab at 0x1f604bd82b0>,\n",
       " 'swing': <gensim.models.keyedvectors.Vocab at 0x1f604bd82e8>,\n",
       " 'donald': <gensim.models.keyedvectors.Vocab at 0x1f604bd8320>,\n",
       " 'trump': <gensim.models.keyedvectors.Vocab at 0x1f604bd8358>,\n",
       " 'theft': <gensim.models.keyedvectors.Vocab at 0x1f604bd8390>,\n",
       " 'leak': <gensim.models.keyedvectors.Vocab at 0x1f604bd83c8>,\n",
       " 'embarrassing': <gensim.models.keyedvectors.Vocab at 0x1f604bd8400>,\n",
       " 'emails': <gensim.models.keyedvectors.Vocab at 0x1f604bd8438>,\n",
       " 'hillary': <gensim.models.keyedvectors.Vocab at 0x1f604bd8470>,\n",
       " 'clinton': <gensim.models.keyedvectors.Vocab at 0x1f604bd84a8>,\n",
       " 'chairman': <gensim.models.keyedvectors.Vocab at 0x1f604bd84e0>,\n",
       " 'democratic': <gensim.models.keyedvectors.Vocab at 0x1f604bd8518>,\n",
       " 'committee': <gensim.models.keyedvectors.Vocab at 0x1f604bd8550>,\n",
       " 'paid': <gensim.models.keyedvectors.Vocab at 0x1f604bd8588>,\n",
       " 'users': <gensim.models.keyedvectors.Vocab at 0x1f604bd85c0>,\n",
       " 'trolls': <gensim.models.keyedvectors.Vocab at 0x1f604bd85f8>,\n",
       " 'stories': <gensim.models.keyedvectors.Vocab at 0x1f604bd8630>,\n",
       " 'controversies': <gensim.models.keyedvectors.Vocab at 0x1f604bd8668>,\n",
       " 'amplify': <gensim.models.keyedvectors.Vocab at 0x1f604bd86a0>,\n",
       " 'divisive': <gensim.models.keyedvectors.Vocab at 0x1f604bd86d8>,\n",
       " 'issues': <gensim.models.keyedvectors.Vocab at 0x1f604bd8710>,\n",
       " 'like': <gensim.models.keyedvectors.Vocab at 0x1f604bd8748>,\n",
       " 'gun': <gensim.models.keyedvectors.Vocab at 0x1f604bd8780>,\n",
       " 'rights': <gensim.models.keyedvectors.Vocab at 0x1f604bd87b8>,\n",
       " 'lgbt': <gensim.models.keyedvectors.Vocab at 0x1f604bd87f0>,\n",
       " 'matters': <gensim.models.keyedvectors.Vocab at 0x1f604bd8828>,\n",
       " 'race': <gensim.models.keyedvectors.Vocab at 0x1f604bd8860>,\n",
       " 'immigration': <gensim.models.keyedvectors.Vocab at 0x1f604bd8898>,\n",
       " 'argued': <gensim.models.keyedvectors.Vocab at 0x1f604bd88d0>,\n",
       " 'attacks': <gensim.models.keyedvectors.Vocab at 0x1f604bd8908>,\n",
       " 'targeted': <gensim.models.keyedvectors.Vocab at 0x1f604bd8940>,\n",
       " 'undermining': <gensim.models.keyedvectors.Vocab at 0x1f604bd8978>,\n",
       " 'life': <gensim.models.keyedvectors.Vocab at 0x1f604bd89b0>,\n",
       " 'trying': <gensim.models.keyedvectors.Vocab at 0x1f604bd89e8>,\n",
       " 'destroy': <gensim.models.keyedvectors.Vocab at 0x1f604bd8a20>,\n",
       " 'unity': <gensim.models.keyedvectors.Vocab at 0x1f604bd8a58>,\n",
       " 'strengths': <gensim.models.keyedvectors.Vocab at 0x1f604bd8a90>,\n",
       " 'press': <gensim.models.keyedvectors.Vocab at 0x1f604bd8ac8>,\n",
       " 'turn': <gensim.models.keyedvectors.Vocab at 0x1f604bd8b00>,\n",
       " 'noted': <gensim.models.keyedvectors.Vocab at 0x1f604bd8b38>,\n",
       " 'russian': <gensim.models.keyedvectors.Vocab at 0x1f604bd8b70>,\n",
       " 'bots': <gensim.models.keyedvectors.Vocab at 0x1f604bd8ba8>,\n",
       " 'fan': <gensim.models.keyedvectors.Vocab at 0x1f604bd8be0>,\n",
       " 'flames': <gensim.models.keyedvectors.Vocab at 0x1f604bd8c18>,\n",
       " 'outrage': <gensim.models.keyedvectors.Vocab at 0x1f604bd8c50>,\n",
       " 'knee': <gensim.models.keyedvectors.Vocab at 0x1f604bd8c88>,\n",
       " 'nfl': <gensim.models.keyedvectors.Vocab at 0x1f604bd8cc0>,\n",
       " 'controversy': <gensim.models.keyedvectors.Vocab at 0x1f604bd8cf8>,\n",
       " 'stirring': <gensim.models.keyedvectors.Vocab at 0x1f604bd8d30>,\n",
       " 'sides': <gensim.models.keyedvectors.Vocab at 0x1f604bd8d68>,\n",
       " 'issue': <gensim.models.keyedvectors.Vocab at 0x1f604bd8da0>,\n",
       " 'helping': <gensim.models.keyedvectors.Vocab at 0x1f604bd8dd8>,\n",
       " 'lot': <gensim.models.keyedvectors.Vocab at 0x1f604bd8e10>,\n",
       " 'attack': <gensim.models.keyedvectors.Vocab at 0x1f604bd8e48>,\n",
       " 'unexpected': <gensim.models.keyedvectors.Vocab at 0x1f604bd8e80>,\n",
       " 'direction': <gensim.models.keyedvectors.Vocab at 0x1f604bd8eb8>,\n",
       " 'exploiting': <gensim.models.keyedvectors.Vocab at 0x1f604bd8ef0>,\n",
       " 'previously': <gensim.models.keyedvectors.Vocab at 0x1f604bd8f28>,\n",
       " 'unknown': <gensim.models.keyedvectors.Vocab at 0x1f604bd8f60>,\n",
       " 'weakness': <gensim.models.keyedvectors.Vocab at 0x1f604bd8f98>,\n",
       " 'nation': <gensim.models.keyedvectors.Vocab at 0x1f604bd8fd0>,\n",
       " 'large': <gensim.models.keyedvectors.Vocab at 0x1f604bdb048>,\n",
       " 'george': <gensim.models.keyedvectors.Vocab at 0x1f604bdb080>,\n",
       " 'bush': <gensim.models.keyedvectors.Vocab at 0x1f604bdb0b8>,\n",
       " 'tone': <gensim.models.keyedvectors.Vocab at 0x1f604bdb0f0>,\n",
       " 'extraordinary': <gensim.models.keyedvectors.Vocab at 0x1f604bdb128>,\n",
       " 'far': <gensim.models.keyedvectors.Vocab at 0x1f604bdb160>,\n",
       " 'hasn': <gensim.models.keyedvectors.Vocab at 0x1f604bdb198>,\n",
       " 'happened': <gensim.models.keyedvectors.Vocab at 0x1f604bdb1d0>,\n",
       " 'vicious': <gensim.models.keyedvectors.Vocab at 0x1f604bdb208>,\n",
       " 'citp': <gensim.models.keyedvectors.Vocab at 0x1f604bdb240>,\n",
       " 'loop': <gensim.models.keyedvectors.Vocab at 0x1f604bdb278>,\n",
       " 'people': <gensim.models.keyedvectors.Vocab at 0x1f604bdb2b0>,\n",
       " 'algorithms': <gensim.models.keyedvectors.Vocab at 0x1f604bdb2e8>,\n",
       " 'determine': <gensim.models.keyedvectors.Vocab at 0x1f604bdb320>,\n",
       " 'reinforces': <gensim.models.keyedvectors.Vocab at 0x1f604bdb358>,\n",
       " 'algorithm': <gensim.models.keyedvectors.Vocab at 0x1f604bdb390>,\n",
       " 'terrell': <gensim.models.keyedvectors.Vocab at 0x1f604bdb3c8>,\n",
       " 'mcsweeny': <gensim.models.keyedvectors.Vocab at 0x1f604bdb400>,\n",
       " 'right': <gensim.models.keyedvectors.Vocab at 0x1f604bdb438>,\n",
       " 'commissioner': <gensim.models.keyedvectors.Vocab at 0x1f604bdb470>,\n",
       " 'federal': <gensim.models.keyedvectors.Vocab at 0x1f604bdb4a8>,\n",
       " 'trade': <gensim.models.keyedvectors.Vocab at 0x1f604bdb4e0>,\n",
       " 'commission': <gensim.models.keyedvectors.Vocab at 0x1f604bdb518>,\n",
       " 'speaks': <gensim.models.keyedvectors.Vocab at 0x1f604bdb550>,\n",
       " 'edelman': <gensim.models.keyedvectors.Vocab at 0x1f604bdb588>,\n",
       " 'massachusetts': <gensim.models.keyedvectors.Vocab at 0x1f604bdb5c0>,\n",
       " 'institute': <gensim.models.keyedvectors.Vocab at 0x1f604bdb5f8>,\n",
       " 'official': <gensim.models.keyedvectors.Vocab at 0x1f604bdb630>,\n",
       " 'white': <gensim.models.keyedvectors.Vocab at 0x1f604bdb668>,\n",
       " 'house': <gensim.models.keyedvectors.Vocab at 0x1f604bdb6a0>,\n",
       " 'office': <gensim.models.keyedvectors.Vocab at 0x1f604bdb6d8>,\n",
       " 'economic': <gensim.models.keyedvectors.Vocab at 0x1f604bdb710>,\n",
       " 'difficult': <gensim.models.keyedvectors.Vocab at 0x1f604bdb748>,\n",
       " 'question': <gensim.models.keyedvectors.Vocab at 0x1f604bdb780>,\n",
       " 'youtube': <gensim.models.keyedvectors.Vocab at 0x1f604bdb7b8>,\n",
       " 'incentive': <gensim.models.keyedvectors.Vocab at 0x1f604bdb7f0>,\n",
       " 'platform': <gensim.models.keyedvectors.Vocab at 0x1f604bdb828>,\n",
       " 'longer': <gensim.models.keyedvectors.Vocab at 0x1f604bdb860>,\n",
       " 'period': <gensim.models.keyedvectors.Vocab at 0x1f604bdb898>,\n",
       " 'looking': <gensim.models.keyedvectors.Vocab at 0x1f604bdb8d0>,\n",
       " 'rally': <gensim.models.keyedvectors.Vocab at 0x1f604bdb908>,\n",
       " 'guided': <gensim.models.keyedvectors.Vocab at 0x1f604bdb940>,\n",
       " 'extreme': <gensim.models.keyedvectors.Vocab at 0x1f604bdb978>,\n",
       " 'viewpoint': <gensim.models.keyedvectors.Vocab at 0x1f604bdb9b0>,\n",
       " 'phenomenon': <gensim.models.keyedvectors.Vocab at 0x1f604bdb9e8>,\n",
       " 'speech': <gensim.models.keyedvectors.Vocab at 0x1f604bdba20>,\n",
       " 'likened': <gensim.models.keyedvectors.Vocab at 0x1f604bdba58>,\n",
       " 'addictive': <gensim.models.keyedvectors.Vocab at 0x1f604bdba90>,\n",
       " 'calories': <gensim.models.keyedvectors.Vocab at 0x1f604bdbac8>,\n",
       " 'feeding': <gensim.models.keyedvectors.Vocab at 0x1f604bdbb00>,\n",
       " 'certain': <gensim.models.keyedvectors.Vocab at 0x1f604bdbb38>,\n",
       " 'kind': <gensim.models.keyedvectors.Vocab at 0x1f604bdbb70>,\n",
       " 'bias': <gensim.models.keyedvectors.Vocab at 0x1f604bdbba8>,\n",
       " 'stream': <gensim.models.keyedvectors.Vocab at 0x1f604bdbbe0>,\n",
       " 'chief': <gensim.models.keyedvectors.Vocab at 0x1f604bdbc18>,\n",
       " 'executive': <gensim.models.keyedvectors.Vocab at 0x1f604bdbc50>,\n",
       " 'mark': <gensim.models.keyedvectors.Vocab at 0x1f604bdbc88>,\n",
       " 'zuckerberg': <gensim.models.keyedvectors.Vocab at 0x1f604bdbcc0>,\n",
       " 'appearing': <gensim.models.keyedvectors.Vocab at 0x1f604bdbcf8>,\n",
       " 'congress': <gensim.models.keyedvectors.Vocab at 0x1f604bdbd30>,\n",
       " 'tuesday': <gensim.models.keyedvectors.Vocab at 0x1f604bdbd68>,\n",
       " 'disclosure': <gensim.models.keyedvectors.Vocab at 0x1f604bdbda0>,\n",
       " 'personal': <gensim.models.keyedvectors.Vocab at 0x1f604bdbdd8>,\n",
       " 'data': <gensim.models.keyedvectors.Vocab at 0x1f604bdbe10>,\n",
       " 'meddling': <gensim.models.keyedvectors.Vocab at 0x1f604bdbe48>,\n",
       " 'occasions': <gensim.models.keyedvectors.Vocab at 0x1f604bdbe80>,\n",
       " 'given': <gensim.models.keyedvectors.Vocab at 0x1f604bdbeb8>,\n",
       " 'heartfelt': <gensim.models.keyedvectors.Vocab at 0x1f604bdbef0>,\n",
       " 'better': <gensim.models.keyedvectors.Vocab at 0x1f604bdbf28>,\n",
       " 'end': <gensim.models.keyedvectors.Vocab at 0x1f604bdbf60>,\n",
       " 'mere': <gensim.models.keyedvectors.Vocab at 0x1f604bdbf98>,\n",
       " 'cosmetic': <gensim.models.keyedvectors.Vocab at 0x1f604bdbfd0>,\n",
       " 'changes': <gensim.models.keyedvectors.Vocab at 0x1f604bdf048>,\n",
       " 'hear': <gensim.models.keyedvectors.Vocab at 0x1f604bdf080>,\n",
       " 'legislators': <gensim.models.keyedvectors.Vocab at 0x1f604bdf0b8>,\n",
       " 'protections': <gensim.models.keyedvectors.Vocab at 0x1f604bdf0f0>,\n",
       " 'collecting': <gensim.models.keyedvectors.Vocab at 0x1f604bdf128>,\n",
       " 'agreement': <gensim.models.keyedvectors.Vocab at 0x1f604bdf160>,\n",
       " 'defining': <gensim.models.keyedvectors.Vocab at 0x1f604bdf198>,\n",
       " 'disagreed': <gensim.models.keyedvectors.Vocab at 0x1f604bdf1d0>,\n",
       " 'solution': <gensim.models.keyedvectors.Vocab at 0x1f604bdf208>,\n",
       " 'legislative': <gensim.models.keyedvectors.Vocab at 0x1f604bdf240>,\n",
       " 'self': <gensim.models.keyedvectors.Vocab at 0x1f604bdf278>,\n",
       " 'correction': <gensim.models.keyedvectors.Vocab at 0x1f604bdf2b0>,\n",
       " 'industry': <gensim.models.keyedvectors.Vocab at 0x1f604bdf2e8>,\n",
       " 'deterrence': <gensim.models.keyedvectors.Vocab at 0x1f604bdf320>,\n",
       " 'countermeasures': <gensim.models.keyedvectors.Vocab at 0x1f604bdf358>,\n",
       " 'combination': <gensim.models.keyedvectors.Vocab at 0x1f604bdf390>,\n",
       " 'rand': <gensim.models.keyedvectors.Vocab at 0x1f604bdf3c8>,\n",
       " 'waltzman': <gensim.models.keyedvectors.Vocab at 0x1f604bdf400>,\n",
       " 'specialist': <gensim.models.keyedvectors.Vocab at 0x1f604bdf438>,\n",
       " 'corporation': <gensim.models.keyedvectors.Vocab at 0x1f604bdf470>,\n",
       " 'suggested': <gensim.models.keyedvectors.Vocab at 0x1f604bdf4a8>,\n",
       " 'creating': <gensim.models.keyedvectors.Vocab at 0x1f604bdf4e0>,\n",
       " 'competing': <gensim.models.keyedvectors.Vocab at 0x1f604bdf518>,\n",
       " 'independent': <gensim.models.keyedvectors.Vocab at 0x1f604bdf550>,\n",
       " 'transparent': <gensim.models.keyedvectors.Vocab at 0x1f604bdf588>,\n",
       " 'inspection': <gensim.models.keyedvectors.Vocab at 0x1f604bdf5c0>,\n",
       " 'adm': <gensim.models.keyedvectors.Vocab at 0x1f604bdf5f8>,\n",
       " 'cecil': <gensim.models.keyedvectors.Vocab at 0x1f604bdf630>,\n",
       " 'haney': <gensim.models.keyedvectors.Vocab at 0x1f604bdf668>,\n",
       " 'commanded': <gensim.models.keyedvectors.Vocab at 0x1f604bdf6a0>,\n",
       " 'strategic': <gensim.models.keyedvectors.Vocab at 0x1f604bdf6d8>,\n",
       " 'command': <gensim.models.keyedvectors.Vocab at 0x1f604bdf710>,\n",
       " 'recalled': <gensim.models.keyedvectors.Vocab at 0x1f604bdf748>,\n",
       " 'cold': <gensim.models.keyedvectors.Vocab at 0x1f604bdf780>,\n",
       " 'days': <gensim.models.keyedvectors.Vocab at 0x1f604bdf7b8>,\n",
       " 'children': <gensim.models.keyedvectors.Vocab at 0x1f604bdf7f0>,\n",
       " 'instructed': <gensim.models.keyedvectors.Vocab at 0x1f604bdf828>,\n",
       " 'duck': <gensim.models.keyedvectors.Vocab at 0x1f604bdf860>,\n",
       " 'cover': <gensim.models.keyedvectors.Vocab at 0x1f604bdf898>,\n",
       " 'tables': <gensim.models.keyedvectors.Vocab at 0x1f604bdf8d0>,\n",
       " 'effective': <gensim.models.keyedvectors.Vocab at 0x1f604bdf908>,\n",
       " 'nuclear': <gensim.models.keyedvectors.Vocab at 0x1f604bdf940>,\n",
       " 'indication': <gensim.models.keyedvectors.Vocab at 0x1f604bdf978>,\n",
       " 'country': <gensim.models.keyedvectors.Vocab at 0x1f604bdf9b0>,\n",
       " 'level': <gensim.models.keyedvectors.Vocab at 0x1f604bdf9e8>,\n",
       " 'failed': <gensim.models.keyedvectors.Vocab at 0x1f604bdfa20>,\n",
       " ...}"
      ]
     },
     "execution_count": 6,
     "metadata": {},
     "output_type": "execute_result"
    }
   ],
   "source": [
    "model.wv.vocab"
   ]
  },
  {
   "cell_type": "markdown",
   "metadata": {},
   "source": [
    "The length of our vocabulary:"
   ]
  },
  {
   "cell_type": "code",
   "execution_count": 7,
   "metadata": {},
   "outputs": [
    {
     "data": {
      "text/plain": [
       "28305"
      ]
     },
     "execution_count": 7,
     "metadata": {},
     "output_type": "execute_result"
    }
   ],
   "source": [
    "len(model.wv.vocab)"
   ]
  },
  {
   "cell_type": "markdown",
   "metadata": {},
   "source": [
    "So we have learned word vectors for over 28,000 words.\n",
    "\n",
    "How does the word vector for the word student looks like:"
   ]
  },
  {
   "cell_type": "code",
   "execution_count": 8,
   "metadata": {},
   "outputs": [
    {
     "data": {
      "text/plain": [
       "array([-3.2819135e+00,  2.4204285e+00,  2.9737287e+00,  3.6887026e-01,\n",
       "       -2.9998374e-01, -1.0267845e+00, -5.0435896e+00,  2.2730786e-02,\n",
       "        2.1325247e+00, -1.1826683e+00, -4.9889874e-01, -3.9139709e-01,\n",
       "        9.1929805e-01, -2.6734829e+00,  3.9912105e+00, -3.7183404e-01,\n",
       "        2.0452766e+00,  2.2679603e+00,  2.1200287e+00,  1.6481893e-01,\n",
       "        3.6821196e+00,  6.1622262e-01,  6.5730321e-01,  7.2523886e-01,\n",
       "        3.6821687e+00,  1.3138276e+00,  5.1610017e-01, -6.3207550e-03,\n",
       "        5.0837531e+00, -2.9473394e-02, -4.5892792e+00, -2.2266626e+00,\n",
       "       -1.1789166e+00, -3.1313622e+00,  3.4505153e+00,  2.4202220e+00,\n",
       "        1.4012457e+00, -1.4342827e+00,  9.9586725e-01, -1.3939184e+00,\n",
       "       -1.6040702e+00,  1.7687045e+00,  4.4536266e+00, -1.6756638e+00,\n",
       "       -1.1581781e+00,  3.4518983e+00, -3.3745289e+00, -2.7226014e+00,\n",
       "        2.0179405e+00,  1.2961941e+00,  6.4527845e-01, -2.7517998e+00,\n",
       "       -1.9508114e+00, -3.7016410e-01, -2.0621192e+00,  8.0384183e-01,\n",
       "       -1.8461539e-01, -1.0668207e+00,  2.4440887e+00,  2.5059111e+00,\n",
       "       -2.5003989e+00,  1.7942775e+00,  1.1882486e+00,  1.6141804e+00,\n",
       "       -1.9325495e+00,  4.4057575e-01, -3.1278586e+00,  5.7121128e-01,\n",
       "        1.6153816e+00, -1.9544581e-02, -2.9123564e+00,  2.5270763e-01,\n",
       "        1.1431487e+00,  2.4216920e-02,  8.2848966e-01, -2.8670388e-01,\n",
       "       -2.1342006e+00,  2.4967687e+00,  1.5195597e+00,  2.4271986e+00,\n",
       "       -4.5838051e+00, -8.0365252e-01, -4.6464220e-01,  2.5894752e+00,\n",
       "        1.0670664e+00,  3.5904388e+00, -2.0213466e+00, -7.7060711e-01,\n",
       "        2.7453389e+00, -1.7139872e+00,  1.7169629e+00,  1.7202475e+00,\n",
       "       -3.5903326e-01, -9.1216505e-01,  7.0835434e-02, -1.4036045e+00,\n",
       "        6.8179436e+00,  2.6836042e+00,  7.1859889e-02,  2.7155221e+00],\n",
       "      dtype=float32)"
      ]
     },
     "execution_count": 8,
     "metadata": {},
     "output_type": "execute_result"
    }
   ],
   "source": [
    "model.wv['student']"
   ]
  },
  {
   "cell_type": "markdown",
   "metadata": {},
   "source": [
    "### Word similarities\n",
    "\n",
    "What are the closest words in the learned vector space to the word \"student\":"
   ]
  },
  {
   "cell_type": "code",
   "execution_count": 13,
   "metadata": {},
   "outputs": [
    {
     "data": {
      "text/plain": [
       "[('undergraduate', 0.6001800894737244),\n",
       " ('students', 0.5281417965888977),\n",
       " ('undergraduates', 0.4921613931655884),\n",
       " ('gsg', 0.4748314619064331),\n",
       " ('resident', 0.47177934646606445),\n",
       " ('ais', 0.463997483253479),\n",
       " ('committees', 0.46147531270980835),\n",
       " ('dgs', 0.4320310354232788),\n",
       " ('participate', 0.42083072662353516),\n",
       " ('approve', 0.4166901707649231)]"
      ]
     },
     "execution_count": 13,
     "metadata": {},
     "output_type": "execute_result"
    }
   ],
   "source": [
    "model.wv.most_similar(positive=['student'])"
   ]
  },
  {
   "cell_type": "markdown",
   "metadata": {},
   "source": [
    "This makes sense. What about a different word?"
   ]
  },
  {
   "cell_type": "code",
   "execution_count": 14,
   "metadata": {},
   "outputs": [
    {
     "data": {
      "text/plain": [
       "[('germany', 0.8912753462791443),\n",
       " ('italy', 0.8386948108673096),\n",
       " ('paris', 0.8386673927307129),\n",
       " ('switzerland', 0.8241812586784363),\n",
       " ('scotland', 0.8115492463111877),\n",
       " ('ireland', 0.8042800426483154),\n",
       " ('sweden', 0.7998361587524414),\n",
       " ('spain', 0.7909560203552246),\n",
       " ('argentina', 0.7736492156982422),\n",
       " ('austria', 0.7705647349357605)]"
      ]
     },
     "execution_count": 14,
     "metadata": {},
     "output_type": "execute_result"
    }
   ],
   "source": [
    "model.wv.most_similar(positive=['france'])"
   ]
  },
  {
   "cell_type": "markdown",
   "metadata": {},
   "source": [
    "Notice that out of a vocabulary size of 28,000 words to choose from, the top guesses of the model are pretty good."
   ]
  },
  {
   "cell_type": "markdown",
   "metadata": {},
   "source": [
    "What is the cosine similarity between two words?"
   ]
  },
  {
   "cell_type": "code",
   "execution_count": 15,
   "metadata": {},
   "outputs": [
    {
     "data": {
      "text/plain": [
       "0.88683313"
      ]
     },
     "execution_count": 15,
     "metadata": {},
     "output_type": "execute_result"
    }
   ],
   "source": [
    "model.wv.similarity('man', 'woman')"
   ]
  },
  {
   "cell_type": "code",
   "execution_count": 16,
   "metadata": {},
   "outputs": [
    {
     "data": {
      "text/plain": [
       "0.15050219"
      ]
     },
     "execution_count": 16,
     "metadata": {},
     "output_type": "execute_result"
    }
   ],
   "source": [
    "model.wv.similarity('man', 'bike')"
   ]
  },
  {
   "cell_type": "markdown",
   "metadata": {},
   "source": [
    "It makes sense that a man is most similar to a woman (both are human) than to a bike."
   ]
  },
  {
   "cell_type": "code",
   "execution_count": 17,
   "metadata": {},
   "outputs": [
    {
     "data": {
      "text/plain": [
       "0.71768934"
      ]
     },
     "execution_count": 17,
     "metadata": {},
     "output_type": "execute_result"
    }
   ],
   "source": [
    "model.wv.similarity('bike', 'car')"
   ]
  },
  {
   "cell_type": "markdown",
   "metadata": {},
   "source": [
    "This is already very impressive but this model has only been trained on a very small amount of data (43MB). To get state-of-the-art results you need to train on huge training sets, terabytes of data. Training such a model will take a few days in a normal computer. Instead, we will download a very competitive model already well trained a huge corpus of news articles. The model is 3.5 GB in size (1.6 GB when compressed). You can download it from: https://drive.google.com/file/d/0B7XkCwpI5KDYNlNUTTlSS21pQmM/edit\n",
    "\n",
    "or from the I drive: \n",
    "\n",
    "`I:\\COURSES\\ITP\\BITY3\\IN726-dsmi-data\\GoogleNews-vectors-negative300.bin.gz`"
   ]
  },
  {
   "cell_type": "markdown",
   "metadata": {},
   "source": [
    "## State-of-the-art word embeddings\n",
    "\n",
    "Let's load that model into memory:"
   ]
  },
  {
   "cell_type": "code",
   "execution_count": 20,
   "metadata": {},
   "outputs": [],
   "source": [
    "from gensim.models import KeyedVectors\n",
    "filename = './GoogleNews-vectors-negative300.bin' #We can use the compressed file\n",
    "model = KeyedVectors.load_word2vec_format(filename, binary=True)"
   ]
  },
  {
   "cell_type": "markdown",
   "metadata": {},
   "source": [
    "## Some vector algebra\n",
    "\n",
    "What is the capital of Japan? we can find out by simple vector algebra $v_{japan}+v_{capital}$"
   ]
  },
  {
   "cell_type": "code",
   "execution_count": 33,
   "metadata": {},
   "outputs": [
    {
     "data": {
      "text/plain": [
       "[('captial', 0.5482852458953857),\n",
       " ('tokyo', 0.508376955986023),\n",
       " ('merrill_lynch', 0.4933147430419922),\n",
       " ('seoul', 0.48772114515304565),\n",
       " ('libya', 0.46386778354644775),\n",
       " ('japanese', 0.4621204435825348),\n",
       " ('barclays', 0.4587469696998596),\n",
       " ('korean', 0.45651066303253174),\n",
       " ('iceland', 0.4535022974014282),\n",
       " ('korea', 0.4531659483909607)]"
      ]
     },
     "execution_count": 33,
     "metadata": {},
     "output_type": "execute_result"
    }
   ],
   "source": [
    "model.most_similar(positive=['japan','capital'])"
   ]
  },
  {
   "cell_type": "markdown",
   "metadata": {},
   "source": [
    "Notice that the first guest of the model is a misspelled word, some sort of  corruption in the training data that was not corrected."
   ]
  },
  {
   "cell_type": "markdown",
   "metadata": {},
   "source": [
    "## Detecting odd one out words\n",
    "\n",
    "The model can also detect the word that is out of place in a set of words based on the corpus on which it was trained. "
   ]
  },
  {
   "cell_type": "code",
   "execution_count": 34,
   "metadata": {},
   "outputs": [
    {
     "data": {
      "text/plain": [
       "'australia'"
      ]
     },
     "execution_count": 34,
     "metadata": {},
     "output_type": "execute_result"
    }
   ],
   "source": [
    "model.doesnt_match(\"france germany spain australia\".split())"
   ]
  },
  {
   "cell_type": "code",
   "execution_count": 35,
   "metadata": {},
   "outputs": [
    {
     "data": {
      "text/plain": [
       "'cereal'"
      ]
     },
     "execution_count": 35,
     "metadata": {},
     "output_type": "execute_result"
    }
   ],
   "source": [
    "model.doesnt_match(\"breakfast lunch cereal dinner\".split())"
   ]
  },
  {
   "cell_type": "code",
   "execution_count": 36,
   "metadata": {},
   "outputs": [
    {
     "data": {
      "text/plain": [
       "'child'"
      ]
     },
     "execution_count": 36,
     "metadata": {},
     "output_type": "execute_result"
    }
   ],
   "source": [
    "model.doesnt_match(\"child accountant professor plumber electrician waiter researcher\".split())"
   ]
  },
  {
   "cell_type": "code",
   "execution_count": 37,
   "metadata": {},
   "outputs": [
    {
     "data": {
      "text/plain": [
       "'car'"
      ]
     },
     "execution_count": 37,
     "metadata": {},
     "output_type": "execute_result"
    }
   ],
   "source": [
    "model.doesnt_match(\"nation country region car\".split())"
   ]
  },
  {
   "cell_type": "markdown",
   "metadata": {},
   "source": [
    "What do you think? "
   ]
  },
  {
   "cell_type": "markdown",
   "metadata": {},
   "source": [
    "## Word analogies"
   ]
  },
  {
   "cell_type": "markdown",
   "metadata": {},
   "source": [
    "![](./images/vectors.gif)\n",
    "\n",
    "\n",
    "Let's try analogies of type \"man is to king what woman is to...\" using vector algebra:\n",
    "\n",
    "$man-king+woman=queen$"
   ]
  },
  {
   "cell_type": "code",
   "execution_count": 38,
   "metadata": {},
   "outputs": [
    {
     "data": {
      "text/plain": [
       "[('queen', 0.7118192911148071),\n",
       " ('monarch', 0.6189674139022827),\n",
       " ('princess', 0.5902431011199951),\n",
       " ('crown_prince', 0.5499460697174072),\n",
       " ('prince', 0.5377321243286133),\n",
       " ('kings', 0.5236844420433044),\n",
       " ('Queen_Consort', 0.5235945582389832),\n",
       " ('queens', 0.518113374710083),\n",
       " ('sultan', 0.5098593235015869),\n",
       " ('monarchy', 0.5087411999702454)]"
      ]
     },
     "execution_count": 38,
     "metadata": {},
     "output_type": "execute_result"
    }
   ],
   "source": [
    "model.most_similar(positive=['woman','king'], negative=['man'])"
   ]
  },
  {
   "cell_type": "markdown",
   "metadata": {},
   "source": [
    "Let's try something else: \"France is to french what Spain is to...\""
   ]
  },
  {
   "cell_type": "code",
   "execution_count": 39,
   "metadata": {},
   "outputs": [
    {
     "data": {
      "text/plain": [
       "[('spanish', 0.5827171802520752),\n",
       " ('portugal', 0.510897159576416),\n",
       " ('italy', 0.49806445837020874),\n",
       " ('madrid', 0.49230295419692993),\n",
       " ('dutch', 0.4907105565071106),\n",
       " ('brazilian', 0.490281879901886),\n",
       " ('brazilians', 0.4901704788208008),\n",
       " ('diego', 0.4892243444919586),\n",
       " ('british', 0.4888540506362915),\n",
       " ('carlos', 0.4801402688026428)]"
      ]
     },
     "execution_count": 39,
     "metadata": {},
     "output_type": "execute_result"
    }
   ],
   "source": [
    "model.most_similar(positive=['spain','french'], negative=['france'])"
   ]
  },
  {
   "cell_type": "markdown",
   "metadata": {},
   "source": [
    "\"Japan is to sushi as Germany is to…\""
   ]
  },
  {
   "cell_type": "code",
   "execution_count": 40,
   "metadata": {},
   "outputs": [
    {
     "data": {
      "text/plain": [
       "[('gourmet_pizza', 0.5244455933570862),\n",
       " ('gourmet_sandwiches', 0.5183073878288269),\n",
       " ('currywurst', 0.5040446519851685),\n",
       " ('panino', 0.49511831998825073),\n",
       " ('döner', 0.4866059422492981),\n",
       " ('Wiener_schnitzel', 0.48597854375839233),\n",
       " ('barbecued_meats', 0.48504796624183655),\n",
       " ('sashimi', 0.4840296506881714),\n",
       " ('weisswurst', 0.4810307025909424),\n",
       " ('pommes_frites', 0.4786366820335388)]"
      ]
     },
     "execution_count": 40,
     "metadata": {},
     "output_type": "execute_result"
    }
   ],
   "source": [
    "model.most_similar(positive=['germany','sushi'], negative=['japan'])"
   ]
  },
  {
   "cell_type": "markdown",
   "metadata": {},
   "source": [
    "Almost! currywurst made it to the third position!"
   ]
  },
  {
   "cell_type": "markdown",
   "metadata": {},
   "source": [
    "\"Euro is to Europe as dollar is to...\""
   ]
  },
  {
   "cell_type": "code",
   "execution_count": 41,
   "metadata": {},
   "outputs": [
    {
     "data": {
      "text/plain": [
       "[('america', 0.5804358720779419),\n",
       " ('mexico', 0.5497210621833801),\n",
       " ('japan', 0.5150582194328308),\n",
       " ('africa', 0.5090439319610596),\n",
       " ('oklahoma', 0.5079611539840698),\n",
       " ('thats', 0.5039229393005371),\n",
       " ('usa', 0.5022817254066467),\n",
       " ('american', 0.5017396807670593),\n",
       " ('utah', 0.4992958903312683),\n",
       " ('latin_america', 0.4974936842918396)]"
      ]
     },
     "execution_count": 41,
     "metadata": {},
     "output_type": "execute_result"
    }
   ],
   "source": [
    "model.most_similar(positive=['europe','dollar'], negative=['euro'])"
   ]
  },
  {
   "cell_type": "markdown",
   "metadata": {},
   "source": [
    "You can try out your own word analogies and see what you find out. Remember these model  was train on news articles, so that will create a sort of bias in what the model is able to do."
   ]
  },
  {
   "cell_type": "markdown",
   "metadata": {},
   "source": [
    "## t-SNE Visualization\n",
    "\n",
    "Finally, let's project our 300 dimensional Word vectors into just 2 dimensions using tSNE (dimensionality reduction technique similar to PCA). I will 4 groups of words:\n",
    "\n",
    "1. **Fruit:** Orange, apple, banana, grape\n",
    "\n",
    "2. **Countries:** France, Germany, Italy\n",
    "\n",
    "3. **Capitals:** Paris, Berlin, Rome\n",
    "\n",
    "4. **Professions:** builder, plumber, builders, plumbers\n",
    "\n",
    "Let's see if our model is capable of detecting the cluster structure in the above data:"
   ]
  },
  {
   "cell_type": "code",
   "execution_count": 69,
   "metadata": {},
   "outputs": [
    {
     "data": {
      "image/png": "[encoded data removed]",
      "text/plain": [
       "<Figure size 1296x720 with 1 Axes>"
      ]
     },
     "metadata": {
      "needs_background": "light"
     },
     "output_type": "display_data"
    }
   ],
   "source": [
    "import pandas as pd\n",
    "from sklearn.manifold import TSNE\n",
    "import matplotlib.pyplot as plt\n",
    "%matplotlib inline\n",
    "\n",
    "d= {}\n",
    "\n",
    "d['orange']=model.vocab['orange']\n",
    "d['apple']=model.vocab['apple']\n",
    "d['banana']=model.vocab['banana']\n",
    "d['grape']=model.vocab['grape']\n",
    "\n",
    "d['france']=model.vocab['france']\n",
    "d['germany']=model.vocab['germany']\n",
    "d['italy']=model.vocab['italy']\n",
    "\n",
    "d['paris']=model.vocab['paris']\n",
    "d['berlin']=model.vocab['berlin']\n",
    "d['rome']=model.vocab['rome']\n",
    "\n",
    "\n",
    "d['builder']=model.vocab['builder']\n",
    "d['builders']=model.vocab['builders']\n",
    "d['plumber']=model.vocab['plumber']\n",
    "d['plumbers']=model.vocab['plumbers']\n",
    "\n",
    "vocab = list(d)\n",
    "\n",
    "X = model[vocab]\n",
    "\n",
    "tsne = TSNE(perplexity=3, n_components=2, learning_rate=1, init='random',random_state=3, n_iter=2000)\n",
    "\n",
    "X_tsne = tsne.fit_transform(X)\n",
    "\n",
    "df = pd.concat([pd.DataFrame(X_tsne),\n",
    "                pd.Series(vocab)],\n",
    "               axis=1)\n",
    "\n",
    "df.columns = ['x', 'y', 'word']\n",
    "\n",
    "fig = plt.figure(figsize=(18, 10))\n",
    "ax = fig.add_subplot(1, 1, 1)\n",
    "\n",
    "ax.scatter(df['x'], df['y'])\n",
    "\n",
    "for i, txt in enumerate(df['word']):\n",
    "    ax.annotate(txt, (df['x'].iloc[i], df['y'].iloc[i]))\n"
   ]
  },
  {
   "cell_type": "markdown",
   "metadata": {},
   "source": [
    "Notice the existence of 3 to 5 pretty well determined clusters that the model has been able to abstract away from the corpus of data on which it was trained. Can you notice also the existence of syntactic and semantic regularities on the plot. \n",
    "\n",
    "You can try to plot your own  set of words and see what you think."
   ]
  }
 ],
 "metadata": {
  "anaconda-cloud": {},
  "kernelspec": {
   "display_name": "gensim2",
   "language": "python",
   "name": "gensim2"
  },
  "language_info": {
   "codemirror_mode": {
    "name": "ipython",
    "version": 3
   },
   "file_extension": ".py",
   "mimetype": "text/x-python",
   "name": "python",
   "nbconvert_exporter": "python",
   "pygments_lexer": "ipython3",
   "version": "3.7.1"
  }
 },
 "nbformat": 4,
 "nbformat_minor": 1
}
