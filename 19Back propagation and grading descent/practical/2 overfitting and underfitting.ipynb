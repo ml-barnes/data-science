{
 "cells": [
  {
   "cell_type": "markdown",
   "metadata": {},
   "source": [
    "## Loading Keras"
   ]
  },
  {
   "cell_type": "code",
   "execution_count": 1,
   "metadata": {},
   "outputs": [
    {
     "name": "stderr",
     "output_type": "stream",
     "text": [
      "C:\\Anaconda3\\lib\\site-packages\\h5py\\__init__.py:34: FutureWarning: Conversion of the second argument of issubdtype from `float` to `np.floating` is deprecated. In future, it will be treated as `np.float64 == np.dtype(float).type`.\n",
      "  from ._conv import register_converters as _register_converters\n",
      "Using TensorFlow backend.\n"
     ]
    },
    {
     "data": {
      "text/plain": [
       "'2.1.5'"
      ]
     },
     "execution_count": 1,
     "metadata": {},
     "output_type": "execute_result"
    }
   ],
   "source": [
    "import keras\n",
    "keras.__version__"
   ]
  },
  {
   "cell_type": "markdown",
   "metadata": {},
   "source": [
    "# Overfitting and underfitting\n",
    "\n",
    "In all the examples we saw previously -- movie review sentiment prediction and house price regression -- we could notice that the performance of our model on the held-out validation data would always peak after a few epochs and would then start \n",
    "degrading, i.e. our model would quickly start to _overfit_ to the training data. Overfitting happens in every single machine learning problem. Learning how to deal with overfitting is essential to mastering machine learning.\n",
    "\n",
    "The fundamental issue in machine learning is the tension between optimization and generalization. \"Optimization\" refers to the process of adjusting a model to get the best performance possible on the training data (the \"learning\" in \"machine learning\"), while \"generalization\" refers to how well the trained model would perform on data it has never seen before. The goal of the game is to get good generalization, of course, but you do not control generalization; you can only adjust the model based on its training data.\n",
    "\n",
    "At the beginning of training, optimization and generalization are correlated: the lower your loss on training data, the lower your loss on test data. While this is happening, your model is said to _under-fit_: there is still progress to be made; the network hasn't yet modeled all relevant patterns in the training data. But after a certain number of iterations on the training data, generalization stops improving, validation metrics stall then start degrading: the model is then starting to over-fit, i.e. is it starting to learn patterns that are specific to the training data but that are misleading or irrelevant when it comes to new data.\n",
    "\n",
    "To prevent a model from learning misleading or irrelevant patterns found in the training data, _the best solution is of course to get more training data_. A model trained on more data will naturally generalize better. When that is no longer possible, the next best solution is to modulate the quantity of information that your model is allowed to store, or to add constraints on what information it is allowed to store. If a network can only afford to memorize a small number of patterns, the optimization process will force it to focus on the most prominent patterns, which have a better chance of generalizing well.\n",
    "\n",
    "The processing of fighting overfitting in this way is called _regularization_. Let's review some of the most common regularization techniques, and let's apply them in practice to improve our movie classification model."
   ]
  },
  {
   "cell_type": "markdown",
   "metadata": {},
   "source": [
    "Let's prepare the data of the movie reviews from the IMDB data set:"
   ]
  },
  {
   "cell_type": "code",
   "execution_count": 2,
   "metadata": {
    "collapsed": true
   },
   "outputs": [],
   "source": [
    "from keras.datasets import imdb\n",
    "import numpy as np\n",
    "\n",
    "(train_data, train_labels), (test_data, test_labels) = imdb.load_data(num_words=10000)\n",
    "\n",
    "def vectorize_sequences(sequences, dimension=10000):\n",
    "    # Create an all-zero matrix of shape (len(sequences), dimension)\n",
    "    results = np.zeros((len(sequences), dimension))\n",
    "    for i, sequence in enumerate(sequences):\n",
    "        results[i, sequence] = 1.  # set specific indices of results[i] to 1s\n",
    "    return results\n",
    "\n",
    "# Our vectorized training data\n",
    "x_train = vectorize_sequences(train_data)\n",
    "# Our vectorized test data\n",
    "x_test = vectorize_sequences(test_data)\n",
    "# Our vectorized labels\n",
    "y_train = np.asarray(train_labels).astype('float32')\n",
    "y_test = np.asarray(test_labels).astype('float32')"
   ]
  },
  {
   "cell_type": "markdown",
   "metadata": {},
   "source": [
    "# Fighting overfitting\n",
    "\n",
    "## Reducing the network's size\n",
    "\n",
    "\n",
    "The simplest way to prevent overfitting is to reduce the size of the model, i.e. the number of learnable parameters in the model (which is \n",
    "determined by the number of layers and the number of units per layer). In deep learning, the number of learnable parameters in a model is \n",
    "often referred to as the model's \"capacity\". Intuitively, a model with more parameters will have more \"memorization capacity\" and therefore \n",
    "will be able to easily learn a perfect dictionary-like mapping between training samples and their targets, a mapping without any \n",
    "generalization power. For instance, a model with 500,000 binary parameters could easily be made to learn the class of every digits in the \n",
    "MNIST training set: we would only need 10 binary parameters for each of the 50,000 digits. Such a model would be useless for classifying \n",
    "new digit samples. Always keep this in mind: deep learning models tend to be good at fitting to the training data, but the real challenge \n",
    "is generalization, not fitting.\n",
    "\n",
    "On the other hand, if the network has limited memorization resources, it will not be able to learn this mapping as easily, and thus, in \n",
    "order to minimize its loss, it will have to resort to learning compressed representations that have predictive power regarding the targets \n",
    "-- precisely the type of representations that we are interested in. At the same time, keep in mind that you should be using models that have \n",
    "enough parameters that they won't be underfitting: your model shouldn't be starved for memorization resources. There is a compromise to be \n",
    "found between \"too much capacity\" and \"not enough capacity\".\n",
    "\n",
    "Unfortunately, there is no magical formula to determine what the right number of layers is, or what the right size for each layer is. You \n",
    "will have to evaluate an array of different architectures (on your validation set, not on your test set, of course) in order to find the \n",
    "right model size for your data. The general workflow to find an appropriate model size is to start with relatively few layers and \n",
    "parameters, and start increasing the size of the layers or adding new layers until you see diminishing returns with regard to the \n",
    "validation loss.\n",
    "\n",
    "Let's try this on our movie review classification network. Our original network was as such:"
   ]
  },
  {
   "cell_type": "code",
   "execution_count": 3,
   "metadata": {
    "collapsed": true
   },
   "outputs": [],
   "source": [
    "from keras import models\n",
    "from keras import layers\n",
    "\n",
    "original_model = models.Sequential()\n",
    "original_model.add(layers.Dense(16, activation='relu', input_shape=(10000,)))\n",
    "original_model.add(layers.Dense(16, activation='relu'))\n",
    "original_model.add(layers.Dense(1, activation='sigmoid'))\n",
    "\n",
    "original_model.compile(optimizer='rmsprop',loss='binary_crossentropy',metrics=['acc'])"
   ]
  },
  {
   "cell_type": "markdown",
   "metadata": {},
   "source": [
    "Now let's try to compare it with this smaller network:"
   ]
  },
  {
   "cell_type": "code",
   "execution_count": 4,
   "metadata": {
    "collapsed": true
   },
   "outputs": [],
   "source": [
    "smaller_model = models.Sequential()\n",
    "smaller_model.add(layers.Dense(8, activation='relu', input_shape=(10000,)))\n",
    "smaller_model.add(layers.Dense(8, activation='relu'))\n",
    "smaller_model.add(layers.Dense(1, activation='sigmoid'))\n",
    "\n",
    "smaller_model.compile(optimizer='rmsprop',\n",
    "                      loss='binary_crossentropy',\n",
    "                      metrics=['acc'])"
   ]
  },
  {
   "cell_type": "markdown",
   "metadata": {},
   "source": [
    "Let's train the original network:"
   ]
  },
  {
   "cell_type": "code",
   "execution_count": 5,
   "metadata": {},
   "outputs": [
    {
     "name": "stdout",
     "output_type": "stream",
     "text": [
      "Train on 25000 samples, validate on 25000 samples\n",
      "Epoch 1/20\n",
      "25000/25000 [==============================] - 6s 254us/step - loss: 0.4438 - acc: 0.8245 - val_loss: 0.3286 - val_acc: 0.8848\n",
      "Epoch 2/20\n",
      "25000/25000 [==============================] - 5s 202us/step - loss: 0.2575 - acc: 0.9084 - val_loss: 0.2859 - val_acc: 0.8888\n",
      "Epoch 3/20\n",
      "25000/25000 [==============================] - 5s 216us/step - loss: 0.1992 - acc: 0.9286 - val_loss: 0.2821 - val_acc: 0.8887\n",
      "Epoch 4/20\n",
      "25000/25000 [==============================] - 6s 233us/step - loss: 0.1664 - acc: 0.9415 - val_loss: 0.2942 - val_acc: 0.8839\n",
      "Epoch 5/20\n",
      "25000/25000 [==============================] - 7s 273us/step - loss: 0.1427 - acc: 0.9502 - val_loss: 0.3119 - val_acc: 0.8804\n",
      "Epoch 6/20\n",
      "25000/25000 [==============================] - 6s 254us/step - loss: 0.1248 - acc: 0.9562 - val_loss: 0.3506 - val_acc: 0.8717\n",
      "Epoch 7/20\n",
      "25000/25000 [==============================] - 6s 234us/step - loss: 0.1099 - acc: 0.9625 - val_loss: 0.3592 - val_acc: 0.8731: 2\n",
      "Epoch 8/20\n",
      "25000/25000 [==============================] - 5s 193us/step - loss: 0.0963 - acc: 0.9677 - val_loss: 0.3985 - val_acc: 0.8657\n",
      "Epoch 9/20\n",
      "25000/25000 [==============================] - 6s 223us/step - loss: 0.0835 - acc: 0.9723 - val_loss: 0.4253 - val_acc: 0.8636\n",
      "Epoch 10/20\n",
      "25000/25000 [==============================] - 8s 327us/step - loss: 0.0725 - acc: 0.9776 - val_loss: 0.5083 - val_acc: 0.8518\n",
      "Epoch 11/20\n",
      "25000/25000 [==============================] - 6s 241us/step - loss: 0.0668 - acc: 0.9783 - val_loss: 0.4886 - val_acc: 0.8601\n",
      "Epoch 12/20\n",
      "25000/25000 [==============================] - 6s 242us/step - loss: 0.0543 - acc: 0.9836 - val_loss: 0.5242 - val_acc: 0.8576\n",
      "Epoch 13/20\n",
      "25000/25000 [==============================] - 6s 252us/step - loss: 0.0488 - acc: 0.9850 - val_loss: 0.5354 - val_acc: 0.8588\n",
      "Epoch 14/20\n",
      "25000/25000 [==============================] - 7s 281us/step - loss: 0.0398 - acc: 0.9890 - val_loss: 0.6432 - val_acc: 0.8468\n",
      "Epoch 15/20\n",
      "25000/25000 [==============================] - 8s 311us/step - loss: 0.0365 - acc: 0.9897 - val_loss: 0.6046 - val_acc: 0.8550\n",
      "Epoch 16/20\n",
      "25000/25000 [==============================] - 7s 282us/step - loss: 0.0273 - acc: 0.9930 - val_loss: 0.6588 - val_acc: 0.8512\n",
      "Epoch 17/20\n",
      "25000/25000 [==============================] - 7s 269us/step - loss: 0.0266 - acc: 0.9919 - val_loss: 0.6808 - val_acc: 0.8536\n",
      "Epoch 18/20\n",
      "25000/25000 [==============================] - 5s 200us/step - loss: 0.0184 - acc: 0.9956 - val_loss: 0.7197 - val_acc: 0.8522\n",
      "Epoch 19/20\n",
      "25000/25000 [==============================] - 6s 223us/step - loss: 0.0163 - acc: 0.9965 - val_loss: 0.7568 - val_acc: 0.8498\n",
      "Epoch 20/20\n",
      "25000/25000 [==============================] - 7s 298us/step - loss: 0.0148 - acc: 0.9962 - val_loss: 0.9642 - val_acc: 0.8326\n"
     ]
    }
   ],
   "source": [
    "original_hist = original_model.fit(x_train, y_train,\n",
    "                                   epochs=20,\n",
    "                                   batch_size=512,\n",
    "                                   validation_data=(x_test, y_test))"
   ]
  },
  {
   "cell_type": "markdown",
   "metadata": {},
   "source": [
    "We now train the smaller network:"
   ]
  },
  {
   "cell_type": "code",
   "execution_count": 6,
   "metadata": {},
   "outputs": [
    {
     "name": "stdout",
     "output_type": "stream",
     "text": [
      "Train on 25000 samples, validate on 25000 samples\n",
      "Epoch 1/20\n",
      "25000/25000 [==============================] - 7s 273us/step - loss: 0.4885 - acc: 0.8174 - val_loss: 0.3819 - val_acc: 0.8708\n",
      "Epoch 2/20\n",
      "25000/25000 [==============================] - 7s 289us/step - loss: 0.2992 - acc: 0.9024 - val_loss: 0.3051 - val_acc: 0.8863\n",
      "Epoch 3/20\n",
      "25000/25000 [==============================] - 7s 271us/step - loss: 0.2278 - acc: 0.9224 - val_loss: 0.2813 - val_acc: 0.8902\n",
      "Epoch 4/20\n",
      "25000/25000 [==============================] - 7s 283us/step - loss: 0.1897 - acc: 0.9338 - val_loss: 0.2800 - val_acc: 0.8880\n",
      "Epoch 5/20\n",
      "25000/25000 [==============================] - 6s 255us/step - loss: 0.1642 - acc: 0.9436 - val_loss: 0.2872 - val_acc: 0.8855\n",
      "Epoch 6/20\n",
      "25000/25000 [==============================] - 6s 256us/step - loss: 0.1455 - acc: 0.9501 - val_loss: 0.2988 - val_acc: 0.8832\n",
      "Epoch 7/20\n",
      "25000/25000 [==============================] - 8s 320us/step - loss: 0.1291 - acc: 0.9570 - val_loss: 0.3142 - val_acc: 0.8791\n",
      "Epoch 8/20\n",
      "25000/25000 [==============================] - 6s 258us/step - loss: 0.1164 - acc: 0.9619 - val_loss: 0.3285 - val_acc: 0.8778\n",
      "Epoch 9/20\n",
      "25000/25000 [==============================] - 7s 264us/step - loss: 0.1029 - acc: 0.9675 - val_loss: 0.3478 - val_acc: 0.8745\n",
      "Epoch 10/20\n",
      "25000/25000 [==============================] - 7s 269us/step - loss: 0.0929 - acc: 0.9705 - val_loss: 0.3680 - val_acc: 0.8718\n",
      "Epoch 11/20\n",
      "25000/25000 [==============================] - 7s 264us/step - loss: 0.0818 - acc: 0.9756 - val_loss: 0.3932 - val_acc: 0.8684\n",
      "Epoch 12/20\n",
      "25000/25000 [==============================] - 7s 283us/step - loss: 0.0720 - acc: 0.9787 - val_loss: 0.4215 - val_acc: 0.8666\n",
      "Epoch 13/20\n",
      "25000/25000 [==============================] - 7s 299us/step - loss: 0.0630 - acc: 0.9824 - val_loss: 0.4419 - val_acc: 0.8637\n",
      "Epoch 14/20\n",
      "25000/25000 [==============================] - 6s 255us/step - loss: 0.0551 - acc: 0.9849 - val_loss: 0.4680 - val_acc: 0.8624\n",
      "Epoch 15/20\n",
      "25000/25000 [==============================] - 6s 258us/step - loss: 0.0480 - acc: 0.9878 - val_loss: 0.4952 - val_acc: 0.8603\n",
      "Epoch 16/20\n",
      "25000/25000 [==============================] - 5s 198us/step - loss: 0.0397 - acc: 0.9905 - val_loss: 0.5881 - val_acc: 0.8491\n",
      "Epoch 17/20\n",
      "25000/25000 [==============================] - 5s 199us/step - loss: 0.0352 - acc: 0.9916 - val_loss: 0.5560 - val_acc: 0.8570\n",
      "Epoch 18/20\n",
      "25000/25000 [==============================] - 5s 197us/step - loss: 0.0298 - acc: 0.9931 - val_loss: 0.5808 - val_acc: 0.8567\n",
      "Epoch 19/20\n",
      "25000/25000 [==============================] - 5s 194us/step - loss: 0.0249 - acc: 0.9942 - val_loss: 0.6132 - val_acc: 0.8555\n",
      "Epoch 20/20\n",
      "25000/25000 [==============================] - 5s 203us/step - loss: 0.0206 - acc: 0.9960 - val_loss: 0.6426 - val_acc: 0.8543\n"
     ]
    }
   ],
   "source": [
    "smaller_model_hist = smaller_model.fit(x_train, y_train,\n",
    "                                       epochs=20,\n",
    "                                       batch_size=512,\n",
    "                                       validation_data=(x_test, y_test))"
   ]
  },
  {
   "cell_type": "markdown",
   "metadata": {},
   "source": [
    "Here's a comparison of the validation losses of the original network and the smaller network. The dots are the validation loss values of \n",
    "the smaller network, and the crosses are the initial network (remember: a lower validation loss indicates a better model)."
   ]
  },
  {
   "cell_type": "code",
   "execution_count": 7,
   "metadata": {},
   "outputs": [],
   "source": [
    "import matplotlib.pyplot as plt"
   ]
  },
  {
   "cell_type": "code",
   "execution_count": 8,
   "metadata": {},
   "outputs": [
    {
     "data": {
      "image/png": "[encoded data removed]",
      "text/plain": [
       "<Figure size 432x288 with 1 Axes>"
      ]
     },
     "metadata": {},
     "output_type": "display_data"
    }
   ],
   "source": [
    "%matplotlib inline\n",
    "epochs = range(1, 21)\n",
    "original_val_loss = original_hist.history['val_loss']\n",
    "smaller_model_val_loss = smaller_model_hist.history['val_loss']\n",
    "\n",
    "# b+ is for \"blue cross\"\n",
    "plt.plot(epochs, original_val_loss, 'b+', label='Original model')\n",
    "# \"bo\" is for \"blue dot\"\n",
    "plt.plot(epochs, smaller_model_val_loss, 'bo', label='Smaller model')\n",
    "plt.xlabel('Epochs')\n",
    "plt.ylabel('Validation loss')\n",
    "plt.legend()\n",
    "\n",
    "plt.show()"
   ]
  },
  {
   "cell_type": "markdown",
   "metadata": {},
   "source": [
    "\n",
    "As you can see, the smaller network starts overfitting later than the reference one (after 6 epochs rather than 4) and its performance \n",
    "degrades much more slowly once it starts overfitting.\n",
    "\n",
    "Now, for kicks, let's add to this benchmark a network that has much more capacity, far more than the problem would warrant:"
   ]
  },
  {
   "cell_type": "code",
   "execution_count": 9,
   "metadata": {
    "collapsed": true
   },
   "outputs": [],
   "source": [
    "bigger_model = models.Sequential()\n",
    "bigger_model.add(layers.Dense(512, activation='relu', input_shape=(10000,)))\n",
    "bigger_model.add(layers.Dense(512, activation='relu'))\n",
    "bigger_model.add(layers.Dense(1, activation='sigmoid'))\n",
    "\n",
    "bigger_model.compile(optimizer='rmsprop',\n",
    "                     loss='binary_crossentropy',\n",
    "                     metrics=['acc'])"
   ]
  },
  {
   "cell_type": "code",
   "execution_count": 10,
   "metadata": {},
   "outputs": [
    {
     "name": "stdout",
     "output_type": "stream",
     "text": [
      "Train on 25000 samples, validate on 25000 samples\n",
      "Epoch 1/20\n",
      "25000/25000 [==============================] - 26s 1ms/step - loss: 0.4653 - acc: 0.7944 - val_loss: 0.2875 - val_acc: 0.8886\n",
      "Epoch 2/20\n",
      "25000/25000 [==============================] - 26s 1ms/step - loss: 0.2240 - acc: 0.9118 - val_loss: 0.2761 - val_acc: 0.8867\n",
      "Epoch 3/20\n",
      "25000/25000 [==============================] - 25s 985us/step - loss: 0.1257 - acc: 0.9537 - val_loss: 0.3967 - val_acc: 0.8708\n",
      "Epoch 4/20\n",
      "25000/25000 [==============================] - 26s 1ms/step - loss: 0.0701 - acc: 0.9812 - val_loss: 0.4333 - val_acc: 0.8814\n",
      "Epoch 5/20\n",
      "25000/25000 [==============================] - 24s 957us/step - loss: 0.0838 - acc: 0.9864 - val_loss: 0.5035 - val_acc: 0.8820\n",
      "Epoch 6/20\n",
      "25000/25000 [==============================] - 24s 963us/step - loss: 0.0821 - acc: 0.9878 - val_loss: 0.5151 - val_acc: 0.8776\n",
      "Epoch 7/20\n",
      "25000/25000 [==============================] - 25s 1ms/step - loss: 0.0017 - acc: 0.9998 - val_loss: 0.6315 - val_acc: 0.8807\n",
      "Epoch 8/20\n",
      "25000/25000 [==============================] - 25s 1ms/step - loss: 1.9847e-04 - acc: 1.0000 - val_loss: 0.7832 - val_acc: 0.8768\n",
      "Epoch 9/20\n",
      "25000/25000 [==============================] - 25s 988us/step - loss: 1.9580e-05 - acc: 1.0000 - val_loss: 0.8828 - val_acc: 0.8781\n",
      "Epoch 10/20\n",
      "25000/25000 [==============================] - 26s 1ms/step - loss: 0.1239 - acc: 0.9886 - val_loss: 0.9637 - val_acc: 0.8713\n",
      "Epoch 11/20\n",
      "25000/25000 [==============================] - 25s 992us/step - loss: 0.0386 - acc: 0.9923 - val_loss: 0.6842 - val_acc: 0.8748\n",
      "Epoch 12/20\n",
      "25000/25000 [==============================] - 24s 961us/step - loss: 7.5355e-05 - acc: 1.0000 - val_loss: 0.7464 - val_acc: 0.8764\n",
      "Epoch 13/20\n",
      "25000/25000 [==============================] - 28s 1ms/step - loss: 1.3240e-05 - acc: 1.0000 - val_loss: 0.8295 - val_acc: 0.8774\n",
      "Epoch 14/20\n",
      "25000/25000 [==============================] - 22s 860us/step - loss: 2.3278e-06 - acc: 1.0000 - val_loss: 0.9217 - val_acc: 0.8774\n",
      "Epoch 15/20\n",
      "25000/25000 [==============================] - 19s 753us/step - loss: 4.8089e-07 - acc: 1.0000 - val_loss: 1.0020 - val_acc: 0.8768\n",
      "Epoch 16/20\n",
      "25000/25000 [==============================] - 19s 752us/step - loss: 1.8094e-07 - acc: 1.0000 - val_loss: 1.0541 - val_acc: 0.8768\n",
      "Epoch 17/20\n",
      "25000/25000 [==============================] - 19s 747us/step - loss: 1.2818e-07 - acc: 1.0000 - val_loss: 1.0817 - val_acc: 0.8765\n",
      "Epoch 18/20\n",
      "25000/25000 [==============================] - 19s 742us/step - loss: 1.1744e-07 - acc: 1.0000 - val_loss: 1.0952 - val_acc: 0.8766\n",
      "Epoch 19/20\n",
      "25000/25000 [==============================] - 19s 763us/step - loss: 1.1401e-07 - acc: 1.0000 - val_loss: 1.1028 - val_acc: 0.8766\n",
      "Epoch 20/20\n",
      "25000/25000 [==============================] - 19s 743us/step - loss: 1.1235e-07 - acc: 1.0000 - val_loss: 1.1086 - val_acc: 0.8764\n"
     ]
    }
   ],
   "source": [
    "bigger_model_hist = bigger_model.fit(x_train, y_train,\n",
    "                                     epochs=20,\n",
    "                                     batch_size=512,\n",
    "                                     validation_data=(x_test, y_test))"
   ]
  },
  {
   "cell_type": "markdown",
   "metadata": {},
   "source": [
    "Here's how the bigger network fares compared to the reference one. The dots are the validation loss values of the bigger network, and the \n",
    "crosses are the initial network."
   ]
  },
  {
   "cell_type": "code",
   "execution_count": 11,
   "metadata": {},
   "outputs": [
    {
     "data": {
      "image/png": "[encoded data removed]",
      "text/plain": [
       "<Figure size 432x288 with 1 Axes>"
      ]
     },
     "metadata": {},
     "output_type": "display_data"
    }
   ],
   "source": [
    "bigger_model_val_loss = bigger_model_hist.history['val_loss']\n",
    "\n",
    "plt.plot(epochs, original_val_loss, 'b+', label='Original model')\n",
    "plt.plot(epochs, bigger_model_val_loss, 'bo', label='Bigger model')\n",
    "plt.xlabel('Epochs')\n",
    "plt.ylabel('Validation loss')\n",
    "plt.legend()\n",
    "\n",
    "plt.show()"
   ]
  },
  {
   "cell_type": "markdown",
   "metadata": {},
   "source": [
    "\n",
    "The bigger network starts overfitting almost right away, after just one epoch, and overfits much more severely. Its validation loss is also \n",
    "more noisy.\n",
    "\n",
    "Meanwhile, here are the training losses for our two networks:"
   ]
  },
  {
   "cell_type": "code",
   "execution_count": 12,
   "metadata": {},
   "outputs": [
    {
     "data": {
      "image/png": "[encoded data removed]",
      "text/plain": [
       "<Figure size 432x288 with 1 Axes>"
      ]
     },
     "metadata": {},
     "output_type": "display_data"
    }
   ],
   "source": [
    "original_train_loss = original_hist.history['loss']\n",
    "bigger_model_train_loss = bigger_model_hist.history['loss']\n",
    "\n",
    "plt.plot(epochs, original_train_loss, 'b+', label='Original model')\n",
    "plt.plot(epochs, bigger_model_train_loss, 'bo', label='Bigger model')\n",
    "plt.xlabel('Epochs')\n",
    "plt.ylabel('Training loss')\n",
    "plt.legend()\n",
    "\n",
    "plt.show()"
   ]
  },
  {
   "cell_type": "markdown",
   "metadata": {},
   "source": [
    "As you can see, the bigger network gets its training loss near zero very quickly. The more capacity the network has, the quicker it will be \n",
    "able to model the training data (resulting in a low training loss), but the more susceptible it is to overfitting (resulting in a large \n",
    "difference between the training and validation loss)."
   ]
  },
  {
   "cell_type": "markdown",
   "metadata": {},
   "source": [
    "## Adding weight regularization\n",
    "\n",
    "\n",
    "You may be familiar with _Occam's Razor_ principle: given two explanations for something, the explanation most likely to be correct is the \n",
    "\"simplest\" one, the one that makes the least amount of assumptions. This also applies to the models learned by neural networks: given some \n",
    "training data and a network architecture, there are multiple sets of weights values (multiple _models_) that could explain the data, and \n",
    "simpler models are less likely to overfit than complex ones.\n",
    "\n",
    "A \"simple model\" in this context is a model where the distribution of parameter values has less entropy (or a model with fewer \n",
    "parameters altogether, as we saw in the section above). Thus a common way to mitigate overfitting is to put constraints on the complexity \n",
    "of a network by forcing its weights to only take small values, which makes the distribution of weight values more \"regular\". This is called \n",
    "\"weight regularization\", and it is done by adding to the loss function of the network a _cost_ associated with having large weights. This \n",
    "cost comes in two flavors:\n",
    "\n",
    "* L1 regularization, where the cost added is proportional to the _absolute value of the weights coefficients_ (i.e. to what is called the \n",
    "\"L1 norm\" of the weights).\n",
    "* L2 regularization, where the cost added is proportional to the _square of the value of the weights coefficients_ (i.e. to what is called \n",
    "the \"L2 norm\" of the weights). L2 regularization is also called _weight decay_ in the context of neural networks. \n",
    "\n",
    "In Keras, weight regularization is added by passing _weight regularizer instances_ to layers as keyword arguments. Let's add L2 weight \n",
    "regularization to our movie review classification network:"
   ]
  },
  {
   "cell_type": "code",
   "execution_count": 13,
   "metadata": {
    "collapsed": true
   },
   "outputs": [],
   "source": [
    "from keras import regularizers\n",
    "\n",
    "l2_model = models.Sequential()\n",
    "l2_model.add(layers.Dense(16, kernel_regularizer=regularizers.l2(0.001),activation='relu', input_shape=(10000,)))\n",
    "l2_model.add(layers.Dense(16, kernel_regularizer=regularizers.l2(0.001),activation='relu'))\n",
    "l2_model.add(layers.Dense(1, activation='sigmoid'))"
   ]
  },
  {
   "cell_type": "code",
   "execution_count": 14,
   "metadata": {
    "collapsed": true
   },
   "outputs": [],
   "source": [
    "l2_model.compile(optimizer='rmsprop',loss='binary_crossentropy',metrics=['acc'])"
   ]
  },
  {
   "cell_type": "markdown",
   "metadata": {},
   "source": [
    "`l2(0.001)` means that every coefficient in the weight matrix of the layer will add `0.001 * weight_coefficient_value` to the total loss of \n",
    "the network. Note that because this penalty is _only added at training time_, the loss for this network will be much higher at training \n",
    "than at test time.\n",
    "\n",
    "Here's the impact of our L2 regularization penalty:"
   ]
  },
  {
   "cell_type": "code",
   "execution_count": 15,
   "metadata": {},
   "outputs": [
    {
     "name": "stdout",
     "output_type": "stream",
     "text": [
      "Train on 25000 samples, validate on 25000 samples\n",
      "Epoch 1/20\n",
      "25000/25000 [==============================] - 5s 205us/step - loss: 0.4879 - acc: 0.8152 - val_loss: 0.3895 - val_acc: 0.8656\n",
      "Epoch 2/20\n",
      "25000/25000 [==============================] - 5s 193us/step - loss: 0.3100 - acc: 0.9061 - val_loss: 0.3306 - val_acc: 0.8891\n",
      "Epoch 3/20\n",
      "25000/25000 [==============================] - 5s 193us/step - loss: 0.2656 - acc: 0.9203 - val_loss: 0.3303 - val_acc: 0.8871\n",
      "Epoch 4/20\n",
      "25000/25000 [==============================] - 5s 196us/step - loss: 0.2459 - acc: 0.9287 - val_loss: 0.3415 - val_acc: 0.8821\n",
      "Epoch 5/20\n",
      "25000/25000 [==============================] - 5s 193us/step - loss: 0.2323 - acc: 0.9351 - val_loss: 0.3806 - val_acc: 0.8687\n",
      "Epoch 6/20\n",
      "25000/25000 [==============================] - 5s 192us/step - loss: 0.2237 - acc: 0.9389 - val_loss: 0.3676 - val_acc: 0.8750\n",
      "Epoch 7/20\n",
      "25000/25000 [==============================] - 5s 195us/step - loss: 0.2173 - acc: 0.9410 - val_loss: 0.3747 - val_acc: 0.8736\n",
      "Epoch 8/20\n",
      "25000/25000 [==============================] - 5s 193us/step - loss: 0.2103 - acc: 0.9446 - val_loss: 0.3732 - val_acc: 0.8752\n",
      "Epoch 9/20\n",
      "25000/25000 [==============================] - 5s 198us/step - loss: 0.2043 - acc: 0.9460 - val_loss: 0.3765 - val_acc: 0.8754\n",
      "Epoch 10/20\n",
      "25000/25000 [==============================] - 5s 194us/step - loss: 0.2007 - acc: 0.9498 - val_loss: 0.3818 - val_acc: 0.8746\n",
      "Epoch 11/20\n",
      "25000/25000 [==============================] - 5s 193us/step - loss: 0.1947 - acc: 0.9494 - val_loss: 0.3838 - val_acc: 0.8750\n",
      "Epoch 12/20\n",
      "25000/25000 [==============================] - 5s 194us/step - loss: 0.1918 - acc: 0.9521 - val_loss: 0.3933 - val_acc: 0.8744\n",
      "Epoch 13/20\n",
      "25000/25000 [==============================] - 5s 195us/step - loss: 0.1877 - acc: 0.9542 - val_loss: 0.3969 - val_acc: 0.8730\n",
      "Epoch 14/20\n",
      "25000/25000 [==============================] - 5s 196us/step - loss: 0.1808 - acc: 0.9570 - val_loss: 0.4251 - val_acc: 0.8662\n",
      "Epoch 15/20\n",
      "25000/25000 [==============================] - 5s 194us/step - loss: 0.1804 - acc: 0.9583 - val_loss: 0.4562 - val_acc: 0.8570\n",
      "Epoch 16/20\n",
      "25000/25000 [==============================] - 5s 198us/step - loss: 0.1749 - acc: 0.9606 - val_loss: 0.4414 - val_acc: 0.8653\n",
      "Epoch 17/20\n",
      "25000/25000 [==============================] - 5s 193us/step - loss: 0.1705 - acc: 0.9622 - val_loss: 0.4213 - val_acc: 0.8708\n",
      "Epoch 18/20\n",
      "25000/25000 [==============================] - 5s 193us/step - loss: 0.1676 - acc: 0.9637 - val_loss: 0.4353 - val_acc: 0.8680\n",
      "Epoch 19/20\n",
      "25000/25000 [==============================] - 5s 194us/step - loss: 0.1644 - acc: 0.9645 - val_loss: 0.4488 - val_acc: 0.8636\n",
      "Epoch 20/20\n",
      "25000/25000 [==============================] - 5s 203us/step - loss: 0.1601 - acc: 0.9666 - val_loss: 0.4406 - val_acc: 0.8664\n"
     ]
    }
   ],
   "source": [
    "l2_model_hist = l2_model.fit(x_train, y_train,epochs=20,batch_size=512,validation_data=(x_test, y_test))"
   ]
  },
  {
   "cell_type": "code",
   "execution_count": 16,
   "metadata": {},
   "outputs": [
    {
     "data": {
      "image/png": "[encoded data removed]",
      "text/plain": [
       "<Figure size 432x288 with 1 Axes>"
      ]
     },
     "metadata": {},
     "output_type": "display_data"
    }
   ],
   "source": [
    "l2_model_val_loss = l2_model_hist.history['val_loss']\n",
    "\n",
    "plt.plot(epochs, original_val_loss, 'b+', label='Original model')\n",
    "plt.plot(epochs, l2_model_val_loss, 'bo', label='L2-regularized model')\n",
    "plt.xlabel('Epochs')\n",
    "plt.ylabel('Validation loss')\n",
    "plt.legend()\n",
    "\n",
    "plt.show()"
   ]
  },
  {
   "cell_type": "markdown",
   "metadata": {},
   "source": [
    "As you can see, the model with L2 regularization (dots) has become much more resistant to overfitting than the reference model (crosses), even though both models have the same number of parameters."
   ]
  },
  {
   "cell_type": "markdown",
   "metadata": {},
   "source": [
    "## Adding dropout\n",
    "\n",
    "\n",
    "Dropout is one of the most effective and most commonly used regularization techniques for neural networks, developed by Hinton and his \n",
    "students at the University of Toronto. Dropout, applied to a layer, consists of randomly \"dropping out\" (i.e. setting to zero) a number of \n",
    "output features of the layer during training. Let's say a given layer would normally have returned a vector `[0.2, 0.5, 1.3, 0.8, 1.1]` for a given input sample during training; after applying dropout, this vector will have a few zero entries distributed at random, e.g. `[0, 0.5,1.3, 0, 1.1]`. The \"dropout rate\" is the fraction of the features that are being zeroed-out; it is usually set between 0.2 and 0.5. At test \n",
    "time, no units are dropped out, and instead the layer's output values are scaled down by a factor equal to the dropout rate, so as to balance for the fact that more units are active than at training time."
   ]
  },
  {
   "cell_type": "markdown",
   "metadata": {},
   "source": [
    "This technique may seem strange and arbitrary. Why would this help reduce overfitting? The core idea is that introducing noise in the output values of a layer can break up happenstance patterns that are not significant (\"conspiracies\"), which the network would start memorizing if no noise was present. \n",
    "\n",
    "In Keras you can introduce dropout in a network via the `Dropout` layer, which gets applied to the output of layer right before it, e.g.:\n",
    "\n",
    "``` python\n",
    "model.add(layers.Dropout(0.5))\n",
    "```"
   ]
  },
  {
   "cell_type": "markdown",
   "metadata": {},
   "source": [
    "Let's add two `Dropout` layers in our IMDB network to see how well they do at reducing overfitting:"
   ]
  },
  {
   "cell_type": "code",
   "execution_count": 17,
   "metadata": {
    "collapsed": true
   },
   "outputs": [],
   "source": [
    "dpt_model = models.Sequential()\n",
    "dpt_model.add(layers.Dense(16, activation='relu', input_shape=(10000,)))\n",
    "dpt_model.add(layers.Dropout(0.5))\n",
    "dpt_model.add(layers.Dense(16, activation='relu'))\n",
    "dpt_model.add(layers.Dropout(0.5))\n",
    "dpt_model.add(layers.Dense(1, activation='sigmoid'))\n",
    "\n",
    "dpt_model.compile(optimizer='rmsprop',loss='binary_crossentropy',metrics=['acc'])"
   ]
  },
  {
   "cell_type": "code",
   "execution_count": 18,
   "metadata": {},
   "outputs": [
    {
     "name": "stdout",
     "output_type": "stream",
     "text": [
      "Train on 25000 samples, validate on 25000 samples\n",
      "Epoch 1/20\n",
      "25000/25000 [==============================] - 5s 213us/step - loss: 0.5906 - acc: 0.6839 - val_loss: 0.4324 - val_acc: 0.8620\n",
      "Epoch 2/20\n",
      "25000/25000 [==============================] - 5s 198us/step - loss: 0.4359 - acc: 0.8186 - val_loss: 0.3475 - val_acc: 0.8706\n",
      "Epoch 3/20\n",
      "25000/25000 [==============================] - 5s 198us/step - loss: 0.3469 - acc: 0.8714 - val_loss: 0.2912 - val_acc: 0.8872\n",
      "Epoch 4/20\n",
      "25000/25000 [==============================] - 5s 197us/step - loss: 0.2881 - acc: 0.8983 - val_loss: 0.2765 - val_acc: 0.8884\n",
      "Epoch 5/20\n",
      "25000/25000 [==============================] - 5s 198us/step - loss: 0.2531 - acc: 0.9136 - val_loss: 0.2802 - val_acc: 0.8884\n",
      "Epoch 6/20\n",
      "25000/25000 [==============================] - 5s 199us/step - loss: 0.2219 - acc: 0.9265 - val_loss: 0.2889 - val_acc: 0.8874\n",
      "Epoch 7/20\n",
      "25000/25000 [==============================] - 5s 198us/step - loss: 0.1967 - acc: 0.9357 - val_loss: 0.3212 - val_acc: 0.8852\n",
      "Epoch 8/20\n",
      "25000/25000 [==============================] - 5s 198us/step - loss: 0.1760 - acc: 0.9430 - val_loss: 0.3319 - val_acc: 0.8854\n",
      "Epoch 9/20\n",
      "25000/25000 [==============================] - 5s 204us/step - loss: 0.1706 - acc: 0.9460 - val_loss: 0.3592 - val_acc: 0.8842\n",
      "Epoch 10/20\n",
      "25000/25000 [==============================] - 5s 199us/step - loss: 0.1512 - acc: 0.9503 - val_loss: 0.3761 - val_acc: 0.8829\n",
      "Epoch 11/20\n",
      "25000/25000 [==============================] - 5s 199us/step - loss: 0.1458 - acc: 0.9531 - val_loss: 0.3965 - val_acc: 0.8816\n",
      "Epoch 12/20\n",
      "25000/25000 [==============================] - 5s 199us/step - loss: 0.1371 - acc: 0.9574 - val_loss: 0.4338 - val_acc: 0.8757\n",
      "Epoch 13/20\n",
      "25000/25000 [==============================] - 5s 199us/step - loss: 0.1241 - acc: 0.9608 - val_loss: 0.4646 - val_acc: 0.8754\n",
      "Epoch 14/20\n",
      "25000/25000 [==============================] - 5s 203us/step - loss: 0.1190 - acc: 0.9614 - val_loss: 0.4474 - val_acc: 0.8759\n",
      "Epoch 15/20\n",
      "25000/25000 [==============================] - 5s 201us/step - loss: 0.1142 - acc: 0.9635 - val_loss: 0.4946 - val_acc: 0.8752\n",
      "Epoch 16/20\n",
      "25000/25000 [==============================] - 5s 191us/step - loss: 0.1137 - acc: 0.9647 - val_loss: 0.5107 - val_acc: 0.8758\n",
      "Epoch 17/20\n",
      "25000/25000 [==============================] - 5s 194us/step - loss: 0.1087 - acc: 0.9656 - val_loss: 0.5638 - val_acc: 0.8703\n",
      "Epoch 18/20\n",
      "25000/25000 [==============================] - 5s 190us/step - loss: 0.1097 - acc: 0.9660 - val_loss: 0.5409 - val_acc: 0.8746\n",
      "Epoch 19/20\n",
      "25000/25000 [==============================] - 5s 196us/step - loss: 0.0983 - acc: 0.9685 - val_loss: 0.5627 - val_acc: 0.8737\n",
      "Epoch 20/20\n",
      "25000/25000 [==============================] - 5s 195us/step - loss: 0.1015 - acc: 0.9682 - val_loss: 0.5862 - val_acc: 0.8734\n"
     ]
    }
   ],
   "source": [
    "dpt_model_hist = dpt_model.fit(x_train, y_train,\n",
    "                               epochs=20,\n",
    "                               batch_size=512,\n",
    "                               validation_data=(x_test, y_test))"
   ]
  },
  {
   "cell_type": "markdown",
   "metadata": {},
   "source": [
    "Let's plot the results:"
   ]
  },
  {
   "cell_type": "code",
   "execution_count": 19,
   "metadata": {},
   "outputs": [
    {
     "data": {
      "image/png": "[encoded data removed]",
      "text/plain": [
       "<Figure size 432x288 with 1 Axes>"
      ]
     },
     "metadata": {},
     "output_type": "display_data"
    }
   ],
   "source": [
    "dpt_model_val_loss = dpt_model_hist.history['val_loss']\n",
    "\n",
    "plt.plot(epochs, original_val_loss, 'b+', label='Original model')\n",
    "plt.plot(epochs, dpt_model_val_loss, 'bo', label='Dropout-regularized model')\n",
    "plt.xlabel('Epochs')\n",
    "plt.ylabel('Validation loss')\n",
    "plt.legend()\n",
    "\n",
    "plt.show()"
   ]
  },
  {
   "cell_type": "markdown",
   "metadata": {},
   "source": [
    "\n",
    "Again, a clear improvement over the reference network.\n",
    "\n",
    "To recap: here the most common ways to prevent overfitting in neural networks:\n",
    "\n",
    "* Getting more training data.\n",
    "* Reducing the capacity of the network.\n",
    "* Adding weight regularization.\n",
    "* Adding dropout."
   ]
  }
 ],
 "metadata": {
  "kernelspec": {
   "display_name": "Python 3",
   "language": "python",
   "name": "python3"
  },
  "language_info": {
   "codemirror_mode": {
    "name": "ipython",
    "version": 3
   },
   "file_extension": ".py",
   "mimetype": "text/x-python",
   "name": "python",
   "nbconvert_exporter": "python",
   "pygments_lexer": "ipython3",
   "version": "3.6.1"
  },
  "varInspector": {
   "cols": {
    "lenName": 16,
    "lenType": 16,
    "lenVar": 40
   },
   "kernels_config": {
    "python": {
     "delete_cmd_postfix": "",
     "delete_cmd_prefix": "del ",
     "library": "var_list.py",
     "varRefreshCmd": "print(var_dic_list())"
    },
    "r": {
     "delete_cmd_postfix": ") ",
     "delete_cmd_prefix": "rm(",
     "library": "var_list.r",
     "varRefreshCmd": "cat(var_dic_list()) "
    }
   },
   "types_to_exclude": [
    "module",
    "function",
    "builtin_function_or_method",
    "instance",
    "_Feature"
   ],
   "window_display": false
  }
 },
 "nbformat": 4,
 "nbformat_minor": 2
}
